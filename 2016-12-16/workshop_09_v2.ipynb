{
 "cells": [
  {
   "cell_type": "code",
   "execution_count": 1,
   "metadata": {
    "collapsed": false
   },
   "outputs": [
    {
     "name": "stdout",
     "output_type": "stream",
     "text": [
      "Evaluating fenvs.py..\n",
      "...fenvs.py imported in 0.004764 seconds\n"
     ]
    }
   ],
   "source": [
    "from pyplasm import *\n",
    "from numpy import ones,vstack\n",
    "from numpy.linalg import lstsq\n",
    "import numpy as np\n",
    "from numpy.linalg import norm\n"
   ]
  },
  {
   "cell_type": "code",
   "execution_count": 315,
   "metadata": {
    "collapsed": false
   },
   "outputs": [],
   "source": [
    "\"\"\"funzioni matematiche\"\"\"\n",
    "\n",
    "\"\"\"trova la retta passante per due punti\"\"\"\n",
    "def equation_from_2_points(p1,p2):\n",
    "    #print p1,p2\n",
    "    if(p1[1]==p2[1]):\n",
    "        result=[0,1,-p1[0]]\n",
    "        return result\n",
    "    if(p1[0]==p2[0] and p1[1]!=p2[1]):\n",
    "        result=[1,0,-p1[0]]\n",
    "        return result\n",
    "    points = [(p1[0],p1[1]),(p2[0],p2[1])]\n",
    "    x_coords, y_coords = zip(*points)\n",
    "    A = vstack([x_coords,ones(len(x_coords))]).T\n",
    "    m, c = lstsq(A, y_coords)[0]\n",
    "    result=[-1*m,1,-1*c]\n",
    "    return result\n",
    "\n",
    "\"\"\"trovare il punto d'intersezione fra 2 equazioni\"\"\"\n",
    "def equation_solver(eq1,eq2):\n",
    "    xy1=[eq1[0],eq1[1]]\n",
    "    xy2=[eq2[0],eq2[1]]\n",
    "    k=[-1*eq1[2],-1*eq2[2]]\n",
    "    a=np.array([xy1,xy2])\n",
    "    b=np.array(k)\n",
    "    x=np.linalg.solve(a,b)\n",
    "    x=[x[0],x[1]]\n",
    "    return x\n",
    "\n",
    "\"\"\"usato da bisector per tornare l'eq della retta passante per la bisettrice\"\"\"\n",
    "def build_bisector_eq(point,angle):\n",
    "    if(angle==90):\n",
    "        rect_parallel_to_y\n",
    "    toReturn=[]\n",
    "    y=1 \n",
    "    x=math.tan(-angle)        \n",
    "    k=-x*point[0]-point[1]\n",
    "    toReturn.append(x)\n",
    "    toReturn.append(y)\n",
    "    toReturn.append(k)\n",
    "    return toReturn\n",
    "\n",
    "def rect_parallel_to_y(point):\n",
    "    toReturn=[]\n",
    "    k=-point[1]\n",
    "    x=1\n",
    "    y=0\n",
    "    toReturn.append(x)\n",
    "    toReturn.append(y)\n",
    "    toReturn.append(k)\n",
    "    return toReturn\n",
    "\n",
    "''' \n",
    "trova la bisettrice passante per tre punti\n",
    "Inputs:\n",
    "    p0,p1,p2 - punti nella forma [x,y]\n",
    "'''\n",
    "def bisector(p0,p1,p2):\n",
    "    print \"p0{0}, p1{1}, p2 {2}\".format(p0,p1,p2)\n",
    "    v0 = np.array(p0) - np.array(p1)\n",
    "    v1 = np.array(p2) - np.array(p1)\n",
    "    angle = np.math.atan2(np.linalg.det([v0,v1]),np.dot(v0,v1))\n",
    "    print \"angolo {0}\".format(np.degrees(angle))\n",
    "    return build_bisector_eq(p1,angle/2)\n",
    "        \n",
    "def angles_3_point(p0,p1,p2):\n",
    "    print \"p0{0}, p1{1}, p2 {2}\".format(p0,p1,p2)\n",
    "    v0 = np.array(p0) - np.array(p1)\n",
    "    v1 = np.array(p2) - np.array(p1)\n",
    "    angle = np.math.atan2(np.linalg.det([v0,v1]),np.dot(v0,v1))\n",
    "    return angle\n",
    "        \n",
    "\n",
    "\"\"\"trova le equazioni delle bisettrici della figura\"\"\"\n",
    "def find_bisector_eq(verts,cells,size,lati):\n",
    "    result=[]\n",
    "    vertici={}\n",
    "    bisectores={}\n",
    "    i=0\n",
    "    while(i<len(verts)):\n",
    "        points=[]\n",
    "        v=i+1\n",
    "        i=i+1\n",
    "        for j in range(0,len(cells)):\n",
    "            if(len(points)==1):\n",
    "                points.append(verts[i-1])\n",
    "            if(cells[j][0]==v):\n",
    "                points.append(verts[cells[j][1]-1])\n",
    "            if(cells[j][1]==v):\n",
    "                points.append(verts[cells[j][0]-1])\n",
    "        #print points\n",
    "        index=compute_index(v,size)\n",
    "        #bisectores[index]=bisector(points[0],points[1],points[2])\n",
    "        bisectores[index]=bisector_222(lati[v],lati[(v+1)],points[1])\n",
    "        print bisectores\n",
    "        vertici[index]=points[1]\n",
    "    \n",
    "    result=[bisectores,vertici]\n",
    "    return result\n",
    "\n",
    "def bisector_222(r1,r2,p):\n",
    "    print r1,r2\n",
    "    a=(r1[0]-r2[0])/(1+r1[0]*r2[0])\n",
    "    a=abs(a)\n",
    "    a=math.atan(a)\n",
    "    print a/2\n",
    "    k=build_bisector_eq(p,a/2)\n",
    "    return k\n",
    "\n",
    "\n",
    "def find_bisector_2rette(r1,r2,v1,v2):\n",
    "    print \"stampiamo gli argomenti r1{0} r2{1} v1{2} v2{3}\".format(r1,r2,v1,v2)\n",
    "    result=[]\n",
    "    try:\n",
    "        p1=equation_solver(r1,r2)\n",
    "        if(r2[2]==0):\n",
    "            app=r2\n",
    "            r2=r1\n",
    "            r1=app\n",
    "        angles=angles_3_point(v1,p1,v2)\n",
    "        p_axis=[((1*r2[2])/(r1[0])),0]\n",
    "        print p_axis\n",
    "        angle_axis=angles_3_point([0,0],p_axis,p1)\n",
    "        angle_on_axis=(angles)/2+1*(angle_axis)\n",
    "        if(abs(np.degrees(angle_on_axis))==90):\n",
    "            angle_on_axis=90\n",
    "        newR=build_bisector_eq(p1,angle_on_axis)\n",
    "        print \"la nuova r  e {0}\".format(newR)\n",
    "        result.append(newR)\n",
    "        result.append(p1)\n",
    "        return result\n",
    "    except np.linalg.linalg.LinAlgError as err:\n",
    "        if 'Singular matrix' in err.message:\n",
    "            print \"le rette sono parallele\"\n",
    "            result.append(r1)\n",
    "            result.append(v1)\n",
    "            return result\n",
    "        \n",
    "        \n",
    "\n",
    "def checkPointEquality(v1,v2):\n",
    "\n",
    "    x1=round(v1[0], 2)\n",
    "    y1=round(v1[1], 2)\n",
    "    x2=round(v2[0], 2)\n",
    "    y2=round(v2[1], 2)\n",
    "    print \"x1y1 ({0},{1}) x2y2 ({2},{3})\".format(x1,y1,x2,y2)\n",
    "    cond= x1==x2 and y1==y2\n",
    "    return cond\n",
    "    \n",
    "    \n",
    "\n",
    "def compute_index(v,size):\n",
    "    prev=(v-1)%size\n",
    "    succ=v%size\n",
    "    if (prev==0):\n",
    "        prev=size\n",
    "    if(succ==0):\n",
    "        succ=size\n",
    "    return (prev,succ)"
   ]
  },
  {
   "cell_type": "code",
   "execution_count": 316,
   "metadata": {
    "collapsed": false
   },
   "outputs": [],
   "source": [
    "\"\"\"trova i punti del cammino in comune\"\"\"\n",
    "def find_common_path_point(bisectores,lati,vertici):\n",
    "    path_point={}\n",
    "    app=bisectores.copy()\n",
    "    i=0\n",
    "    j=0\n",
    "    point1=bisectores.keys()[0] \n",
    "    for i in range(len(bisectores.values())):\n",
    "        point2=bisectores.keys()[i]\n",
    "        print \"io ho {1} , tupla da scorrere {0}\".format(point2,point1)\n",
    "        if(point1[1]==point2[0]):\n",
    "            v1=vertici[point1]\n",
    "            v2=vertici[point2]\n",
    "            result=find_bisector_2rette(bisectores[point1],bisectores[point2],v1,v2)\n",
    "            path_retta=result[0]\n",
    "            newV=result[1]\n",
    "            point3=occhicone_method(point1,point2)\n",
    "            path_point[point3]=path_retta\n",
    "            del app[point1]\n",
    "            del app[point2]\n",
    "            \n",
    "            while (len(app.values())!=0):\n",
    "                print \"ciclo con j {1} e size {0}\".format(len(app.values()),j)\n",
    "                point2=app.keys()[j]\n",
    "                print \"tuple rimaste {0}\".format(app)\n",
    "                print \" t fissa {1}, t da provare {0}\".format(point2,point3)\n",
    "                j=j+1\n",
    "                if(tuple_equality(point2,point3)):\n",
    "                    appTuple=point3\n",
    "                    point3=occhicone_method(point3,point2)\n",
    "                    print \"nuova tupla{0}\".format(point3)\n",
    "                    print app\n",
    "                    if( app.has_key(point3) ):\n",
    "                        print \"lo contiene\"\n",
    "                        print newV\n",
    "                        v2=vertici[point2]\n",
    "                        result=find_bisector_2rette(path_retta,bisectores[point2],newV,v2)\n",
    "                        if(checkPointEquality(result[1],newV)):\n",
    "                            newV=result[1]\n",
    "                            path_retta=result[0]\n",
    "                            path_point[point3]=path_retta\n",
    "                        \n",
    "                            if( app.has_key(point3)):\n",
    "                                del app[point3]\n",
    "                            if(app.has_key((point3[1],point3[0]))):\n",
    "                                del app[(point3[1],point3[0])]\n",
    "                            point3=appTuple\n",
    "                        \n",
    "                            print \"app {0}\".format(app)\n",
    "                            j=0\n",
    "                    else:\n",
    "                        print point2\n",
    "                        print \"sono qui\"\n",
    "                        v2=vertici[point2]\n",
    "                        result=find_bisector_2rette(path_retta,bisectores[point3],newV,v2)\n",
    "                        newRect=result[0]\n",
    "                        newV=result[1]\n",
    "                        path_point[point3]=path_retta\n",
    "                        del app[point2]\n",
    "                        j=0\n",
    "                        \n",
    "                        \n",
    "            break\n",
    "    return path_point\n",
    "\n",
    "\"\"\"ritorna la coppia di numeri non in comune di due tuple\"\"\"\n",
    "def occhicone_method(t1,t2):\n",
    "    print \"occhicone su t1 {0} t2 {1}\".format(t1,t2)\n",
    "    if(t1[0]==t2[0]):\n",
    "        return (t1[1],t2[1])\n",
    "    if(t1[1]==t2[1]):\n",
    "        return (t1[0],t2[0])\n",
    "    if(t1[0]==t2[1]):\n",
    "        return (t1[1],t2[0])\n",
    "    if(t1[1]==t2[0]):\n",
    "        return (t1[0],t2[1])\n",
    "    \n",
    "def tuple_equality(t1,t2):\n",
    "    #print \"t1 {0} t2 {1}\".format(t1,t2)\n",
    "    cond1=(t1[0]==t2[1] and t1[1]!=t2[0]) or (t1[1]==t2[0] and t1[0]!=t2[1]) \n",
    "    cond2=(t1[1]==t2[1] and t1[0]!=t2[0]) or(t1[0]==t2[0] and t1[1]!=t2[1])\n",
    "    cond= cond1 or cond2\n",
    "    return cond"
   ]
  },
  {
   "cell_type": "code",
   "execution_count": 317,
   "metadata": {
    "collapsed": false
   },
   "outputs": [],
   "source": [
    "def roofFromLines(verts,cells):\n",
    "    polyline=SKEL_1(MKPOL([verts,cells,1]))\n",
    "    lati={}\n",
    "    vertici={}\n",
    "    i=0\n",
    "    j=0\n",
    "    size=len(verts)\n",
    "   \n",
    "    while(i<len(cells)):\n",
    "        k=i+1\n",
    "        lato=equation_from_2_points(verts[cells[i][0]-1],verts[cells[i][1]-1])\n",
    "        lati[k]=lato\n",
    "        i=i+1\n",
    "    print lati\n",
    "    result=find_bisector_eq(verts,cells,size,lati)\n",
    "    bisectores=result[0]\n",
    "    vertici=result[1]\n",
    "        \n",
    "    path_point=find_common_path_point(bisectores,lati,vertici)\n",
    "    \n",
    "    print path_point\n",
    "    print \"vertici: {0} \".format(vertici)\n",
    "    print \"bisettrici: {0} \".format(bisectores)\n",
    "    print \"lati: {0} \".format(lati)\n",
    "    #VIEW(polyline)\n",
    "    return 0"
   ]
  },
  {
   "cell_type": "code",
   "execution_count": 318,
   "metadata": {
    "collapsed": false,
    "scrolled": true
   },
   "outputs": [
    {
     "name": "stdout",
     "output_type": "stream",
     "text": [
      "{1: [0, 1, 0], 2: [1, 0, -3], 3: [0, 1, -3], 4: [1, 0, 0]}\n",
      "[0, 1, 0] [1, 0, -3]\n",
      "0.392699081699\n",
      "{(4, 1): [-0.4142135623730951, 1, 0.0]}\n",
      "[1, 0, -3] [0, 1, -3]\n",
      "0.392699081699\n",
      "{(1, 2): [-0.4142135623730951, 1, 1.2426406871192852], (4, 1): [-0.4142135623730951, 1, 0.0]}\n",
      "[0, 1, -3] [1, 0, 0]\n",
      "0.392699081699\n",
      "{(1, 2): [-0.4142135623730951, 1, 1.2426406871192852], (2, 3): [-0.4142135623730951, 1, 0.24264068711928521], (4, 1): [-0.4142135623730951, 1, 0.0]}\n"
     ]
    },
    {
     "ename": "KeyError",
     "evalue": "5",
     "output_type": "error",
     "traceback": [
      "\u001b[0;31m---------------------------------------------------------------------------\u001b[0m",
      "\u001b[0;31mKeyError\u001b[0m                                  Traceback (most recent call last)",
      "\u001b[0;32m<ipython-input-318-03bd471269d4>\u001b[0m in \u001b[0;36m<module>\u001b[0;34m()\u001b[0m\n\u001b[1;32m      3\u001b[0m \u001b[0mcells\u001b[0m\u001b[0;34m=\u001b[0m\u001b[0;34m[\u001b[0m\u001b[0;34m[\u001b[0m\u001b[0;36m1\u001b[0m\u001b[0;34m,\u001b[0m\u001b[0;36m2\u001b[0m\u001b[0;34m]\u001b[0m\u001b[0;34m,\u001b[0m\u001b[0;34m[\u001b[0m\u001b[0;36m2\u001b[0m\u001b[0;34m,\u001b[0m\u001b[0;36m3\u001b[0m\u001b[0;34m]\u001b[0m\u001b[0;34m,\u001b[0m\u001b[0;34m[\u001b[0m\u001b[0;36m3\u001b[0m\u001b[0;34m,\u001b[0m\u001b[0;36m4\u001b[0m\u001b[0;34m]\u001b[0m\u001b[0;34m,\u001b[0m\u001b[0;34m[\u001b[0m\u001b[0;36m4\u001b[0m\u001b[0;34m,\u001b[0m\u001b[0;36m1\u001b[0m\u001b[0;34m]\u001b[0m\u001b[0;34m]\u001b[0m\u001b[0;34m\u001b[0m\u001b[0m\n\u001b[1;32m      4\u001b[0m \u001b[0mverts\u001b[0m\u001b[0;34m=\u001b[0m\u001b[0;34m[\u001b[0m\u001b[0;34m[\u001b[0m\u001b[0;36m0\u001b[0m\u001b[0;34m,\u001b[0m\u001b[0;36m0\u001b[0m\u001b[0;34m]\u001b[0m\u001b[0;34m,\u001b[0m\u001b[0;34m[\u001b[0m\u001b[0;36m3\u001b[0m\u001b[0;34m,\u001b[0m\u001b[0;36m0\u001b[0m\u001b[0;34m]\u001b[0m\u001b[0;34m,\u001b[0m\u001b[0;34m[\u001b[0m\u001b[0;36m3\u001b[0m\u001b[0;34m,\u001b[0m\u001b[0;36m1\u001b[0m\u001b[0;34m]\u001b[0m\u001b[0;34m,\u001b[0m\u001b[0;34m[\u001b[0m\u001b[0;36m0\u001b[0m\u001b[0;34m,\u001b[0m\u001b[0;36m1\u001b[0m\u001b[0;34m]\u001b[0m\u001b[0;34m]\u001b[0m\u001b[0;34m\u001b[0m\u001b[0m\n\u001b[0;32m----> 5\u001b[0;31m \u001b[0mroofFromLines\u001b[0m\u001b[0;34m(\u001b[0m\u001b[0mverts\u001b[0m\u001b[0;34m,\u001b[0m\u001b[0mcells\u001b[0m\u001b[0;34m)\u001b[0m\u001b[0;34m\u001b[0m\u001b[0m\n\u001b[0m",
      "\u001b[0;32m<ipython-input-317-60c6da3be3ad>\u001b[0m in \u001b[0;36mroofFromLines\u001b[0;34m(verts, cells)\u001b[0m\n\u001b[1;32m     13\u001b[0m         \u001b[0mi\u001b[0m\u001b[0;34m=\u001b[0m\u001b[0mi\u001b[0m\u001b[0;34m+\u001b[0m\u001b[0;36m1\u001b[0m\u001b[0;34m\u001b[0m\u001b[0m\n\u001b[1;32m     14\u001b[0m     \u001b[0;32mprint\u001b[0m \u001b[0mlati\u001b[0m\u001b[0;34m\u001b[0m\u001b[0m\n\u001b[0;32m---> 15\u001b[0;31m     \u001b[0mresult\u001b[0m\u001b[0;34m=\u001b[0m\u001b[0mfind_bisector_eq\u001b[0m\u001b[0;34m(\u001b[0m\u001b[0mverts\u001b[0m\u001b[0;34m,\u001b[0m\u001b[0mcells\u001b[0m\u001b[0;34m,\u001b[0m\u001b[0msize\u001b[0m\u001b[0;34m,\u001b[0m\u001b[0mlati\u001b[0m\u001b[0;34m)\u001b[0m\u001b[0;34m\u001b[0m\u001b[0m\n\u001b[0m\u001b[1;32m     16\u001b[0m     \u001b[0mbisectores\u001b[0m\u001b[0;34m=\u001b[0m\u001b[0mresult\u001b[0m\u001b[0;34m[\u001b[0m\u001b[0;36m0\u001b[0m\u001b[0;34m]\u001b[0m\u001b[0;34m\u001b[0m\u001b[0m\n\u001b[1;32m     17\u001b[0m     \u001b[0mvertici\u001b[0m\u001b[0;34m=\u001b[0m\u001b[0mresult\u001b[0m\u001b[0;34m[\u001b[0m\u001b[0;36m1\u001b[0m\u001b[0;34m]\u001b[0m\u001b[0;34m\u001b[0m\u001b[0m\n",
      "\u001b[0;32m<ipython-input-315-27cbdc6ac105>\u001b[0m in \u001b[0;36mfind_bisector_eq\u001b[0;34m(verts, cells, size, lati)\u001b[0m\n\u001b[1;32m     92\u001b[0m         \u001b[0mindex\u001b[0m\u001b[0;34m=\u001b[0m\u001b[0mcompute_index\u001b[0m\u001b[0;34m(\u001b[0m\u001b[0mv\u001b[0m\u001b[0;34m,\u001b[0m\u001b[0msize\u001b[0m\u001b[0;34m)\u001b[0m\u001b[0;34m\u001b[0m\u001b[0m\n\u001b[1;32m     93\u001b[0m         \u001b[0;31m#bisectores[index]=bisector(points[0],points[1],points[2])\u001b[0m\u001b[0;34m\u001b[0m\u001b[0;34m\u001b[0m\u001b[0m\n\u001b[0;32m---> 94\u001b[0;31m         \u001b[0mbisectores\u001b[0m\u001b[0;34m[\u001b[0m\u001b[0mindex\u001b[0m\u001b[0;34m]\u001b[0m\u001b[0;34m=\u001b[0m\u001b[0mbisector_222\u001b[0m\u001b[0;34m(\u001b[0m\u001b[0mlati\u001b[0m\u001b[0;34m[\u001b[0m\u001b[0mv\u001b[0m\u001b[0;34m]\u001b[0m\u001b[0;34m,\u001b[0m\u001b[0mlati\u001b[0m\u001b[0;34m[\u001b[0m\u001b[0;34m(\u001b[0m\u001b[0mv\u001b[0m\u001b[0;34m+\u001b[0m\u001b[0;36m1\u001b[0m\u001b[0;34m)\u001b[0m\u001b[0;34m]\u001b[0m\u001b[0;34m,\u001b[0m\u001b[0mpoints\u001b[0m\u001b[0;34m[\u001b[0m\u001b[0;36m1\u001b[0m\u001b[0;34m]\u001b[0m\u001b[0;34m)\u001b[0m\u001b[0;34m\u001b[0m\u001b[0m\n\u001b[0m\u001b[1;32m     95\u001b[0m         \u001b[0;32mprint\u001b[0m \u001b[0mbisectores\u001b[0m\u001b[0;34m\u001b[0m\u001b[0m\n\u001b[1;32m     96\u001b[0m         \u001b[0mvertici\u001b[0m\u001b[0;34m[\u001b[0m\u001b[0mindex\u001b[0m\u001b[0;34m]\u001b[0m\u001b[0;34m=\u001b[0m\u001b[0mpoints\u001b[0m\u001b[0;34m[\u001b[0m\u001b[0;36m1\u001b[0m\u001b[0;34m]\u001b[0m\u001b[0;34m\u001b[0m\u001b[0m\n",
      "\u001b[0;31mKeyError\u001b[0m: 5"
     ]
    }
   ],
   "source": [
    "#cells=[[1,2],[2,3],[3,4],[4,5],[5,6],[6,1]]\n",
    "#verts=[[0.,0.],[3.,0.],[2.,1.],[4.,1.],[4.,2.],[1.,1.]]\n",
    "cells=[[1,2],[2,3],[3,4],[4,1]]\n",
    "verts=[[0,0],[3,0],[3,1],[0,1]]\n",
    "roofFromLines(verts,cells)"
   ]
  },
  {
   "cell_type": "code",
   "execution_count": 314,
   "metadata": {
    "collapsed": false
   },
   "outputs": [
    {
     "name": "stdout",
     "output_type": "stream",
     "text": [
      "[-2.0, -3.0]\n",
      "[0.500000000000001, 1, -5.5000000000000027]\n"
     ]
    }
   ],
   "source": [
    "eq1=[3,1,9]\n",
    "eq2=[1,2,8]\n",
    "print equation_solver(eq1,eq2)\n",
    "print equation_from_2_points([1,5],[3,4])"
   ]
  },
  {
   "cell_type": "markdown",
   "metadata": {},
   "source": [
    "def find_bisector_2rette(r1,r2,v1,v2):\n",
    "    print \"stampiamo gli argomenti r1{0} r2{1} v1{2} v2{3}\".format(r1,r2,v1,v2)\n",
    "    result=[]\n",
    "    try:\n",
    "        p1=equation_solver(r1,r2)\n",
    "        if(r2[2]==0):\n",
    "            app=r2\n",
    "            r2=r1\n",
    "            r1=app\n",
    "        angles=angles_3_point(v1,p1,v2)\n",
    "        p_axis=[((-1*r2[2])/(r1[0])),0]\n",
    "        print p_axis\n",
    "        angle_axis=angles_3_point([0,0],p_axis,p1)\n",
    "        print \"angolo fra rette {0}\".format(np.degrees(angles))\n",
    "        print \"angolo 2 {0}\".format(np.degrees(angle_axis))\n",
    "        angle_on_axis=(angles)/2-1*(angle_axis)\n",
    "        print \"rispetto all'asse angolo {0}\".format(np.degrees(angle_on_axis))\n",
    "        result.append(build_bisector_eq(p1,angle_on_axis))\n",
    "        result.append(p1)\n",
    "        return result\n",
    "    except np.linalg.linalg.LinAlgError as err:\n",
    "        if 'Singular matrix' in err.message:\n",
    "            print \"le rette sono parallele\"\n",
    "            result.append(r1)\n",
    "            result.append(v1)\n",
    "            return result\n",
    "        "
   ]
  },
  {
   "cell_type": "code",
   "execution_count": null,
   "metadata": {
    "collapsed": true
   },
   "outputs": [],
   "source": []
  },
  {
   "cell_type": "code",
   "execution_count": null,
   "metadata": {
    "collapsed": true
   },
   "outputs": [],
   "source": []
  },
  {
   "cell_type": "code",
   "execution_count": null,
   "metadata": {
    "collapsed": true
   },
   "outputs": [],
   "source": []
  },
  {
   "cell_type": "code",
   "execution_count": null,
   "metadata": {
    "collapsed": true
   },
   "outputs": [],
   "source": []
  },
  {
   "cell_type": "code",
   "execution_count": null,
   "metadata": {
    "collapsed": true
   },
   "outputs": [],
   "source": []
  },
  {
   "cell_type": "code",
   "execution_count": null,
   "metadata": {
    "collapsed": true
   },
   "outputs": [],
   "source": []
  },
  {
   "cell_type": "code",
   "execution_count": null,
   "metadata": {
    "collapsed": true
   },
   "outputs": [],
   "source": []
  }
 ],
 "metadata": {
  "anaconda-cloud": {},
  "kernelspec": {
   "display_name": "Python [conda root]",
   "language": "python",
   "name": "conda-root-py"
  },
  "language_info": {
   "codemirror_mode": {
    "name": "ipython",
    "version": 2
   },
   "file_extension": ".py",
   "mimetype": "text/x-python",
   "name": "python",
   "nbconvert_exporter": "python",
   "pygments_lexer": "ipython2",
   "version": "2.7.12"
  }
 },
 "nbformat": 4,
 "nbformat_minor": 1
}
