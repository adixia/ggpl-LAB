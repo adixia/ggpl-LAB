{
 "cells": [
  {
   "cell_type": "markdown",
   "metadata": {},
   "source": [
    "Funzione che funziona sempre qualunque sia la forma planimetrica dell'edificio... prendete un poligono qualunque.... imaginate che sia il bordo del nostro edificio e fateci sopra un tetto in due variazioni fondamentali.... tutte le falde con la stesa inclinazione(ad ognuno dei lati....)Tutti i piani formano la stessa tangente con il piano orizontale....possono intersecarti al piano parallelo piu in alto e produrre qualcosa simile ad un terrazzo collegato ad i muri.... se le falde hanno tutte la stessa inclinazione le bisettrici degli angoli(quelle interne,le rette di intersezione di due falde contigue del perimetro ap)\n",
    "\n",
    "\n",
    "f1:calcolo del fascio di piani passanti per una retta, questo fascio è funzione del parametro dell'angolo con il piano orizontale.\n",
    "f2:visulizazione in base a parametro per ogni spigolo come sti piani si mettono...\n",
    "concavo\n",
    "f3: calcolo intersezione dei 3 piani....atan2 funzione tipicamente presente in tutte le librerie di qualsiasi linguaggio ad essa vengono passate 2 argomenti (ty,tx) di un vettore per calcolarsi la tangente.\n",
    "\n",
    "\n",
    "forma 2: intersecando piu piani, l'intersezione di 3 piani è un punto, cercare i punti di intersezione di tre piani consegutivi... quei punti danno alcuni vertici di una sorta di scheletro verticale(linee di colmo del tetto)"
   ]
  },
  {
   "cell_type": "code",
   "execution_count": 9,
   "metadata": {
    "collapsed": false
   },
   "outputs": [],
   "source": [
    "from pyplasm import *\n",
    "import numpy as np\n",
    "import matplotlib.pyplot as plt"
   ]
  },
  {
   "cell_type": "code",
   "execution_count": 33,
   "metadata": {
    "collapsed": false
   },
   "outputs": [],
   "source": [
    "def roofFromPolyline(verts,cells):\n",
    "    ipotenusa=0.1\n",
    "    polyline=SKEL_1(MKPOL([verts,cells,1]))\n",
    "    VIEW(polyline)\n",
    "    angular=[]\n",
    "    \n",
    "    \"\"\"\n",
    "    for i in range(len(verts)):\n",
    "        if(i!=len(verts)-1):\n",
    "            nextV=i+1\n",
    "        else:\n",
    "            nextV=0\n",
    "            \n",
    "        denum=(verts[i][0]-verts[nextV][0])\n",
    "        if(denum==0):\n",
    "            m=float(\"inf\")\n",
    "        else:\n",
    "            m=(verts[i][1]-verts[nextV][1])/denum\n",
    "        \n",
    "        angular.append(math.atan(m))\n",
    "   \n",
    "    bisector=[]\n",
    "    for i in range(len(angular)):\n",
    "        if(i!=len(verts)-1):\n",
    "            nextV=i+1\n",
    "        else:\n",
    "            nextV=0\n",
    "            \n",
    "        diff= (angular[nextV]- angular[i])/2\n",
    "        minimum= min ([angular[nextV],angular[i]])\n",
    "        bisector.append(abs(diff)+minimum\n",
    "                        \n",
    "    bisector = bisector[-1] + bisector[:-1]    \n",
    "    print angular\n",
    "    print bisector\n",
    "    newVerts=[]\n",
    "    for i in range(len(verts)):\n",
    "        newX= verts[i][0]+ (ipotenusa*COS(bisector[i]))\n",
    "        newY= verts[i][1]+(ipotenusa*SIN(bisector[i])\n",
    "        newVerts.append([newX,newY])\n",
    "                    \n",
    "    \n",
    "    VIEW(polyline)\n",
    "    \"\"\"\n",
    "    "
   ]
  },
  {
   "cell_type": "code",
   "execution_count": 27,
   "metadata": {
    "collapsed": true
   },
   "outputs": [],
   "source": []
  },
  {
   "cell_type": "code",
   "execution_count": 28,
   "metadata": {
    "collapsed": true
   },
   "outputs": [],
   "source": []
  },
  {
   "cell_type": "code",
   "execution_count": 35,
   "metadata": {
    "collapsed": false
   },
   "outputs": [],
   "source": [
    "cells=[[1,2],[2,3],[3,4],[4,5],[5,6],[6,1]]\n",
    "verts=[[0.,0.],[3.,0.],[2.,1.],[4.,1.],[4.,2.],[1.,1.]]\n",
    "roofFromPolyline(verts,cells)\n",
    "#generateStraight(verts[0],verts[1])2\n",
    "#generateStraight(verts[1],verts[2])\n",
    "#generateStraight(verts[2],verts[3])\n",
    "#generateStraight(verts[3],verts[4])\n",
    "#generateStraight(verts[4],verts[5])\n",
    "\n"
   ]
  },
  {
   "cell_type": "code",
   "execution_count": 13,
   "metadata": {
    "collapsed": false
   },
   "outputs": [
    {
     "ename": "SyntaxError",
     "evalue": "can't assign to operator (<ipython-input-13-792c3ecf9050>, line 6)",
     "output_type": "error",
     "traceback": [
      "\u001b[0;36m  File \u001b[0;32m\"<ipython-input-13-792c3ecf9050>\"\u001b[0;36m, line \u001b[0;32m6\u001b[0m\n\u001b[0;31m    L*(y-mx-q)+B0=0\u001b[0m\n\u001b[0;31mSyntaxError\u001b[0m\u001b[0;31m:\u001b[0m can't assign to operator\n"
     ]
    }
   ],
   "source": [
    "\n",
    "#generateplanes(10)\n",
    "\n",
    "y=mx+q\n",
    "z=0\n",
    "L*(y-mx-q)+B0=0\n",
    "\n",
    "\n",
    "\n",
    "ax+by+cz+d=0 #eq del piano\n",
    "v=(a,b,c,d) #l'altezza\n"
   ]
  },
  {
   "cell_type": "code",
   "execution_count": 25,
   "metadata": {
    "collapsed": true
   },
   "outputs": [],
   "source": [
    "def changeOrigin(point, newOrigin):\n",
    "    x = point[0]-newOrigin[0]\n",
    "    y = point[1]-newOrigin[1]\n",
    "    return [x,y]"
   ]
  },
  {
   "cell_type": "code",
   "execution_count": 32,
   "metadata": {
    "collapsed": false
   },
   "outputs": [],
   "source": []
  },
  {
   "cell_type": "code",
   "execution_count": null,
   "metadata": {
    "collapsed": true
   },
   "outputs": [],
   "source": []
  }
 ],
 "metadata": {
  "anaconda-cloud": {},
  "kernelspec": {
   "display_name": "Python [conda root]",
   "language": "python",
   "name": "conda-root-py"
  },
  "language_info": {
   "codemirror_mode": {
    "name": "ipython",
    "version": 2
   },
   "file_extension": ".py",
   "mimetype": "text/x-python",
   "name": "python",
   "nbconvert_exporter": "python",
   "pygments_lexer": "ipython2",
   "version": "2.7.12"
  }
 },
 "nbformat": 4,
 "nbformat_minor": 1
}
