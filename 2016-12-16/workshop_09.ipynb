{
 "cells": [
  {
   "cell_type": "code",
   "execution_count": 1,
   "metadata": {
    "collapsed": false
   },
   "outputs": [
    {
     "name": "stdout",
     "output_type": "stream",
     "text": [
      "Evaluating fenvs.py..\n",
      "...fenvs.py imported in 0.005 seconds\n"
     ]
    }
   ],
   "source": [
    "from pyplasm import*"
   ]
  },
  {
   "cell_type": "markdown",
   "metadata": {},
   "source": [
    "##  Generazione di Tetti\n",
    "\n",
    "Con questa semplificazione usata da alcuni colleghi ho scritto questo codice che genera un tetto su x,y,z dati in input le coridnate di un tetto sul piano x,y. La semplificazione sta nel fatto di conoscere a priori le bisettrici di ogni angolo e di dare indicazioni alla funzione su come calcolare i punti della parte alta del tetto dicendogli in quale quadrante passano le bisettrici degli angoli della figura.\n",
    "\n",
    "### Altre idee per la realizazione \n",
    "\n",
    "Non soddisfatto appieno da quasta soluzione ho trovato su internet un algoritmo che permette di fare lo stesso lavoro utilizando un approccio un po piu geometrico, che si basa sullo studio delle bisettrici degli angoli della figura. Non sono ancora riuscito a riscriverlo al meglio ed a venire a capo di alcuni sotto-task geometrici; appena vi riuscirò la soluzione sarà reperibile in questa directory nel notebook chiamato workshop_09_v2"
   ]
  },
  {
   "cell_type": "code",
   "execution_count": 2,
   "metadata": {
    "collapsed": false
   },
   "outputs": [],
   "source": [
    "\"\"\"findLati\n",
    "funzione ausiliare per la crezione di un dizionario dei lati della struttura\n",
    "\n",
    "@param verts: i vertici della figura di cui si vogliono sapere i lati\n",
    "@return: dizionario dei lati della figura\n",
    "\"\"\"\n",
    "def findLati(verts):\n",
    "    lati={}\n",
    "    i=0\n",
    "    while(i<(len(verts)-1)):\n",
    "        k=i+1\n",
    "        lato=[verts[i],verts[i+1]]\n",
    "        lati[k]=lato\n",
    "        i=i+1\n",
    "    return lati\n",
    "\n",
    "\"\"\"create_ceiling\n",
    "funzione per la creazione del soffito: prende i vertici della figura ed \n",
    "in funzione dell'angolo, si trova un nuovo punto x,y,z calcolato supponendo che l'ipotenusa sia 1 \n",
    "e con l'angolo passato come parametro NB:degree rappresenta i gradi per cui passa la bisettrice dell'angolo\n",
    "\n",
    "@param verts: i vertici della figura di cui si vogliono sapere i lati\n",
    "@param rotation: su che asse si trova l'angolo della figura\n",
    "@param degree:  gradi per cui passano la bisettrici degli angoli\n",
    "@return: lista dei punti che fanno da soffitto\n",
    "\"\"\" \n",
    "def create_ceiling(verts,rotation,degree):\n",
    "    i=0\n",
    "    ceiling=[]\n",
    "    for i in range(len(rotation)):\n",
    "        ceiling_p = []\n",
    "        if(rotation[i]==1): \n",
    "            newX=verts[i][0]+math.cos(degree[i])\n",
    "            newY= verts[i][1] +math.sin(degree[i])\n",
    "            ceiling_p=[newX,newY,1]\n",
    "\n",
    "        if(rotation[i]==2): \n",
    "            newX=verts[i][0] -1*math.cos(degree[i])\n",
    "            newY= verts[i][1]+ math.sin(degree[i])\n",
    "            ceiling_p=[newX,newY,1]     \n",
    "\n",
    "        if(rotation[i]==3): \n",
    "            newX=verts[i][0] -1* math.cos(degree[i])\n",
    "            newY= verts[i][1] -1*math.sin(degree[i])\n",
    "            ceiling_p=[newX,newY,1]\n",
    "\n",
    "        if(rotation[i]==4): \n",
    "            newX=verts[i][0]+ math.cos(degree[i])\n",
    "            newY= verts[i][1]-1*math.sin(degree[i])\n",
    "            ceiling_p=[newX,newY,1]  \n",
    "\n",
    "        ceiling.append(ceiling_p)\n",
    "    \n",
    "    \n",
    "    return ceiling\n",
    "\n",
    "\"\"\"build_planes\n",
    "crea i pannelli che formano il soffitto, creando dei parallelogrammi sulla base\n",
    "del contenuto delle mappe rappresentanti i lati della base ed i lati del soffitto\n",
    "\n",
    "@param verts: i vertici della figura\n",
    "@param verts: i vertici del soffitto della figura\n",
    "@return: hpc dei pannelli laterali del tetto\n",
    "\"\"\"\n",
    "\n",
    "def build_planes(verts,points_landing):\n",
    "    baseLati=findLati(verts)\n",
    "    points_landing.append(points_landing[0])\n",
    "    roofLati=findLati(points_landing)\n",
    "\n",
    "    roof=[]\n",
    "\n",
    "    for i in (baseLati.keys()):\n",
    "        points=[]\n",
    "        points.append(baseLati[i][0])\n",
    "        points.append(roofLati[i][0])\n",
    "        points.append(roofLati[i][1])\n",
    "        points.append(baseLati[i][1])\n",
    "        plane = MKPOL([points,[[4,3,2,1]],1])\n",
    "        roof.append(plane)\n",
    "    \n",
    "    return (STRUCT(roof))\n"
   ]
  },
  {
   "cell_type": "code",
   "execution_count": 3,
   "metadata": {
    "collapsed": false
   },
   "outputs": [],
   "source": [
    "\"\"\"create_my_roof\n",
    "funzione principale che si occupa di creare il tetto\n",
    "\n",
    "@param verts: i vertici della figura\n",
    "@param cells: celle\n",
    "@param rotation: lista di assi su cui trova l'angolo\n",
    "@param radiant: l'angolo per cui passa la bisettrice \n",
    "@return: hpc del tetto\n",
    "\"\"\"\n",
    "\n",
    "def create_my_roof(verts,cells,rotation,radiant):\n",
    "    points_landing=create_ceiling(verts,rotation,radiant)\n",
    "    landing = (MKPOL([points_landing,cells,1]))  \n",
    "    planes = build_planes(verts,points_landing)\n",
    "    final_roof= STRUCT([planes,landing])\n",
    "    final_roof=TEXTURE([\"./pattern/tegole.jpg\", TRUE, TRUE, 5, 5, 0, 5, 5])(final_roof)\n",
    "    VIEW(final_roof)\n",
    "    return final_roof"
   ]
  },
  {
   "cell_type": "code",
   "execution_count": 4,
   "metadata": {
    "collapsed": false
   },
   "outputs": [
    {
     "data": {
      "text/plain": [
       "<pyplasm.xgepy.Hpc; proxy of <Swig Object of type 'std::shared_ptr< Hpc > *' at 0x105765ae0> >"
      ]
     },
     "execution_count": 4,
     "metadata": {},
     "output_type": "execute_result"
    }
   ],
   "source": [
    "\"\"\"tetto semplice\"\"\"\n",
    "verts = [[0,0,0],[2,0,0],[2,2,0],[0,2,0],[0,0,0]]\n",
    "cells = [[1,2,3,4]]\n",
    "rotation=[1,2,3,4]\n",
    "radiant=[PI/4,PI/4,PI/4,PI/4,PI/4]\n",
    "create_my_roof(verts,cells,rotation,radiant)\n",
    "\"\"\"tetto a C capovolta\"\"\"\n",
    "verts = [[0,0,0],[8,0,0],[8,4,0],[5,4,0],[5,2,0],[3,2,0],[3,4,0],[0,4,0],[0,0,0]]\n",
    "cells = [[1,2,5,6],[2,3,4,5],[6,7,8,1]]\n",
    "rotation=[1,2,3,4,4,3,3,4]\n",
    "radiant=[PI/4,PI/4,PI/4,PI/4,PI/4,PI/4,PI/4,PI/4]\n",
    "create_my_roof(verts,cells,rotation,radiant)"
   ]
  },
  {
   "cell_type": "markdown",
   "metadata": {},
   "source": [
    "### Risultati\n",
    "\n",
    "Tetto semplice\n",
    "\n",
    "![prima immagine](https://github.com/adixia/ggpl-LAB/blob/master/2016-12-16/img/img4.png?raw=true)\n",
    "\n",
    "![prima immagine](https://github.com/adixia/ggpl-LAB/blob/master/2016-12-16/img/img5.png?raw=true)\n",
    "\n",
    "Tetto a forma di C capovolta \n",
    "\n",
    "![prima immagine](https://github.com/adixia/ggpl-LAB/blob/master/2016-12-16/img/img1.png?raw=true)\n",
    "\n",
    "![prima immagine](https://github.com/adixia/ggpl-LAB/blob/master/2016-12-16/img/img2.png?raw=true)\n",
    "\n",
    "![prima immagine](https://github.com/adixia/ggpl-LAB/blob/master/2016-12-16/img/img3.png?raw=true)\n"
   ]
  },
  {
   "cell_type": "code",
   "execution_count": null,
   "metadata": {
    "collapsed": true
   },
   "outputs": [],
   "source": []
  }
 ],
 "metadata": {
  "kernelspec": {
   "display_name": "Python [conda root]",
   "language": "python",
   "name": "conda-root-py"
  },
  "language_info": {
   "codemirror_mode": {
    "name": "ipython",
    "version": 2
   },
   "file_extension": ".py",
   "mimetype": "text/x-python",
   "name": "python",
   "nbconvert_exporter": "python",
   "pygments_lexer": "ipython2",
   "version": "2.7.12"
  }
 },
 "nbformat": 4,
 "nbformat_minor": 1
}
