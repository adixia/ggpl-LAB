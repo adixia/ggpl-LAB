{
 "cells": [
  {
   "cell_type": "markdown",
   "metadata": {},
   "source": [
    "### MY HOUSE BUILDER\n",
    "\n",
    "Come sempre ho iniziato il workshop prendendo l'immagine di riferimento (qui sotto)\n",
    "\n",
    "![img](./planimetria.jpg)\n",
    "\n",
    "La cosa più impegnativa di questo homework è stata senza dubbio la creazione del svg adeguato che rappresentasse l'immagine di riferimento.\n",
    "Ho disegnato l'svg ricalcando la struttura su Graphics un software per il disegno vettoriale. Esportati il livello per le mura interne, le mura esterne, le porte e le finestre, ho passato questi file in formato lines e li ho posizionati nella omonima cartella. La funzione generate_structure richiama generate_substructure per creare le struttre per ogni livello leggendo dai file lines. A questo punto di estrudono i muri esterni in maniera da farli essere più spessi di quelli interni. si moltiplica per l'altezza dei muri e ad i muri esterno si sottraggono le porte e le finestre con DIFF. Alle mura interne si sottraggono solo le porte. Infine si applicano le texture a muri interni esterni ed al pavimento creato sulla base di quanto occupava la struttura. Nelle altre directory è possible trovare l'svg completo e altri modelli.\n"
   ]
  },
  {
   "cell_type": "code",
   "execution_count": 154,
   "metadata": {
    "collapsed": false
   },
   "outputs": [],
   "source": [
    "import csv\n",
    "from pyplasm import *"
   ]
  },
  {
   "cell_type": "code",
   "execution_count": 155,
   "metadata": {
    "collapsed": false
   },
   "outputs": [],
   "source": [
    "\"\"\"generate_structure\n",
    "\n",
    "Il seguente metodo crea il modello di casa contenuto nella directory indicata.\n",
    "Tale modello deve essere composto da quattro file lines: door, windows, external_wall, wall\n",
    "\n",
    "@param directory: di default lines, nome della cartella dove sono contentenuti i file lines\n",
    "@param dx,dy,dz: l'immagine viene scalata sulla base di questi valori, di deafult sono ad 1\n",
    "@return: hpc della struttura\n",
    "\"\"\"\n",
    "def generate_structure(directory=\"lines\",dx=1,dy=1,dz=1):\n",
    "    doors=OFFSET([10,10])(generate_sub_structure(\"./\"+directory+\"/door.lines\"))\n",
    "    doors=PROD([doors,QUOTE([25])])\n",
    "    \n",
    "    windows=OFFSET([10,10])(generate_sub_structure(\"./\"+directory+\"/windows.lines\"))\n",
    "    windows=PROD([windows,QUOTE([15])])\n",
    "    windows=STRUCT([T(3)(10),windows])\n",
    "    \n",
    "    walls=generate_sub_structure(\"./\"+directory+\"/external_wall.lines\")\n",
    "    floor=SOLIDIFY(walls)\n",
    "    floor = TEXTURE([\"./pattern/floor.jpg\", TRUE, TRUE, 5, 5, 0, 5, 5])(floor)\n",
    "    walls=(OFFSET([5,5])(walls))\n",
    "    walls=PROD([walls,QUOTE([35])])\n",
    "    internal_walls=OFFSET([2,2])(generate_sub_structure(\"./\"+directory+\"/wall.lines\"))\n",
    "    internal_walls=PROD([internal_walls,QUOTE([35])])\n",
    "    internal_walls=DIFF([internal_walls,doors])\n",
    "    internal_walls = TEXTURE([\"./pattern/wooden.jpg\", TRUE, FALSE, 1, 1, 0, 1, 1])(internal_walls)\n",
    "    walls=DIFF([walls,windows])\n",
    "    walls=DIFF([walls,doors])\n",
    "    walls = TEXTURE([\"./pattern/brick.jpg\", TRUE, TRUE, 5, 5, 0, 5, 5])(walls)\n",
    "    building=STRUCT([(internal_walls),(walls)])\n",
    "    building=STRUCT([floor,building])\n",
    "    building=STRUCT([R([1,2])(math.pi/6),(building)])\n",
    "    building=STRUCT([S([1,2,3])([dx,dy,dz]),building])\n",
    "    \n",
    "    return building\n",
    "\n",
    "\"\"\"generate_sub_structure\n",
    "\n",
    "Il seguente metodo crea l'hpc di una sottostruttura descritta da un file con formato lines.\n",
    "Nello specifico viene fatta una semplice lettua a due e due si aggiungono vertici e faccette che veranno \n",
    "utilizzate per la creazione della polyline con MKPOL.\n",
    "\n",
    "@param file_name: nome del file in formato .lines\n",
    "@return: hpc della struttura\n",
    "\"\"\"\n",
    "def generate_sub_structure(file_name):\n",
    "    i=0\n",
    "    points=[]\n",
    "    indesxs=[]\n",
    "    with open(file_name, 'rb') as csvfile:\n",
    "        spamreader = csv.reader(csvfile)\n",
    "        for row in spamreader:\n",
    "            points.append([float(row[0]),float(row[1])])\n",
    "            points.append([float(row[2]),float(row[3])])\n",
    "            i=i+2\n",
    "            indesxs.append([i-1,i])\n",
    "    return MKPOL([points,indesxs,None])\n",
    "                "
   ]
  },
  {
   "cell_type": "code",
   "execution_count": 156,
   "metadata": {
    "collapsed": false
   },
   "outputs": [
    {
     "data": {
      "text/plain": [
       "<pyplasm.xgepy.Hpc; proxy of <Swig Object of type 'std::shared_ptr< Hpc > *' at 0x152ff1a20> >"
      ]
     },
     "execution_count": 156,
     "metadata": {},
     "output_type": "execute_result"
    }
   ],
   "source": [
    "VIEW(generate_structure())\n"
   ]
  },
  {
   "cell_type": "markdown",
   "metadata": {
    "collapsed": true
   },
   "source": [
    "### RISULTATI\n",
    "Strutture intermedie\n",
    "\n",
    "![prova ](./img/frame1.png)\n",
    "\n",
    "![prova ](./img/frame2.png)\n",
    "\n",
    "Strutture con texture \n",
    "\n",
    "![prova ](./img/frame3.png)\n",
    "\n",
    "![prova ](./img/frame4.png)"
   ]
  },
  {
   "cell_type": "code",
   "execution_count": null,
   "metadata": {
    "collapsed": true
   },
   "outputs": [],
   "source": []
  },
  {
   "cell_type": "code",
   "execution_count": null,
   "metadata": {
    "collapsed": true
   },
   "outputs": [],
   "source": []
  }
 ],
 "metadata": {
  "anaconda-cloud": {},
  "kernelspec": {
   "display_name": "Python [conda root]",
   "language": "python",
   "name": "conda-root-py"
  },
  "language_info": {
   "codemirror_mode": {
    "name": "ipython",
    "version": 2
   },
   "file_extension": ".py",
   "mimetype": "text/x-python",
   "name": "python",
   "nbconvert_exporter": "python",
   "pygments_lexer": "ipython2",
   "version": "2.7.12"
  }
 },
 "nbformat": 4,
 "nbformat_minor": 1
}
