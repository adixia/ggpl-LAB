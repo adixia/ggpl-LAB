{
 "cells": [
  {
   "cell_type": "markdown",
   "metadata": {},
   "source": [
    "### MY HOUSE BUILDER\n",
    "\n",
    "![img](https://github.com/adixia/ggpl-LAB/blob/master/2016-12-2/planimetria-BASIC_planimetria-casa_prontacasa_005.jpg?raw=true)"
   ]
  },
  {
   "cell_type": "code",
   "execution_count": 1,
   "metadata": {
    "collapsed": false
   },
   "outputs": [
    {
     "name": "stdout",
     "output_type": "stream",
     "text": [
      "Evaluating fenvs.py..\n",
      "...fenvs.py imported in 0.005267 seconds\n"
     ]
    }
   ],
   "source": [
    "import csv\n",
    "from pyplasm import *"
   ]
  },
  {
   "cell_type": "code",
   "execution_count": 2,
   "metadata": {
    "collapsed": false
   },
   "outputs": [],
   "source": [
    "def generate_structure(file_name):\n",
    "    i=0\n",
    "    points=[]\n",
    "    indesxs=[]\n",
    "    with open(file_name, 'rb') as csvfile:\n",
    "        spamreader = csv.reader(csvfile)\n",
    "        for row in spamreader:\n",
    "            points.append([float(row[0]),float(row[1])])\n",
    "            points.append([float(row[2]),float(row[3])])\n",
    "            i=i+2\n",
    "            indesxs.append([i-1,i])\n",
    "    return MKPOL([points,indesxs,None])\n",
    "                "
   ]
  },
  {
   "cell_type": "code",
   "execution_count": 3,
   "metadata": {
    "collapsed": true
   },
   "outputs": [],
   "source": [
    "def generate_windows(file_name):\n",
    "    i=0\n",
    "    points=[]\n",
    "    indesxs=[]\n",
    "    with open(file_name, 'rb') as csvfile:\n",
    "        spamreader = csv.reader(csvfile)\n",
    "        for row in spamreader:\n",
    "            points.append([float(row[0]),float(row[1])])\n",
    "            points.append([float(row[2]),float(row[3])])\n",
    "            i=i+2\n",
    "            indesxs.append([i-1,i])\n",
    "    return MKPOL([points,indesxs,None])"
   ]
  },
  {
   "cell_type": "code",
   "execution_count": 29,
   "metadata": {
    "collapsed": false
   },
   "outputs": [
    {
     "data": {
      "text/plain": [
       "<pyplasm.xgepy.Hpc; proxy of <Swig Object of type 'std::shared_ptr< Hpc > *' at 0x14b352ea0> >"
      ]
     },
     "execution_count": 29,
     "metadata": {},
     "output_type": "execute_result"
    }
   ],
   "source": [
    "\n",
    "doors=OFFSET([11,11])(generate_structure(\"./lines/door.lines\"))\n",
    "doors=PROD([doors,QUOTE([20])])\n",
    "windows=OFFSET([10,10])(generate_structure(\"./lines/windows.lines\"))\n",
    "windows=PROD([windows,QUOTE([15])])\n",
    "windows=STRUCT([T(3)(10),windows])\n",
    "walls=generate_structure(\"./lines/external_wall.lines\")\n",
    "floor=SOLIDIFY(walls)\n",
    "walls=COLOR(RED)(OFFSET([5,5])(walls))\n",
    "\n",
    "internal_walls=COLOR(BLUE)(OFFSET([3,3])(generate_structure(\"./lines/wall.lines\")))\n",
    "building=STRUCT([internal_walls,walls])\n",
    "building=PROD([building,QUOTE([35])])\n",
    "building=DIFF([building,windows])\n",
    "building=DIFF([building,doors])\n",
    "building=STRUCT([floor,building])\n",
    "\n",
    "\n",
    "\n",
    "VIEW(building)"
   ]
  },
  {
   "cell_type": "code",
   "execution_count": null,
   "metadata": {
    "collapsed": true
   },
   "outputs": [],
   "source": []
  },
  {
   "cell_type": "code",
   "execution_count": null,
   "metadata": {
    "collapsed": true
   },
   "outputs": [],
   "source": []
  }
 ],
 "metadata": {
  "anaconda-cloud": {},
  "kernelspec": {
   "display_name": "Python [conda root]",
   "language": "python",
   "name": "conda-root-py"
  },
  "language_info": {
   "codemirror_mode": {
    "name": "ipython",
    "version": 2
   },
   "file_extension": ".py",
   "mimetype": "text/x-python",
   "name": "python",
   "nbconvert_exporter": "python",
   "pygments_lexer": "ipython2",
   "version": "2.7.12"
  }
 },
 "nbformat": 4,
 "nbformat_minor": 1
}
