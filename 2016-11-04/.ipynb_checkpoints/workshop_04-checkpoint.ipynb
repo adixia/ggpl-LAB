{
 "cells": [
  {
   "cell_type": "code",
   "execution_count": 1,
   "metadata": {
    "collapsed": false
   },
   "outputs": [
    {
     "name": "stdout",
     "output_type": "stream",
     "text": [
      "Evaluating fenvs.py..\n",
      "...fenvs.py imported in 0.005228 seconds\n"
     ]
    }
   ],
   "source": [
    "from pyplasm import *"
   ]
  },
  {
   "cell_type": "code",
   "execution_count": 2,
   "metadata": {
    "collapsed": false,
    "scrolled": true
   },
   "outputs": [],
   "source": [
    "\"Colore del Tetto\"\n",
    "LIGHT_BROWN = [0.301961,0.254902,0.105882,1.000000]"
   ]
  },
  {
   "cell_type": "code",
   "execution_count": 124,
   "metadata": {
    "collapsed": false
   },
   "outputs": [],
   "source": [
    "\"\"\" ggpl_my_roof_builder\n",
    "\n",
    "Presa una listra di vertici e di celle genera il tetto \n",
    "e la struttura portante del tetto e il tetto stesso.\n",
    "@param verts: lista di vertici del tetto con z=0 e z!=0\n",
    "@param cells: lista di celle in cui puo essere scomposto il tetto,\n",
    "              vanno inserite anche quelle interne\n",
    "@return: HPC del tetto\n",
    "\"\"\"\n",
    "def ggpl_my_roof_builder(verts,cells):\n",
    "    offSet= 0.3 \"dimensione dei pilastri del tetto\"\n",
    "    roof_structure=MKPOL([verts,cells,1])\n",
    "    roof_structure=(SKEL_1(roof_structure))\n",
    "    roof_structure=STRUCT([OFFSET([offSet,offSet,offSet])(roof_structure)])\n",
    "    mapVerts={}\n",
    "    \n",
    "    \"\"\"Riempie la mappa dei vertici, se 2 vertici sono nelle stesse cordinate x,y \n",
    "    mette nella mappa solo la cordinata con la z versa da 0 ==> si ottiene una mappa\n",
    "    dei vertici esterni\n",
    "    \"\"\"\n",
    "    for i in verts:\n",
    "        if(mapVerts.has_key((i[0],i[1])) and i[2]!=0):\n",
    "            mapVerts.update({(i[0],i[1]): i[2]})\n",
    "        else:\n",
    "            mapVerts[(i[0],i[1])]=i[2]\n",
    "            \n",
    "            \n",
    "    verts4Roof=[]\n",
    "    \"\"\"Prende solo i vertici nella mappa dei Vertici esterni\"\"\"\n",
    "    for i in verts:\n",
    "        if(mapVerts.has_key((i[0],i[1]))):\n",
    "            k=[i[0],i[1],mapVerts[(i[0],i[1])]]\n",
    "            verts4Roof.append(k)\n",
    "         \n",
    "    roof_upwards=STRUCT([MKPOL([verts4Roof,cells,1])])\n",
    "    roof_upwards=COLOR(LIGHT_BROWN)(OFFSET([offSet,offSet,offSet])(roof_upwards))\n",
    "   \n",
    "    return STRUCT([roof_structure,T(3)(offSet),S(3)(1.1),(roof_upwards)])\n",
    "\n",
    "    \n",
    "\n",
    "    \n",
    "    "
   ]
  },
  {
   "cell_type": "code",
   "execution_count": 126,
   "metadata": {
    "collapsed": false,
    "scrolled": true
   },
   "outputs": [
    {
     "data": {
      "text/plain": [
       "<pyplasm.xgepy.Hpc; proxy of <Swig Object of type 'std::shared_ptr< Hpc > *' at 0x1576b46f0> >"
      ]
     },
     "execution_count": 126,
     "metadata": {},
     "output_type": "execute_result"
    }
   ],
   "source": [
    "\"\"\" test del codice: la prima è un semplice tetto, il secondo è il tetto di una casa ad L\"\"\"\n",
    "VIEW( ggpl_my_roof_builder([[0,0,0],[0,10,0],[5,5,0],[5,5,5],[15,0,0],[15,10,0],[10,5,0],[10,5,5]],[[3,4,2,1],[8,5,6,7],[5,8,7,3,4,1],[2,4,3,7,8,6]]))\n",
    "VIEW(ggpl_my_roof_builder([\n",
    "    [0, 0, 0], [10, 0, 0], [8, 2, 4], [2, 2, 4], [2, 2, 0], [8, 2, 0],\n",
    "    [8, 2, 0], [2, 2, 0], [2, 2, 4], [8, 2, 4], [10, 4, 0], [4, 4, 0],\n",
    "    [10, 0, 0], [10, 4, 0], [8, 2, 0], [8, 2, 4],\n",
    "    [0, 0, 0], [0, 10, 0], [2, 8, 0], [2, 2, 0], [2, 2, 4], [2, 8, 4],\n",
    "    [2, 2, 0], [4, 4, 0], [4, 10, 0], [2, 8, 0], [2, 2, 4], [2, 8, 4],\n",
    "    [0, 10, 0], [4, 10, 0], [2, 8, 0], [2, 8, 4]\n",
    "],[\n",
    "    [1, 2, 3, 4, 5, 6],\n",
    "    [7, 8, 9, 10, 11, 12],\n",
    "    [13, 14, 15, 16],\n",
    "    [17, 18, 19, 20, 21, 22],\n",
    "    [23, 24, 25, 26, 27, 28],\n",
    "    [29, 30, 31, 32]\n",
    "]))\n",
    "\n"
   ]
  },
  {
   "cell_type": "markdown",
   "metadata": {},
   "source": []
  },
  {
   "cell_type": "code",
   "execution_count": null,
   "metadata": {
    "collapsed": false
   },
   "outputs": [],
   "source": []
  },
  {
   "cell_type": "code",
   "execution_count": null,
   "metadata": {
    "collapsed": true
   },
   "outputs": [],
   "source": []
  }
 ],
 "metadata": {
  "anaconda-cloud": {},
  "kernelspec": {
   "display_name": "Python [conda root]",
   "language": "python",
   "name": "conda-root-py"
  },
  "language_info": {
   "codemirror_mode": {
    "name": "ipython",
    "version": 2
   },
   "file_extension": ".py",
   "mimetype": "text/x-python",
   "name": "python",
   "nbconvert_exporter": "python",
   "pygments_lexer": "ipython2",
   "version": "2.7.12"
  }
 },
 "nbformat": 4,
 "nbformat_minor": 1
}
