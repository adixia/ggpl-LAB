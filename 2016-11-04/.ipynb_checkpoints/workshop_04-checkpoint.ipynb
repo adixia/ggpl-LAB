{
 "cells": [
  {
   "cell_type": "code",
   "execution_count": 1,
   "metadata": {
    "collapsed": false
   },
   "outputs": [
    {
     "name": "stdout",
     "output_type": "stream",
     "text": [
      "Evaluating fenvs.py..\n",
      "...fenvs.py imported in 0.005475 seconds\n"
     ]
    }
   ],
   "source": [
    "from pyplasm import *"
   ]
  },
  {
   "cell_type": "code",
   "execution_count": null,
   "metadata": {
    "collapsed": false
   },
   "outputs": [],
   "source": []
  },
  {
   "cell_type": "code",
   "execution_count": 134,
   "metadata": {
    "collapsed": false
   },
   "outputs": [],
   "source": [
    "def ggpl_my_roof_builder(verts,cells):\n",
    "    roof_structure=MKPOL([verts,cells,1])\n",
    "    roof_structure=(SKEL_1(roof_structure))\n",
    "    roof_structure=STRUCT([OFFSET([0.3,0.3,0.3])(roof_structure)])\n",
    "    size1=SIZE(3)(roof_structure)\n",
    "    mapVerts={}\n",
    "    for i in verts:\n",
    "        if(mapVerts.has_key((i[0],i[1])) and i[2]!=0):\n",
    "            mapVerts.update({(i[0],i[1]): i[2]})\n",
    "        else:\n",
    "            mapVerts[(i[0],i[1])]=i[2]\n",
    "            \n",
    "            \n",
    "    vertsN=[]\n",
    "    for i in verts:\n",
    "        if(mapVerts.has_key((i[0],i[1]))):\n",
    "            k=[i[0],i[1],mapVerts[(i[0],i[1])]]\n",
    "            vertsN.append(k)\n",
    "    print vertsN\n",
    "         \n",
    "    roof_structure2=STRUCT([MKPOL([vertsN,cells,1])])\n",
    "    roof_structure2=COLOR(RED)(OFFSET([0.3,0.3,0.3])(roof_structure2))\n",
    "   \n",
    "    return STRUCT([roof_structure,T(3)(0.3),(roof_structure2)])\n",
    "\n",
    "    \n",
    "\n",
    "    \n",
    "    "
   ]
  },
  {
   "cell_type": "code",
   "execution_count": null,
   "metadata": {
    "collapsed": false
   },
   "outputs": [
    {
     "name": "stdout",
     "output_type": "stream",
     "text": [
      "[[0, 0, 0], [10, 0, 0], [8, 2, 4], [2, 2, 4], [2, 2, 4], [8, 2, 4], [8, 2, 4], [2, 2, 4], [2, 2, 4], [8, 2, 4], [10, 4, 0], [4, 4, 0], [10, 0, 0], [10, 4, 0], [8, 2, 4], [8, 2, 4], [0, 0, 0], [0, 10, 0], [2, 8, 4], [2, 2, 4], [2, 2, 4], [2, 8, 4], [2, 2, 4], [4, 4, 0], [4, 10, 0], [2, 8, 4], [2, 2, 4], [2, 8, 4], [0, 10, 0], [4, 10, 0], [2, 8, 4], [2, 8, 4]]\n"
     ]
    }
   ],
   "source": [
    "#VIEW( ggpl_my_roof_builder([[0,0,0],[0,10,0],[5,5,0],[5,5,5],[15,0,0],[15,10,0],[10,5,0],[10,5,5]],[[3,4,2,1],[8,5,6,7],[5,8,7,3,4,1],[2,4,3,7,8,6]]))\n",
    "VIEW(ggpl_my_roof_builder([\n",
    "    [0, 0, 0], [10, 0, 0], [8, 2, 4], [2, 2, 4], [2, 2, 0], [8, 2, 0],\n",
    "    [8, 2, 0], [2, 2, 0], [2, 2, 4], [8, 2, 4], [10, 4, 0], [4, 4, 0],\n",
    "    [10, 0, 0], [10, 4, 0], [8, 2, 0], [8, 2, 4],\n",
    "    [0, 0, 0], [0, 10, 0], [2, 8, 0], [2, 2, 0], [2, 2, 4], [2, 8, 4],\n",
    "    [2, 2, 0], [4, 4, 0], [4, 10, 0], [2, 8, 0], [2, 2, 4], [2, 8, 4],\n",
    "    [0, 10, 0], [4, 10, 0], [2, 8, 0], [2, 8, 4]\n",
    "],[\n",
    "    [1, 2, 3, 4, 5, 6],\n",
    "    [7, 8, 9, 10, 11, 12],\n",
    "    [13, 14, 15, 16],\n",
    "    [17, 18, 19, 20, 21, 22],\n",
    "    [23, 24, 25, 26, 27, 28],\n",
    "    [29, 30, 31, 32]\n",
    "]))\n",
    "\n"
   ]
  },
  {
   "cell_type": "markdown",
   "metadata": {},
   "source": []
  },
  {
   "cell_type": "code",
   "execution_count": null,
   "metadata": {
    "collapsed": true
   },
   "outputs": [],
   "source": []
  }
 ],
 "metadata": {
  "anaconda-cloud": {},
  "kernelspec": {
   "display_name": "Python [conda root]",
   "language": "python",
   "name": "conda-root-py"
  },
  "language_info": {
   "codemirror_mode": {
    "name": "ipython",
    "version": 2
   },
   "file_extension": ".py",
   "mimetype": "text/x-python",
   "name": "python",
   "nbconvert_exporter": "python",
   "pygments_lexer": "ipython2",
   "version": "2.7.12"
  }
 },
 "nbformat": 4,
 "nbformat_minor": 1
}
