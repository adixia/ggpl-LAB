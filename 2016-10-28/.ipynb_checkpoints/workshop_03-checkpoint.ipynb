{
 "cells": [
  {
   "cell_type": "markdown",
   "metadata": {},
   "source": [
    "# Homework 03 - Alessandro Oddi\n",
    "## Immagine di riferimento\n",
    "\n",
    "![riferimento](https://github.com/adixia/ggpl-LAB/blob/master/2016-10-28/stairSample.jpg?raw=true)"
   ]
  },
  {
   "cell_type": "code",
   "execution_count": 1,
   "metadata": {
    "collapsed": false
   },
   "outputs": [
    {
     "name": "stdout",
     "output_type": "stream",
     "text": [
      "Evaluating fenvs.py..\n",
      "...fenvs.py imported in 0.005929 seconds\n"
     ]
    }
   ],
   "source": [
    "from pyplasm import *"
   ]
  },
  {
   "cell_type": "code",
   "execution_count": null,
   "metadata": {
    "collapsed": true
   },
   "outputs": [],
   "source": []
  },
  {
   "cell_type": "code",
   "execution_count": 2,
   "metadata": {
    "collapsed": true
   },
   "outputs": [],
   "source": [
    "def ggpl_scale_doppie(dx,dy,dz):\n",
    "    def stairValue(dz):\n",
    "        step = math.floor(dz * 100 / 18) + 1\n",
    "        riser = dz * 100 / step\n",
    "        tread = 64 - 2 * riser\n",
    "        return (int(step), riser / 100, tread / 100)\n",
    "    stairDatas= stairValue(dz)\n",
    "    \n",
    "    showStair(stairDatas,dx)\n",
    "    "
   ]
  },
  {
   "cell_type": "code",
   "execution_count": 19,
   "metadata": {
    "collapsed": false
   },
   "outputs": [],
   "source": [
    "def showStair(stairDatas,dx):\n",
    "    riser = stairDatas[1]\n",
    "    tread=stairDatas[2]\n",
    "    \n",
    "    singleStair = MKPOL([[[tread,riser],[tread,0],[tread,-riser],[0,-riser]],[[1,2,3,4]],1])\n",
    "    singleStair=PROD([singleStair,QUOTE([dx])])\n",
    "    print tread\n",
    "    print riser\n",
    "    print SIZE([1])(singleStair)\n",
    "    print SIZE([2])(singleStair)\n",
    "    print SIZE([3])(singleStair)\n",
    "    singleStair= STRUCT([T(2)(riser),singleStair])\n",
    "    singleStair=MAP([S1,S2,S3])(singleStair)\n",
    "    VIEW(singleStair)\n",
    "    \n",
    "\n",
    "    listStair=[]\n",
    "    for i in range(stairDatas[0]):\n",
    "        if(i!=0):\n",
    "            listStair.append(T([2,3])([tread,riser]))\n",
    "        if(i%2==0):\n",
    "            listStair.append(COLOR(RED)(singleStair))\n",
    "        else: \n",
    "            listStair.append(singleStair)\n",
    "        \n",
    "    VIEW(STRUCT(listStair))    \n",
    "            \n",
    "        "
   ]
  },
  {
   "cell_type": "code",
   "execution_count": null,
   "metadata": {
    "collapsed": false
   },
   "outputs": [
    {
     "name": "stdout",
     "output_type": "stream",
     "text": [
      "0.287058823529\n",
      "0.176470588235\n",
      "[0.28705883026123047]\n",
      "[0.3529411852359772]\n",
      "[1.0]\n"
     ]
    }
   ],
   "source": [
    "ggpl_scale_doppie(1,3,3)"
   ]
  },
  {
   "cell_type": "code",
   "execution_count": null,
   "metadata": {
    "collapsed": true
   },
   "outputs": [],
   "source": []
  },
  {
   "cell_type": "code",
   "execution_count": null,
   "metadata": {
    "collapsed": true
   },
   "outputs": [],
   "source": []
  }
 ],
 "metadata": {
  "anaconda-cloud": {},
  "kernelspec": {
   "display_name": "Python [conda root]",
   "language": "python",
   "name": "conda-root-py"
  },
  "language_info": {
   "codemirror_mode": {
    "name": "ipython",
    "version": 2
   },
   "file_extension": ".py",
   "mimetype": "text/x-python",
   "name": "python",
   "nbconvert_exporter": "python",
   "pygments_lexer": "ipython2",
   "version": "2.7.12"
  }
 },
 "nbformat": 4,
 "nbformat_minor": 1
}
