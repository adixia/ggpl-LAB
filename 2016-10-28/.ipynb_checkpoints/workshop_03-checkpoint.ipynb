{
 "cells": [
  {
   "cell_type": "markdown",
   "metadata": {},
   "source": [
    "# Homework 03 - Alessandro Oddi\n",
    "## Immagine di riferimento\n",
    "\n",
    "![riferimento](https://github.com/adixia/ggpl-LAB/blob/master/2016-10-28/stairSample.jpg?raw=true)"
   ]
  },
  {
   "cell_type": "code",
   "execution_count": 1,
   "metadata": {
    "collapsed": false
   },
   "outputs": [
    {
     "name": "stdout",
     "output_type": "stream",
     "text": [
      "Evaluating fenvs.py..\n",
      "...fenvs.py imported in 0.007243 seconds\n"
     ]
    }
   ],
   "source": [
    "from pyplasm import *"
   ]
  },
  {
   "cell_type": "code",
   "execution_count": 2,
   "metadata": {
    "collapsed": true
   },
   "outputs": [],
   "source": [
    "\"\"\" intRGBColor\n",
    "\n",
    "Metodo preso dal web per ottenere colori da RGB\n",
    "@param values: lista di tre interi RGB\n",
    "@return: Colore\n",
    "\"\"\"\n",
    "def intRGBColor(values):\n",
    "        return Color4f([ values[0]/255.0,\n",
    "                         values[1]/255.0,\n",
    "                         values[2]/255.0,\n",
    "                         1.0])\n",
    "BRICK = intRGBColor([211,153,127])\n",
    "LIGHT_BROWN = intRGBColor([77,65,27])"
   ]
  },
  {
   "cell_type": "code",
   "execution_count": 3,
   "metadata": {
    "collapsed": true
   },
   "outputs": [],
   "source": [
    "\"\"\" ggpl_scale_a_rampa\n",
    "\n",
    "Presi 3 valori in metri restituisce una scala a Rampa\n",
    "@param dx: larghezza su x del gradino\n",
    "@param dy: spazio che la scala occupa sul piano y\n",
    "@param dz: spazio che la scala occupa sul piano z\n",
    "@return: HPC della Scala\n",
    "\"\"\"\n",
    "def ggpl_scale_a_rampa(dx,dy,dz):\n",
    "    dx=dx/2\n",
    "    step = math.floor(dz * 100 / 18) + 1\n",
    "    riser = dz * 100 / step\n",
    "    tread = 64 - 2 * riser\n",
    "    return buildStair(int(step),riser/100,tread/100,dx,dy,dz)\n",
    "    "
   ]
  },
  {
   "cell_type": "code",
   "execution_count": 9,
   "metadata": {
    "collapsed": false
   },
   "outputs": [],
   "source": [
    "\"\"\" buildStair\n",
    "\n",
    "Metodo ausiliare di ggpl_scale a rampa che si occupa di creare l'hpc della scala\n",
    "@param step: numero di gradini minimo per coprire l'altezza dz\n",
    "@param riser: alzata del gradino\n",
    "@param tread: pedata del gradino\n",
    "@param dx: larghezza su x del gradino\n",
    "@param dy: spazio che la scala occupa sul piano y\n",
    "@param dz: spazio che la scala occupa sul piano z\n",
    "@return: HPC della Scala\n",
    "\"\"\"\n",
    "def buildStair(step,riser,tread,dx,dy,dz):\n",
    "    \n",
    "    hasPlatform=False\n",
    "    maxStepB4Platform=0\n",
    "    dzCurrent=0\n",
    "    y=[riser]\n",
    "    listStair=[]\n",
    "    listStair.append(T(2)(tread*3))\n",
    "    \n",
    "    \n",
    "    \"\"\"Si genera l'oggetto che rappresenta il singolo gradino\"\"\"\n",
    "    singleStair = MKPOL([[[tread,riser],[tread,0],[tread,-riser],[0,-riser],[0,0]],[[1,2,3,4,5]],1])\n",
    "    singleStair=PROD([singleStair,QUOTE([dx])])\n",
    "    singleStair=STRUCT([T([2,3])([tread,riser]),R([1, 3])(-math.pi / 2),R([1, 2])(3 * math.pi / 2),singleStair])\n",
    "    x=[0.15*riser]\n",
    "    nosing=CUBOID([dx,tread+0.1*tread])\n",
    "    nosing=COLOR(LIGHT_BROWN)(PROD([nosing,QUOTE(x)]))\n",
    "    singleStair=STRUCT([T(2)(0.1*tread),singleStair,T(3)(2*riser),T(2)(-0.1*tread),nosing])\n",
    "    \n",
    "    \"\"\" Viene creata la Piattarorma\"\"\"\n",
    "    platform=CUBOID([dx*2,tread*3])\n",
    "    platform=COLOR(LIGHT_BROWN)(PROD([platform,QUOTE(x)]))\n",
    "    basePlatform=COLOR(WHITE)(PROD([CUBOID([dx*2,tread*3]),QUOTE(y)]))\n",
    "    platform=STRUCT([platform,T(3)(-riser),basePlatform,T(3)(riser)])\n",
    "    \n",
    "    \n",
    "    \n",
    "    \"\"\"Si controlla se il nuero minimo di scalini può entrare nello spazio a disposizione,\n",
    "    in caso contrario si mette a True il fatto che la scala abbia una piattaforma \"\"\"\n",
    "    if((step>int(dy/tread))):\n",
    "        hasPlatform=True\n",
    "        maxStepB4Platform=int(dy/tread)-5 #max-Step-before-Platform\n",
    "   \n",
    "    \"\"\"finche non viene raggiunta l'altezza parametrica si continuano ad agigungere gradini\n",
    "    e in caso si raggiunga la dy massima consentita viene generata una piattaforma e creata\n",
    "    una seconda rampa di gradini\"\"\"\n",
    "    i=0\n",
    "    while(dzCurrent<=dz):\n",
    "        \n",
    "        if(hasPlatform and (i+1)%maxStepB4Platform==0):\n",
    "            listStair.append(T([2,3])([tread,riser*2]))\n",
    "            listStair.append(platform)\n",
    "            listStair.append(R([1, 2])( 3* math.pi))\n",
    "            listStair.append(T([1,2,3])([-2*dx,-(tread+0.1*tread),-2*riser]))\n",
    "        \n",
    "        else:    \n",
    "            if(i!=0):\n",
    "                listStair.append(T([2,3])([tread,riser]))\n",
    "            dzCurrent=dzCurrent+riser\n",
    "            if(dzCurrent+riser*0.15<=dz):\n",
    "                listStair.append(COLOR(WHITE)(singleStair))   \n",
    "        \n",
    "        i=i+1   \n",
    "    \n",
    "    return STRUCT(listStair)\n",
    "   \n",
    "            \n",
    "        "
   ]
  },
  {
   "cell_type": "code",
   "execution_count": null,
   "metadata": {
    "collapsed": false
   },
   "outputs": [],
   "source": [
    "\"\"\"Alcuni esempi di scale generabili\"\"\"\n",
    "VIEW(ggpl_scale_a_rampa(1.4,5.6,17.3))\n",
    "VIEW(ggpl_scale_a_rampa(2,8,5))\n"
   ]
  },
  {
   "cell_type": "code",
   "execution_count": null,
   "metadata": {
    "collapsed": true
   },
   "outputs": [],
   "source": [
    "    "
   ]
  },
  {
   "cell_type": "code",
   "execution_count": null,
   "metadata": {
    "collapsed": true
   },
   "outputs": [],
   "source": []
  },
  {
   "cell_type": "code",
   "execution_count": null,
   "metadata": {
    "collapsed": true
   },
   "outputs": [],
   "source": []
  }
 ],
 "metadata": {
  "anaconda-cloud": {},
  "kernelspec": {
   "display_name": "Python [conda root]",
   "language": "python",
   "name": "conda-root-py"
  },
  "language_info": {
   "codemirror_mode": {
    "name": "ipython",
    "version": 2
   },
   "file_extension": ".py",
   "mimetype": "text/x-python",
   "name": "python",
   "nbconvert_exporter": "python",
   "pygments_lexer": "ipython2",
   "version": "2.7.12"
  }
 },
 "nbformat": 4,
 "nbformat_minor": 1
}
