{
 "cells": [
  {
   "cell_type": "markdown",
   "metadata": {},
   "source": [
    "# Homework 03 - Alessandro Oddi\n",
    "## Immagine di riferimento\n",
    "\n",
    "![riferimento](https://github.com/adixia/ggpl-LAB/blob/master/2016-10-28/stairSample.jpg?raw=true)\n",
    "\n",
    "## Procedimento \n",
    "\n",
    "Scelta una scala di riferimento, ho iniziato creando il metodo richiesto dalla traccia che prendesse come parametri le dimensioni ***dx, dy, dz*** entro cui costruire la scala.\n",
    "In particolare ho voluto fare particolare attenzione alla possibilità di avere una scala a singola o doppia rampa: scelta in base alla dimensione dy passata come parametro.\n",
    "\n",
    "Ho seguito le direttive di [questo sito](http://www.uncome.it/casa/articolo/come-calcolare-una-scala-341.html) su come generare una scala a norma, rispettando la **legge di Blondel**. Con i primi calcoli del mio metodo sono riuscito ad estrapolare il numero minimo di gradini pedata e alzata, informazioni di fondamentale importanza per generare l'HPC della scala.\n",
    "\n",
    "Con un metodo ausiliare poi mi sono occupato della creazione della scala vera e propria. Il metodo cicla sull'altezza dz raggiunta dopo l'aggiunta di ogni scalino. In caso di insufficente spazio sul piano dy viene generata una piattaforma e viene ruotato il piano di riferimento; tutto ciò procede finche non si è raggiunta la dimensione del parametro dz desiderata. A questo punto vine generata l'immagine HPC che viene ritornata al metodo principale."
   ]
  },
  {
   "cell_type": "code",
   "execution_count": 1,
   "metadata": {
    "collapsed": false
   },
   "outputs": [
    {
     "name": "stdout",
     "output_type": "stream",
     "text": [
      "Evaluating fenvs.py..\n",
      "...fenvs.py imported in 0.005809 seconds\n"
     ]
    }
   ],
   "source": [
    "from pyplasm import *"
   ]
  },
  {
   "cell_type": "code",
   "execution_count": 2,
   "metadata": {
    "collapsed": true
   },
   "outputs": [],
   "source": [
    "\"\"\" intRGBColor\n",
    "\n",
    "Metodo preso dal web per ottenere colori da RGB\n",
    "@param values: lista di tre interi RGB\n",
    "@return: Colore\n",
    "\"\"\"\n",
    "def intRGBColor(values):\n",
    "        return Color4f([ values[0]/255.0,\n",
    "                         values[1]/255.0,\n",
    "                         values[2]/255.0,\n",
    "                         1.0])\n",
    "BRICK = intRGBColor([211,153,127])\n",
    "LIGHT_BROWN = intRGBColor([77,65,27])"
   ]
  },
  {
   "cell_type": "code",
   "execution_count": 3,
   "metadata": {
    "collapsed": true
   },
   "outputs": [],
   "source": [
    "\"\"\" ggpl_scale_a_rampa\n",
    "\n",
    "Presi 3 valori in metri restituisce una scala a Rampa\n",
    "@param dx: larghezza su x del gradino\n",
    "@param dy: spazio che la scala occupa sul piano y\n",
    "@param dz: spazio che la scala occupa sul piano z\n",
    "@return: HPC della Scala\n",
    "\"\"\"\n",
    "def ggpl_scale_a_rampa(dx,dy,dz):\n",
    "    dx=dx/2\n",
    "    step = math.floor(dz * 100 / 18) + 1\n",
    "    riser = dz * 100 / step\n",
    "    tread = 64 - 2 * riser\n",
    "    return buildStair(int(step),riser/100,tread/100,dx,dy,dz)\n",
    "    "
   ]
  },
  {
   "cell_type": "code",
   "execution_count": 156,
   "metadata": {
    "collapsed": false
   },
   "outputs": [],
   "source": [
    "\"\"\" buildStair\n",
    "\n",
    "Metodo ausiliare di ggpl_scale a rampa che si occupa di creare l'hpc della scala\n",
    "@param step: numero di gradini minimo per coprire l'altezza dz\n",
    "@param riser: alzata del gradino\n",
    "@param tread: pedata del gradino\n",
    "@param dx: larghezza su x del gradino\n",
    "@param dy: spazio che la scala occupa sul piano y\n",
    "@param dz: spazio che la scala occupa sul piano z\n",
    "@return: HPC della Scala\n",
    "\"\"\"\n",
    "def buildStair(step,riser,tread,dx,dy,dz):\n",
    "    \n",
    "    hasPlatform=False\n",
    "    maxStepB4Platform=0\n",
    "    dzCurrent=0\n",
    "    y=[riser]\n",
    "    listStair=[]\n",
    "    listStair.append(T(2)(tread*3))\n",
    "    \n",
    "    \n",
    "    \"\"\"Si genera l'oggetto che rappresenta il singolo gradino\"\"\"\n",
    "    firstStair = MKPOL([[[tread,riser],[tread,0],[0,0],[0,riser]],[[1,2,3,4]],1])\n",
    "    firstStair=PROD([firstStair,QUOTE([dx])])\n",
    "    firstStair=STRUCT([T([2,3])([tread,riser]),R([1, 3])(-math.pi / 2),R([1, 2])(3 * math.pi / 2),firstStair])\n",
    "    singleStair = MKPOL([[[tread,riser],[tread,0],[tread,-riser],[0,-riser],[0,0]],[[1,2,3,4,5]],1])\n",
    "    singleStair=PROD([singleStair,QUOTE([dx])])\n",
    "    singleStair=STRUCT([T([2,3])([tread,riser]),R([1, 3])(-math.pi / 2),R([1, 2])(3 * math.pi / 2),singleStair])\n",
    "    x=[0.15*riser]\n",
    "    nosing=CUBOID([dx,tread+0.1*tread])\n",
    "    nosing=COLOR(LIGHT_BROWN)(PROD([nosing,QUOTE(x)]))\n",
    "    handrail=MKPOL([[[0,0],[tread,riser],[tread,riser+riser*0.5],[0,riser-riser*0.5],[0,0]],[[1,2,3,4,5]],1])\n",
    "    handrail=COLOR(LIGHT_BROWN)(PROD([handrail,QUOTE([0.08])]))\n",
    "    supportHandrail=STRUCT([T(1)((0.01*3)),T(2)((tread+0.1*tread)/2-(0.02*5)),T(3)(riser*2),CUBOID([0.01,0.02,0.9]),T(2)(0.2*tread),CUBOID([0.01,0.02,0.95]),T(2)(0.2*tread),CUBOID([0.01,0.02,1])])\n",
    "    firstStair=STRUCT([firstStair,T(3)(riser),T(2)(-0.1*tread),nosing,T(3)(0.8)])\n",
    "    singleStair=STRUCT([T(2)(0.1*tread),supportHandrail,singleStair,T(3)(2*riser),T(2)(-0.1*tread),nosing,T(3)(0.8),R([1, 3])(-math.pi / 2),R([1, 2])( math.pi / 2),handrail,T(3)(-0.8)])\n",
    "    listStair.append(T(2)(-tread))\n",
    "    listStair.append(firstStair)\n",
    "    listStair.append(T(2)(tread-0.1*tread))\n",
    "    \n",
    "    \"\"\" Viene creata la Piattarorma\"\"\"\n",
    "    platform=CUBOID([dx*2+0.1,tread*3])\n",
    "    platform=COLOR(LIGHT_BROWN)(PROD([platform,QUOTE(x)]))\n",
    "    basePlatform=COLOR(WHITE)(PROD([CUBOID([dx*2+0.1,tread*3]),QUOTE(y)]))\n",
    "    supportHandrail=STRUCT([CUBOID([0.01,0.02,0.95]),T(2)(0.2*tread),CUBOID([0.01,0.02,0.95]),T(2)(0.2*tread),CUBOID([0.01,0.02,0.95])])\n",
    "    handrailPlatorform=COLOR(LIGHT_BROWN)(STRUCT([CUBOID([0.08,tread*3,riser-riser*0.5]),\n",
    "                                          T([2])([tread*3-0.08]),CUBOID([dx*2+0.1,0.08,riser-riser*0.5]),\n",
    "                                          T([1,2])([2*dx-0.08+0.1,-tread*3+0.08]),CUBOID([0.08,tread*3-0.08,riser-riser*0.5])]))\n",
    "    frames= STRUCT([supportHandrail,T(2)((tread)),supportHandrail,\n",
    "                                          T(2)((tread)),supportHandrail])\n",
    "    supporthandrailPlatform=(STRUCT([T([1,2,3])([0.2*tread,0.3*tread,riser*0.15]),frames, T(2)(SIZE(2)(frames)+0.18*tread),\n",
    "                                          R([2, 1])(math.pi / 2),T([2])(dx*0.2+0.05),supportHandrail,\n",
    "                                          T([2])(dx*0.4),supportHandrail,T([2])(dx*0.35),supportHandrail,\n",
    "                                          T([2])(dx*0.4),supportHandrail,T([1,2])([tread*0.3,dx*0.45+0.1]),\n",
    "                                          R([2, 1])(math.pi / 2),frames]))\n",
    "    platform=STRUCT([supporthandrailPlatform, platform,T(3)(-riser),basePlatform,T(3)(riser),T(3)(0.8+(riser-riser*0.5)*2),handrailPlatorform,T(3)(-0.8-(riser-riser*0.5)*2)])\n",
    "    \n",
    "    \n",
    "    \n",
    "    \"\"\"Si controlla se il nuero minimo di scalini può entrare nello spazio a disposizione,\n",
    "    in caso contrario si mette a True il fatto che la scala abbia una piattaforma \"\"\"\n",
    "    if((step>int(dy/tread))):\n",
    "        hasPlatform=True\n",
    "        maxStepB4Platform=int(dy/tread)-5 #max-Step-before-Platform\n",
    "   \n",
    "    \"\"\"finche non viene raggiunta l'altezza parametrica si continuano ad agigungere gradini\n",
    "    e in caso si raggiunga la dy massima consentita viene generata una piattaforma e creata\n",
    "    una seconda rampa di gradini\"\"\"\n",
    "    i=0\n",
    "    while(dzCurrent<=dz):\n",
    "        \n",
    "        if(hasPlatform and (i+1)%maxStepB4Platform==0):\n",
    "            listStair.append(T([2,3])([tread,riser*2]))\n",
    "            listStair.append(platform)\n",
    "            listStair.append(R([1, 2])( 3* math.pi))\n",
    "            listStair.append(T([1,2,3])([-2*dx-0.1,-(tread+0.1*tread),-2*riser]))\n",
    "        \n",
    "        else:    \n",
    "            if(i!=0):\n",
    "                listStair.append(T([2,3])([tread,riser]))\n",
    "            dzCurrent=dzCurrent+riser\n",
    "            if(dzCurrent+riser*0.15<=dz):\n",
    "                listStair.append(COLOR(WHITE)(singleStair))   \n",
    "        \n",
    "        i=i+1   \n",
    "    \n",
    "    listStair= STRUCT(listStair)\n",
    "    if(hasPlatform):\n",
    "        listStair= STRUCT([listStair,T([1,2])([dx,tread*3]),CUBOID([0.1,dy-tread*7,dz])])\n",
    "    return listStair\n",
    "   \n",
    "            \n",
    "        "
   ]
  },
  {
   "cell_type": "code",
   "execution_count": null,
   "metadata": {
    "collapsed": false
   },
   "outputs": [],
   "source": [
    "\"\"\"Alcuni esempi di scale generabili\"\"\"\n",
    "VIEW(ggpl_scale_a_rampa(1.4,5.6,17.3))\n",
    "VIEW(ggpl_scale_a_rampa(2,8,5))\n"
   ]
  },
  {
   "cell_type": "markdown",
   "metadata": {
    "collapsed": true
   },
   "source": [
    "## Immagini dei Risultati    \n",
    "\n",
    "Scala a doppia rampa 1\n",
    "\n",
    "![imag1](https://github.com/adixia/ggpl-LAB/blob/master/2016-10-28/test1.png?raw=true)\n",
    "\n",
    "Scala a doppia rampa 2\n",
    "\n",
    "![imag1](https://github.com/adixia/ggpl-LAB/blob/master/2016-10-28/test4.png?raw=true)\n",
    "\n",
    "Scala a singola rampa\n",
    "\n",
    "![imag1](https://github.com/adixia/ggpl-LAB/blob/master/2016-10-28/test3.png?raw=true)\n",
    "\n",
    "\n",
    "Come si vede dall'immagine sottostante la scala generata occupa completamente lo spazio di un generico poligono di dimensioni dx,dy,dz\n",
    "\n",
    "![imag1](https://github.com/adixia/ggpl-LAB/blob/master/2016-10-28/test2.png?raw=true)\n"
   ]
  },
  {
   "cell_type": "markdown",
   "metadata": {
    "collapsed": true
   },
   "source": [
    "## Aggiornamenti\n",
    "\n",
    "Ho Aggiunto nell'ultimo commit anche il corrimano cosi che le scale assomiglino ancora di più alla scala presa come riferimento:\n",
    "\n",
    "![esempioN](https://github.com/adixia/ggpl-LAB/blob/master/2016-10-28/test5.png?raw=true)\n",
    "\n",
    "![esempioN](https://github.com/adixia/ggpl-LAB/blob/master/2016-10-28/test6.png?raw=true)\n",
    "\n",
    "![esempioN](https://github.com/adixia/ggpl-LAB/blob/master/2016-10-28/test7.png?raw=true)\n"
   ]
  },
  {
   "cell_type": "code",
   "execution_count": null,
   "metadata": {
    "collapsed": true
   },
   "outputs": [],
   "source": []
  },
  {
   "cell_type": "code",
   "execution_count": null,
   "metadata": {
    "collapsed": true
   },
   "outputs": [],
   "source": []
  }
 ],
 "metadata": {
  "anaconda-cloud": {},
  "kernelspec": {
   "display_name": "Python [conda root]",
   "language": "python",
   "name": "conda-root-py"
  },
  "language_info": {
   "codemirror_mode": {
    "name": "ipython",
    "version": 2
   },
   "file_extension": ".py",
   "mimetype": "text/x-python",
   "name": "python",
   "nbconvert_exporter": "python",
   "pygments_lexer": "ipython2",
   "version": "2.7.12"
  }
 },
 "nbformat": 4,
 "nbformat_minor": 1
}
