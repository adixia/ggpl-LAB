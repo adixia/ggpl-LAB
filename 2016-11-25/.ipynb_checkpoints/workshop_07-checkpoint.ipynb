{
 "cells": [
  {
   "cell_type": "markdown",
   "metadata": {},
   "source": [
    "### Finestre work in progress\n",
    "\n",
    "![finestra esempio 1](https://github.com/adixia/ggpl-LAB/blob/master/2016-11-25/products-double-hung-window-2x.jpg?raw=true)\n",
    "![finestra esempio 2](https://github.com/adixia/ggpl-LAB/blob/master/2016-11-25/Custom-made-Aluminum-bay-window-for-sale.jpg?raw=true)\n"
   ]
  },
  {
   "cell_type": "code",
   "execution_count": 14,
   "metadata": {
    "collapsed": false
   },
   "outputs": [
    {
     "name": "stdout",
     "output_type": "stream",
     "text": [
      "Evaluating fenvs.py..\n",
      "...fenvs.py imported in 0.005144 seconds\n"
     ]
    }
   ],
   "source": [
    "from pyplasm import *"
   ]
  },
  {
   "cell_type": "code",
   "execution_count": 15,
   "metadata": {
    "collapsed": false
   },
   "outputs": [],
   "source": [
    "## <Design_of_Doors_and_Windows>\n",
    "def design_4_Windows():\n",
    "    \n",
    "    return scale_and_rotate\n",
    "\n",
    "def scale_and_rotate(dx,dy,dz):\n",
    "    return 0;\n",
    "    \n",
    "    "
   ]
  },
  {
   "cell_type": "code",
   "execution_count": 16,
   "metadata": {
    "collapsed": false
   },
   "outputs": [
    {
     "name": "stdout",
     "output_type": "stream",
     "text": [
      "0\n"
     ]
    }
   ],
   "source": [
    "X=[1,5,1,5,1,5,1,5,1]\n",
    "Y=[1,10,0.5,10,0.5,10,1]\n",
    "z=[]\n",
    "boolean=[[1,1,1,1,1,1,1,1,1],[1,0,1,0,1,0,1,0,1],[1,1,1,1,1,1,1,1,1],\n",
    "         [1,0,0,0,0,0,0,0,1],[1,1,1,1,1,1,1,1,1],[1,0,0,0,0,0,0,0,1],[1,1,1,1,1,1,1,1,1]]\n",
    "print(design_4_Windows()(1,1,1))"
   ]
  },
  {
   "cell_type": "code",
   "execution_count": null,
   "metadata": {
    "collapsed": true
   },
   "outputs": [],
   "source": []
  }
 ],
 "metadata": {
  "kernelspec": {
   "display_name": "Python [conda root]",
   "language": "python",
   "name": "conda-root-py"
  },
  "language_info": {
   "codemirror_mode": {
    "name": "ipython",
    "version": 2
   },
   "file_extension": ".py",
   "mimetype": "text/x-python",
   "name": "python",
   "nbconvert_exporter": "python",
   "pygments_lexer": "ipython2",
   "version": "2.7.12"
  }
 },
 "nbformat": 4,
 "nbformat_minor": 1
}
