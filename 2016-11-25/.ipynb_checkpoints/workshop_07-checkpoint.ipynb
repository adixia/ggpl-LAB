{
 "cells": [
  {
   "cell_type": "markdown",
   "metadata": {},
   "source": [
    "### Finestre work in progress\n",
    "\n",
    "![finestra esempio 1](https://github.com/adixia/ggpl-LAB/blob/master/2016-11-25/products-double-hung-window-2x.jpg?raw=true)\n",
    "![finestra esempio 2](https://github.com/adixia/ggpl-LAB/blob/master/2016-11-25/Custom-made-Aluminum-bay-window-for-sale.jpg?raw=true)\n"
   ]
  },
  {
   "cell_type": "code",
   "execution_count": 1,
   "metadata": {
    "collapsed": false
   },
   "outputs": [
    {
     "name": "stdout",
     "output_type": "stream",
     "text": [
      "Evaluating fenvs.py..\n",
      "...fenvs.py imported in 0.00905 seconds\n"
     ]
    }
   ],
   "source": [
    "from pyplasm import *"
   ]
  },
  {
   "cell_type": "code",
   "execution_count": 2,
   "metadata": {
    "collapsed": true
   },
   "outputs": [],
   "source": [
    "\"\"\" intRGBColor\n",
    "\n",
    "Metodo preso dal web per ottenere colori da RGB\n",
    "@param values: lista di tre interi RGB\n",
    "@return: Colore\n",
    "\"\"\"\n",
    "def intRGBColor(values):\n",
    "        return Color4f([ values[0]/255.0,\n",
    "                         values[1]/255.0,\n",
    "                         values[2]/255.0,\n",
    "                         0.5])\n",
    "GOLD=intRGBColor([238,232,170])\n",
    "LIGHT_BLUE = intRGBColor([192,242,247])"
   ]
  },
  {
   "cell_type": "code",
   "execution_count": 3,
   "metadata": {
    "collapsed": true
   },
   "outputs": [],
   "source": [
    "def create_openable_window(X,Y,Z,dx,dy,handle,mirror_or_not_mirror):\n",
    "    sum=0\n",
    "    toReturn=[]\n",
    "    ehigth=0\n",
    "    handle=COLOR(GOLD)(STRUCT([T(3)(Z[0]),R([1,2])(math.pi/2),handle]))\n",
    "    for i in range(len(mirror_or_not_mirror)):\n",
    "        for j in range(len(mirror_or_not_mirror[i])):\n",
    "            if(mirror_or_not_mirror[i][j]==1):\n",
    "                sum=sum+1\n",
    "        if(i%2==0 and sum==(len(mirror_or_not_mirror[i])+2)):\n",
    "            \n",
    "            xscale=[]\n",
    "            for scale in range(len(X)):\n",
    "                if(scale%2==0):\n",
    "                    xscale.append(X[scale])\n",
    "                else:\n",
    "                    xscale.append(X[scale]+dx)\n",
    "            lenX=0\n",
    "            for h in xscale:\n",
    "                lenX= lenX +h\n",
    "            if(lenX>0):\n",
    "                toAdd=CUBOID([lenX,Y[i],Z[0]])\n",
    "                toReturn.append(toAdd)\n",
    "                toReturn.append(T(2)(Y[i]))\n",
    "                toAdd2=CUBOID([Z[0],Y[i+1]+dy,Z[0]])\n",
    "                glass=COLOR(LIGHT_BLUE)(STRUCT([T(3)(Z[0]/2.0),CUBOID([(lenX-1*Z[0]),Y[i+1]+dy,Z[0]/10.0])]))\n",
    "                toAdd2=STRUCT([toAdd2,T(1)(Z[0]),glass,T(1)(lenX-2*Z[0]),toAdd2,T(1)(-(lenX-1*Z[0]))])\n",
    "                toReturn.append(toAdd2)\n",
    "                toReturn.append(T(2)(Y[i+1]+dy))\n",
    "                toReturn.append(toAdd)\n",
    "                toReturn.append(T(2)(Y[i]))\n",
    "                toReturn=STRUCT(toReturn)\n",
    "                toReturn=STRUCT([toReturn,T([1,2])([(SIZE(1)(toReturn))/2.0,(SIZE(2)(toReturn)+ehigth)-Z[0]]),handle])\n",
    "                return toReturn\n",
    "                \n",
    "        elif(i%2==0 and i+1!=len(Y)):\n",
    "            sum=0\n",
    "            ehigth=ehigth+Y[i]+Y[i+1]+dy\n",
    "            toReturn.append(T(2)(Y[i]))\n",
    "            toReturn.append(T(2)(Y[i+1]+dy))\n",
    "    return 0    "
   ]
  },
  {
   "cell_type": "code",
   "execution_count": 190,
   "metadata": {
    "collapsed": false
   },
   "outputs": [],
   "source": [
    "## <Design_of_Doors_and_Windows>\n",
    "def design_4_Windows(X,Y,Z,mirror_or_not_mirror,recursive=False):\n",
    "\n",
    "        \n",
    "    def scale_and_rotate(dx,dy,dz):\n",
    "        final_struct=[]\n",
    "        sum=0\n",
    "        window_and_handle=[]\n",
    "        handle=STRUCT([CUBOID([Z[0]*2,Z[0],Z[0]]),T([1,3])([Z[0],Z[0]]),CUBOID([Z[0],Z[0]*5,Z[0]]),\n",
    "                       T([1,2,3])([-Z[0],Z[0]*4,-Z[0]]),CUBOID([Z[0]*2,Z[0],Z[0]])])\n",
    "        \n",
    "        for i in range(len(mirror_or_not_mirror)):\n",
    "            if(i==1):\n",
    "                window_and_handle= create_openable_window(X,Y,Z,dx,dy,handle,mirror_or_not_mirror)\n",
    "            for j in range(len(mirror_or_not_mirror[i])):\n",
    "                scaleY=0 \n",
    "                if (mirror_or_not_mirror[i][j]==0):\n",
    "                    X[j]= (-1.0)*abs(X[j])\n",
    "                else:\n",
    "                    sum=sum+1\n",
    "                    X[j]=abs(X[j])        \n",
    "            \n",
    "            if(recursive and sum==len(Y) and i==1):\n",
    "                print(\"open the window\")\n",
    "                scaleY=dy\n",
    "            \n",
    "            elif(sum!=0):\n",
    "                xscale=[]\n",
    "                for scale in range(len(X)):\n",
    "                    dx=abs(dx)\n",
    "                    if(X[scale]<0):\n",
    "                        dx=-1.0*dx\n",
    "                    if(scale%2==0):\n",
    "                        xscale.append(X[scale])\n",
    "                    else:\n",
    "                        xscale.append(X[scale]+dx)      \n",
    "                if(i%2!=0):\n",
    "                    scaleY=dy\n",
    "                toAdd= PROD([QUOTE(xscale),QUOTE([Y[i]+scaleY])])\n",
    "                final_struct.append(toAdd)\n",
    "            final_struct.append(T(2)(Y[i]+scaleY))\n",
    "            sum=0\n",
    "        \n",
    "        final_struct=STRUCT(final_struct)\n",
    "        final_struct=(PROD([final_struct,QUOTE(Z)]))\n",
    "        if(recursive==False):\n",
    "            mirror=COLOR(LIGHT_BLUE)(inverte_0_1(X,Y,Z,(dx,dy,dz),mirror_or_not_mirror))\n",
    "            final_struct=STRUCT([final_struct,T(3)(Z[0]/2.0),mirror])\n",
    "            if((window_and_handle)!=0):\n",
    "                final_struct=STRUCT([final_struct,T([2,3])([-Y[1]/3.0-dy,Z[0]]),window_and_handle])\n",
    "    \n",
    "        \n",
    "        window1=final_struct\n",
    "        window2=final_struct\n",
    "        window3=final_struct \n",
    "        separator= CUBOID([Z[0]*3,SIZE(2)(window2),Z[0]]);\n",
    "        \n",
    "        window2=STRUCT([T([1,3])([Z[0],0]),window2])\n",
    "        window2=(STRUCT([R([1,3])(math.pi*1/4),(window2)]))\n",
    "        window3=STRUCT([R([1,3])(-math.pi*1/4),(window1)])\n",
    "            \n",
    "        value=math.sqrt(Z[0]*Z[0]*2)\n",
    "        window3=STRUCT([T([1,3])([0,SIZE(3)(window3)-value]),window3])\n",
    "        \n",
    "        \"\"\"k=(SIZE(1)(STRUCT([window2,window3])),SIZE(2)(STRUCT([window2,window3])),SIZE(3)(STRUCT([window2,window3])))\n",
    "        if(recursive!=True):\n",
    "            VIEW(STRUCT([SKEL_1(CUBOID([k[0],k[1],k[2]])),window2,window3]))\"\"\"\n",
    "        \n",
    "        \n",
    "        window1=STRUCT([separator,T([1,3])([Z[0]*3,0]),window1,T(1)(SIZE(1)(window1)),separator])\n",
    "        window1=STRUCT([window3,T([1])([SIZE(1)(window3)-Z[0],0]),window1])\n",
    "        window1=STRUCT([T(3)(Z[0]),window1])\n",
    "        window1=STRUCT([window1,T([1,3])([SIZE(1)(window1)-value/4.0,+value/4.0]),window2])\n",
    "        \n",
    "        if(recursive):\n",
    "            return final_struct\n",
    "        else:\n",
    "            VIEW(SKEL_1(window1))\n",
    "            return window1\n",
    "    \n",
    "    \n",
    "\n",
    "    return scale_and_rotate\n",
    "\n",
    "\n",
    "    \n",
    "def inverte_0_1(X,Y,Z,(dx,dy,dz),listOfList):\n",
    "    for i in range(len(listOfList)):\n",
    "        for j in range(len(listOfList[i])):\n",
    "            if(listOfList[i][j]==0):\n",
    "                listOfList[i][j]=1\n",
    "            else:\n",
    "                listOfList[i][j]=0\n",
    "    if(i==0):\n",
    "        return []\n",
    "\n",
    "    valueZ=Z[0]\n",
    "    return design_4_Windows(X,Y,[valueZ/10],listOfList,True)(dx,dy,dz)\n"
   ]
  },
  {
   "cell_type": "code",
   "execution_count": null,
   "metadata": {
    "collapsed": false,
    "scrolled": true
   },
   "outputs": [
    {
     "name": "stdout",
     "output_type": "stream",
     "text": [
      "open the window\n"
     ]
    }
   ],
   "source": [
    "X=[1,5,1,5,1,5,1,5,1]\n",
    "Y=[1,10,1,10,1,10,1]\n",
    "Z=[0.5]\n",
    "mirror_or_not_mirror=[\n",
    "    [1,1,1,1,1,1,1,1,1],\n",
    "    [1,0,0,0,0,0,0,0,1],\n",
    "    [1,1,1,1,1,1,1,1,1],\n",
    "    [1,0,0,0,0,0,0,0,1],\n",
    "    [1,1,1,1,1,1,1,1,1],\n",
    "    [1,0,1,0,1,0,1,0,1],\n",
    "    [1,1,1,1,1,1,1,1,1]]\n",
    "VIEW(design_4_Windows(X,Y,Z,mirror_or_not_mirror)(1,1,1))"
   ]
  },
  {
   "cell_type": "code",
   "execution_count": null,
   "metadata": {
    "collapsed": false
   },
   "outputs": [],
   "source": []
  },
  {
   "cell_type": "code",
   "execution_count": null,
   "metadata": {
    "collapsed": false
   },
   "outputs": [],
   "source": []
  },
  {
   "cell_type": "code",
   "execution_count": null,
   "metadata": {
    "collapsed": true
   },
   "outputs": [],
   "source": []
  },
  {
   "cell_type": "code",
   "execution_count": null,
   "metadata": {
    "collapsed": true
   },
   "outputs": [],
   "source": []
  }
 ],
 "metadata": {
  "anaconda-cloud": {},
  "kernelspec": {
   "display_name": "Python [conda root]",
   "language": "python",
   "name": "conda-root-py"
  },
  "language_info": {
   "codemirror_mode": {
    "name": "ipython",
    "version": 2
   },
   "file_extension": ".py",
   "mimetype": "text/x-python",
   "name": "python",
   "nbconvert_exporter": "python",
   "pygments_lexer": "ipython2",
   "version": "2.7.12"
  }
 },
 "nbformat": 4,
 "nbformat_minor": 1
}
