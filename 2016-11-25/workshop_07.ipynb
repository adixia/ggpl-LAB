{
 "cells": [
  {
   "cell_type": "markdown",
   "metadata": {},
   "source": [
    "## Le mie finestre e le mie porte\n",
    "\n",
    "Come sempre ho iniziato il progetto documentandomi su come dovrebbe essere fatta una finestra e, di conseguenza, una porta finestra. Ecco le mie immagini di riferimento:\n",
    "\n",
    "![finestra esempio 1](https://github.com/adixia/ggpl-LAB/blob/master/2016-11-25/products-double-hung-window-2x.jpg?raw=true)\n",
    "(la finestra sopra è stata ricreata, vedere la sezione risultati)\n",
    "![finestra esempio 2](https://github.com/adixia/ggpl-LAB/blob/master/2016-11-25/Custom-made-Aluminum-bay-window-for-sale.jpg?raw=true)\n"
   ]
  },
  {
   "cell_type": "code",
   "execution_count": 2,
   "metadata": {
    "collapsed": false
   },
   "outputs": [
    {
     "name": "stdout",
     "output_type": "stream",
     "text": [
      "Evaluating fenvs.py..\n",
      "...fenvs.py imported in 0.006159 seconds\n"
     ]
    }
   ],
   "source": [
    "from pyplasm import *"
   ]
  },
  {
   "cell_type": "code",
   "execution_count": 8,
   "metadata": {
    "collapsed": true
   },
   "outputs": [],
   "source": [
    "\"\"\" intRGBColor\n",
    "\n",
    "Metodo preso dal web per ottenere colori da RGB\n",
    "@param values: lista di tre interi RGB\n",
    "@return: Colore\n",
    "\"\"\"\n",
    "def intRGBColor(values):\n",
    "        return Color4f([ values[0]/255.0,\n",
    "                         values[1]/255.0,\n",
    "                         values[2]/255.0,\n",
    "                         0.5])\n",
    "GOLD=intRGBColor([238,232,170])\n",
    "LIGHT_BLUE = intRGBColor([192,242,247])\n",
    "LIGHT_BROWN = intRGBColor([193,157,98])"
   ]
  },
  {
   "cell_type": "markdown",
   "metadata": {},
   "source": [
    "## l'algorimo per creare le finestre\n",
    "\n",
    "Il metodo principale che si occupa di generare la finstra di riferimento è design_4_Windows; \n",
    "Il problema più grande è come passare i dati alla funzione, infatti per generare il reticolo di legno e vetro della finestra si devono passare quattro array: \n",
    "* X: le dimensioni su X di ogni pezzo di legno o di vetro\n",
    "* Y: le dimensioni su Y di ogni pezzo di legno o di vetro\n",
    "* Z: un array con un solo elemento, lo spessore della finestra\n",
    "* mirror_not_mirorr: è un array che descrive se nella iesima-cella in posizione X,Y, c'è vetro (0) o c'è legno (1)\n",
    "\n",
    "Il caso base della generazione del legno è presto risolto con un semplice check se in posizione i ci fosse 1 oppure 0.\n",
    "Per quanto riguarda il caso del vetro e volendo riusare il codice, ho usato un po' di ricorsione: nello specifico ho passato il compito di inverire l'array  mirror_not_mirror alla funzione inverte_0_1 che dopo aver invertito tutto richiama la funzione design_4_Windows mettendo il tag booleano \"ricorsione\" a True, cosi da non entrare in un loop infinito. A questo punto ci si ritrova ad avere 2 hpc uno rappresentante la struttura in legno, l'altro quella in vetro (vedere l'immagine)\n",
    "\n",
    "![risultati1](https://github.com/adixia/ggpl-LAB/blob/master/2016-11-25/fram3.png?raw=true)\n",
    "\n",
    "Unite le due immagini non ci resta che triplicare l'hpc risultante e creare un hpc in cui le tre finestre siano ognuna a 45° dalla succesiva. Per rendere piu credibile la finestra, se c'è spazio (e lo si vede dall'array mirror_not_mirror) il metodo ausiliario create_openable_window crea una ulteriore finestra con maniglia e la pone sopra le finestre gia create, dopo aver tolto uno dei vetri. \n",
    "In Tutto questo è stata inserita anche la possibilità di usare i parametri dx,dy per scalare l'a finestra creata,l'accortezza è che vengono allargate soltanto le parti della finestra che non sono di congiunzione.\n",
    "\n",
    "## Risultati \n",
    "\n",
    "![risultati1](https://github.com/adixia/ggpl-LAB/blob/master/2016-11-25/fram1.png?raw=true)\n",
    "\n",
    "![risultati1](https://github.com/adixia/ggpl-LAB/blob/master/2016-11-25/fram4.png?raw=true)\n",
    "\n",
    "![risultati1](https://github.com/adixia/ggpl-LAB/blob/master/2016-11-25/fram5.png?raw=true)\n",
    "\n",
    "![risultati1](https://github.com/adixia/ggpl-LAB/blob/master/2016-11-25/fram8.png?raw=true)\n",
    "(finestra scalata in altezza: dimensioni adeguate a quelle di una finestra di una cattedrale!)\n",
    "\n",
    "![risultati1](https://github.com/adixia/ggpl-LAB/blob/master/2016-11-25/fram9.png?raw=true)"
   ]
  },
  {
   "cell_type": "code",
   "execution_count": 9,
   "metadata": {
    "collapsed": false
   },
   "outputs": [],
   "source": [
    "\"\"\" create_openable_window\n",
    "\n",
    "Metodo ausiliare che genera una finestra e una maniglia per il metodo design_4_Windows\n",
    "\n",
    "@param values: gli stessi di design_4_Windows, la maniglia d'aggiungere\n",
    "@return: hpc di una finestra con maniglia\n",
    "\"\"\"\n",
    "def create_openable_window(X,Y,Z,dx,dy,handle,mirror_or_not_mirror):\n",
    "    sum=0\n",
    "    toReturn=[]\n",
    "    ehigth=0\n",
    "    handle=COLOR(GOLD)(STRUCT([T(3)(Z[0]),R([1,2])(math.pi/2),handle]))\n",
    "    for i in range(len(mirror_or_not_mirror)):\n",
    "        for j in range(len(mirror_or_not_mirror[i])):\n",
    "            if(mirror_or_not_mirror[i][j]==1):\n",
    "                sum=sum+1\n",
    "        if(i%2==0 and sum==(len(mirror_or_not_mirror[i])+2)):\n",
    "            \n",
    "            xscale=[]\n",
    "            for scale in range(len(X)):\n",
    "                if(scale%2==0):\n",
    "                    xscale.append(X[scale])\n",
    "                else:\n",
    "                    xscale.append(X[scale]+dx)\n",
    "            lenX=0\n",
    "            for h in xscale:\n",
    "                lenX= lenX +h\n",
    "            if(lenX>0):\n",
    "                toAdd=CUBOID([lenX,Y[i],Z[0]])\n",
    "                toReturn.append(toAdd)\n",
    "                toReturn.append(T(2)(Y[i]))\n",
    "                toAdd2=CUBOID([Z[0],Y[i+1]+dy,Z[0]])\n",
    "                glass=COLOR(LIGHT_BLUE)(STRUCT([T(3)(Z[0]/2.0),CUBOID([(lenX-1*Z[0]),Y[i+1]+dy,Z[0]/10.0])]))\n",
    "                toAdd2=STRUCT([toAdd2,T(1)(Z[0]),glass,T(1)(lenX-2*Z[0]),toAdd2,T(1)(-(lenX-1*Z[0]))])\n",
    "                toReturn.append(toAdd2)\n",
    "                toReturn.append(T(2)(Y[i+1]+dy))\n",
    "                toReturn.append(toAdd)\n",
    "                toReturn.append(T(2)(Y[i]))\n",
    "                toReturn=STRUCT(toReturn)\n",
    "                toReturn=STRUCT([toReturn,T([1,2])([(SIZE(1)(toReturn))/2.0,(SIZE(2)(toReturn)+ehigth)-Z[0]]),handle])\n",
    "                return toReturn\n",
    "                \n",
    "        elif(i%2==0 and i+1!=len(Y)):\n",
    "            sum=0\n",
    "            ehigth=ehigth+Y[i]+Y[i+1]+dy\n",
    "            toReturn.append(T(2)(Y[i]))\n",
    "            toReturn.append(T(2)(Y[i+1]+dy))\n",
    "    return 0  "
   ]
  },
  {
   "cell_type": "code",
   "execution_count": 10,
   "metadata": {
    "collapsed": false
   },
   "outputs": [],
   "source": [
    "\"\"\"\n",
    "il seguente metodo genera un gruppo di tre finestre ognuna a 45° rispetto alla successiva;\n",
    "se c'è spazio il primo vetro viene tolto e con create_openable_window si aggiunge una finestra\n",
    "alzabile e abbasabile per chiudere la presa d'aria\n",
    "@param X: array su X di dimesioni del legno\n",
    "@param Y: array su Y di dimesioni del legno\n",
    "@param Z: array su Z di spessori del legno\n",
    "@param mirror_or_not_mirror: matrice che dice dove c'è legno 1 e dove c'è vetro 0\n",
    "@return: hpc della finestra\n",
    "\"\"\"\n",
    "\"\"\"ogni volta controlla per ogni elemento se deve inserirlo e di quanto deve essere largo su X e su Y, poi lo estrude\"\"\"\n",
    "\"\"\"si cicla su X che puo avere valori positivi o negativi a seconda se c'è legno o meno, quindi ogni volta si usa il suo valore assoluto \"\"\"   \n",
    "\"\"\" alla prima chiamata recursive è falso, qiundi si esegue questo passo una sola voltaqui viene richiamata la funzione di inversione che richiama ricorsivamente questa funzione con recursion true al finedi generare il vetro\"\"\"    \n",
    "\"\"\"vengono triplicate le strutture create\"\"\"            \n",
    "\"\"\"nel passo ricorsivo si ritorna la singola finestra\"\"\"   \n",
    "\"\"\"altrimenti quando recursive è false si ritorna l'hpc delle tre finestre\"\"\"\n",
    "\n",
    "def design_4_Windows(X,Y,Z,mirror_or_not_mirror,recursive=False):        \n",
    "    def scale_and_rotate(dx=0,dy=0,dz=0):\n",
    "        final_struct=[]\n",
    "        sum=0\n",
    "        window_and_handle=[]\n",
    "        handle=STRUCT([CUBOID([Z[0]*2,Z[0],Z[0]]),T([1,3])([Z[0],Z[0]]),CUBOID([Z[0],Z[0]*5,Z[0]]),\n",
    "                       T([1,2,3])([-Z[0],Z[0]*4,-Z[0]]),CUBOID([Z[0]*2,Z[0],Z[0]])])\n",
    "\n",
    "\n",
    "        for i in range(len(mirror_or_not_mirror)):\n",
    "            if(i==1 and recursive==False):\n",
    "                window_and_handle= create_openable_window(X,Y,Z,dx,dy,handle,mirror_or_not_mirror)\n",
    "            for j in range(len(mirror_or_not_mirror[i])):\n",
    "                scaleY=0 \n",
    "                if (mirror_or_not_mirror[i][j]==0):\n",
    "                    X[j]= (-1.0)*abs(X[j])\n",
    "                else:\n",
    "                    sum=sum+1\n",
    "                    X[j]=abs(X[j])              \n",
    "            if(recursive and sum==len(Y) and i==1):\n",
    "                scaleY=dy\n",
    "            \n",
    "            elif(sum!=0):\n",
    "                xscale=[]\n",
    "                for scale in range(len(X)):\n",
    "                    dx=abs(dx)\n",
    "                    if(X[scale]<0):\n",
    "                        dx=-1.0*dx\n",
    "                    if(scale%2==0):\n",
    "                        xscale.append(X[scale])\n",
    "                    else:\n",
    "                        xscale.append(X[scale]+dx)      \n",
    "                if(i%2!=0):\n",
    "                    scaleY=dy\n",
    "                toAdd= PROD([QUOTE(xscale),QUOTE([Y[i]+scaleY])])\n",
    "                final_struct.append(toAdd)\n",
    "            final_struct.append(T(2)(Y[i]+scaleY))\n",
    "            sum=0\n",
    "        \n",
    "        final_struct=STRUCT(final_struct)\n",
    "        final_struct=(PROD([final_struct,QUOTE(Z)]))\n",
    "        if(recursive==False):\n",
    "            mirror=COLOR(LIGHT_BLUE)(inverte_0_1(X,Y,Z,(dx,dy,dz),mirror_or_not_mirror))\n",
    "            final_struct=STRUCT([final_struct,T(3)(Z[0]/2.0),mirror])\n",
    "            if((window_and_handle)!=0):\n",
    "                final_struct=STRUCT([final_struct,T([2,3])([-Y[1]/3.0-dy,Z[0]]),window_and_handle])\n",
    "    \n",
    "        window1=final_struct\n",
    "        window2=final_struct\n",
    "        window3=final_struct \n",
    "        separator= CUBOID([Z[0]*3,SIZE(2)(window2),Z[0]]);\n",
    "        \n",
    "        window2=STRUCT([T([1,3])([Z[0],0]),window2])\n",
    "        window2=(STRUCT([R([1,3])(math.pi*1/4),(window2)]))\n",
    "        window3=STRUCT([R([1,3])(-math.pi*1/4),(window1)])\n",
    "            \n",
    "        value=math.sqrt(Z[0]*Z[0]*2)\n",
    "        window3=STRUCT([T([1,3])([0,SIZE(3)(window3)-value]),window3])\n",
    "        \n",
    "        window1=STRUCT([separator,T([1,3])([Z[0]*3,0]),window1,T(1)(SIZE(1)(window1)),separator])\n",
    "        window1=STRUCT([window3,T([1])([SIZE(1)(window3)-Z[0],0]),window1])\n",
    "        window1=STRUCT([T(3)(Z[0]),window1])\n",
    "        window1=STRUCT([window1,T([1,3])([SIZE(1)(window1)-value/4.0,+value/4.0]),window2])\n",
    "\n",
    "        if(recursive):\n",
    "            return final_struct \n",
    "        else:\n",
    "            return window1\n",
    "\n",
    "    return scale_and_rotate\n",
    "\n",
    "\n",
    "\"\"\"inverte la matrice e chima design_4_Windows con il booleano recursion a true\"\"\" \n",
    "def inverte_0_1(X,Y,Z,(dx,dy,dz),listOfList):\n",
    "    for i in range(len(listOfList)):\n",
    "        for j in range(len(listOfList[i])):\n",
    "            if(listOfList[i][j]==0):\n",
    "                listOfList[i][j]=1\n",
    "            else:\n",
    "                listOfList[i][j]=0\n",
    "    if(i==0):\n",
    "        return []\n",
    "\n",
    "    valueZ=Z[0]\n",
    "    return design_4_Windows(X,Y,[valueZ/10],listOfList,True)(dx,dy,dz)\n"
   ]
  },
  {
   "cell_type": "markdown",
   "metadata": {},
   "source": [
    "## Generatore di Porte\n",
    "\n",
    "Per quanto riguarda la generazione di porte ho cercato il piu possibile di pulire il codice che generava le finestra, lasciandovi l'essenziale per generarela sola struttura in legno vetro della porta-finestra. Dopo di che la inserisco all'interno dell'intercapedine della porta e ci attacco la maniglia."
   ]
  },
  {
   "cell_type": "code",
   "execution_count": 18,
   "metadata": {
    "collapsed": false
   },
   "outputs": [],
   "source": [
    "\"\"\"\n",
    "il seguente metodo genera una porta e la inserisce in una struttura che la contenga.\n",
    "Il metodo è una versione semplificata di quello della finestra\n",
    "@param X: array su X di dimesioni del legno\n",
    "@param Y: array su Y di dimesioni del legno\n",
    "@param Z: array su Z di spessori del legno\n",
    "@param mirror_or_not_mirror: matrice che dice dove c'è legno 1 e dove c'è vetro 0\n",
    "@return: hpc della porta\n",
    "\"\"\"\n",
    "\n",
    "\"\"\"nel passo non ricorsivo si adorna la porta con la maniglia e gli si chiede di generare i vetri sempre con la funzione inverte_0_1 che rientra in questa funzione ma con il boolean recursive a True\"\"\"\n",
    "\n",
    "def design_4_door(X,Y,Z,mirror_or_not_mirror,recursive=False):     \n",
    "    def scale_door(dx,dy,dz):\n",
    "        final_struct=[]\n",
    "        sum=len(Y)\n",
    "        handle=STRUCT([CUBOID([Z[0]*2,Z[0],Z[0]]),T([1,3])([Z[0],Z[0]]),CUBOID([Z[0],Z[0]*5,Z[0]]),\n",
    "                       T([1,2,3])([-Z[0],Z[0]*4,-Z[0]]),CUBOID([Z[0]*2,Z[0],Z[0]])])\n",
    "        \n",
    "        for i in range(1,len(mirror_or_not_mirror)):\n",
    "            for j in range(len(mirror_or_not_mirror[i])):\n",
    "                scaleY=0 \n",
    "                if (mirror_or_not_mirror[i][j]==0):\n",
    "                    X[j]= (-1.0)*abs(X[j])\n",
    "                else:\n",
    "                    sum=sum+1\n",
    "                    X[j]=abs(X[j])        \n",
    "            \n",
    "            if(sum!=0):\n",
    "                xscale=[]\n",
    "                for scale in range(len(X)):\n",
    "                    dx=abs(dx)\n",
    "                    if(X[scale]<0):\n",
    "                        dx=-1.0*dx\n",
    "                    if(scale%2==0):\n",
    "                        xscale.append(X[scale])\n",
    "                    else:\n",
    "                        xscale.append(X[scale]+dx)      \n",
    "                if(i%2!=0):\n",
    "                    scaleY=dy\n",
    "                toAdd= PROD([QUOTE(xscale),QUOTE([Y[i]+scaleY])])\n",
    "                final_struct.append(toAdd)\n",
    "            final_struct.append(T(2)(Y[i]+scaleY))\n",
    "            sum=0\n",
    "        \n",
    "        final_struct=STRUCT(final_struct)\n",
    "        final_struct=(PROD([final_struct,QUOTE(Z)]))\n",
    "\n",
    "        if(recursive==False):\n",
    "            mirror=COLOR(LIGHT_BLUE)(inverte_0_1(X,Y,Z,(dx,dy,dz),mirror_or_not_mirror))\n",
    "            handle=COLOR(GOLD)(handle)\n",
    "            final_struct=COLOR(LIGHT_BROWN)(final_struct)\n",
    "            sizeOnY=SIZE(2)(final_struct)\n",
    "            moveOnX=X[0]/2.0+Z[0]\n",
    "            final_struct=STRUCT([final_struct,T([2,3])([-Y[0],Z[0]/2.0]),mirror,T([1,2])([-moveOnX,sizeOnY/2.0+Y[0]]),handle])\n",
    "            doorContainer=(SIZE(1)(final_struct),SIZE(2)(final_struct))\n",
    "            doorContainer=OFFSET([Z[0],Z[0],Z[0]*3])(SKEL_1(CUBOID([doorContainer[0]+Z[0],doorContainer[1]+Z[0],0])))\n",
    "            final_struct=STRUCT([doorContainer,T([1,2,3])([Z[0],Z[0],Z[0]]),final_struct])\n",
    "\n",
    "        return final_struct\n",
    "\n",
    "\n",
    "    return scale_door"
   ]
  },
  {
   "cell_type": "markdown",
   "metadata": {},
   "source": [
    "## Risultati Porta\n",
    "\n",
    "![risultati1](https://github.com/adixia/ggpl-LAB/blob/master/2016-11-25/fram6.png?raw=true)\n",
    "\n",
    "![risultati1](https://github.com/adixia/ggpl-LAB/blob/master/2016-11-25/fram7.png?raw=true)\n"
   ]
  },
  {
   "cell_type": "code",
   "execution_count": 19,
   "metadata": {
    "collapsed": false,
    "scrolled": true
   },
   "outputs": [
    {
     "data": {
      "text/plain": [
       "<pyplasm.xgepy.Hpc; proxy of <Swig Object of type 'std::shared_ptr< Hpc > *' at 0x1045df6f0> >"
      ]
     },
     "execution_count": 19,
     "metadata": {},
     "output_type": "execute_result"
    }
   ],
   "source": [
    "X=[1,5,1,5,1,5,1,5,1]\n",
    "Y=[1,10,1,10,1,10,1]\n",
    "Z=[0.5]\n",
    "mirror_or_not_mirror=[\n",
    "    [1,1,1,1,1,1,1,1,1],\n",
    "    [1,0,0,0,0,0,0,0,1],\n",
    "    [1,1,1,1,1,1,1,1,1],\n",
    "    [1,0,0,0,0,0,0,0,1],\n",
    "    [1,1,1,1,1,1,1,1,1],\n",
    "    [1,0,1,0,1,0,1,0,1],\n",
    "    [1,1,1,1,1,1,1,1,1]]\n",
    "\n",
    "X1=[5,5,1,5,1,5,1]\n",
    "Y1=[1,5,1,5,1,5,1,5,1,5,1]\n",
    "Z1=[0.5]\n",
    "mirror_or_not_mirror1=[\n",
    "    [1,1,1,1,1,1,1],\n",
    "    [1,0,1,0,1,0,1],\n",
    "    [1,0,1,0,1,1,1],\n",
    "    [1,0,1,0,1,0,1],\n",
    "    [1,0,1,0,1,1,1],\n",
    "    [1,0,1,0,1,0,1],\n",
    "    [1,0,1,0,1,1,1],\n",
    "    [1,0,1,0,1,0,1],\n",
    "    [1,0,1,0,1,1,1],\n",
    "    [1,0,1,0,1,0,1],\n",
    "    [1,1,1,1,1,1,1]]\n",
    "X2=[1.5,5,1,5,1]\n",
    "Y2=[10,5,1,5,1,5,1,5,1]\n",
    "Z2=[0.5]\n",
    "mirror_or_not_mirror2=[\n",
    "    [1,1,1,1,1],\n",
    "    [1,0,1,0,1],\n",
    "    [1,1,1,1,1],\n",
    "    [1,0,1,0,1],\n",
    "    [1,1,1,1,1],\n",
    "    [1,0,1,0,1],\n",
    "    [1,1,1,1,1],\n",
    "    [1,0,1,0,1],\n",
    "    [1,1,1,1,1]]\n",
    "VIEW(design_4_Windows(X,Y,Z,mirror_or_not_mirror)(0,0,1))\n",
    "VIEW(design_4_door(X1,Y1,Z1,mirror_or_not_mirror1)(0.1,1,0.1))\n",
    "VIEW(design_4_door(X2,Y2,Z2,mirror_or_not_mirror2)(0,0,0.1))\n",
    "mirror_or_not_mirror2=[\n",
    "    [1,1,1,1,1],\n",
    "    [1,0,1,0,1],\n",
    "    [1,1,1,1,1],\n",
    "    [1,0,1,0,1],\n",
    "    [1,1,1,1,1],\n",
    "    [1,0,1,0,1],\n",
    "    [1,1,1,1,1],\n",
    "    [1,0,1,0,1],\n",
    "    [1,1,1,1,1]]\n",
    "VIEW(design_4_Windows(X2,Y2,Z2,mirror_or_not_mirror2)(1,1,1))"
   ]
  },
  {
   "cell_type": "code",
   "execution_count": null,
   "metadata": {
    "collapsed": true
   },
   "outputs": [],
   "source": []
  },
  {
   "cell_type": "code",
   "execution_count": null,
   "metadata": {
    "collapsed": true
   },
   "outputs": [],
   "source": []
  },
  {
   "cell_type": "code",
   "execution_count": null,
   "metadata": {
    "collapsed": true
   },
   "outputs": [],
   "source": []
  },
  {
   "cell_type": "code",
   "execution_count": null,
   "metadata": {
    "collapsed": true
   },
   "outputs": [],
   "source": []
  },
  {
   "cell_type": "code",
   "execution_count": null,
   "metadata": {
    "collapsed": true
   },
   "outputs": [],
   "source": []
  },
  {
   "cell_type": "code",
   "execution_count": null,
   "metadata": {
    "collapsed": true
   },
   "outputs": [],
   "source": []
  }
 ],
 "metadata": {
  "anaconda-cloud": {},
  "kernelspec": {
   "display_name": "Python [conda root]",
   "language": "python",
   "name": "conda-root-py"
  },
  "language_info": {
   "codemirror_mode": {
    "name": "ipython",
    "version": 2
   },
   "file_extension": ".py",
   "mimetype": "text/x-python",
   "name": "python",
   "nbconvert_exporter": "python",
   "pygments_lexer": "ipython2",
   "version": "2.7.12"
  }
 },
 "nbformat": 4,
 "nbformat_minor": 1
}
