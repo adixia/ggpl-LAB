{
 "cells": [
  {
   "cell_type": "markdown",
   "metadata": {},
   "source": [
    "![ref](https://s-media-cache-ak0.pinimg.com/736x/3a/b3/70/3ab370451e0b3d23a67ef4a6e5a76766.jpg)\n",
    "\n",
    "\n",
    "C11 = BEZIER(S1)([[InternalWallRadius, 0, 0], [InternalWallRadius, 0, Int7Height]])"
   ]
  },
  {
   "cell_type": "code",
   "execution_count": 1,
   "metadata": {
    "collapsed": false
   },
   "outputs": [
    {
     "name": "stdout",
     "output_type": "stream",
     "text": [
      "Evaluating fenvs.py..\n",
      "...fenvs.py imported in 0.005684 seconds\n"
     ]
    }
   ],
   "source": [
    "import csv\n",
    "from pyplasm import *\n",
    "import random\n",
    "%run \"my_function.ipynb\"\n",
    "planes=CUBOID([100,100,1])\n",
    "\n",
    "#VIEW(planes)"
   ]
  },
  {
   "cell_type": "code",
   "execution_count": 2,
   "metadata": {
    "collapsed": false,
    "scrolled": false
   },
   "outputs": [],
   "source": [
    "def create_bush(dx=1,dy=1,dz=4,level=4):\n",
    "    k=[]\n",
    " \n",
    "    for i in range(level):\n",
    "        k.append(SKEL_1(SPHERE(i)([21,9])))\n",
    "    k=STRUCT(k)\n",
    "    k=UKPOL(k)\n",
    "    tree_faces=[]\n",
    "    for j in range(500):\n",
    "        mom=[]\n",
    "        mom.append(random.randint(j,len(k[0])))\n",
    "        mom.append(random.randint(j,len(k[0])))\n",
    "        mom.append(random.randint(j,len(k[0])))\n",
    "        tree_faces.append(mom)\n",
    "        \n",
    "    k=MKPOL([k[0],tree_faces,None])\n",
    "    size=(SIZE([1,2,3])(k))\n",
    "    k=STRUCT([T([1,2,3])([size[0]/2.0,size[1]/2.0,size[2]/4.0]),k])\n",
    "    k=TEXTURE([\"pattern/grass.jpg\",True,False,1,1,0,5,5])(k)\n",
    "    k=MATERIAL([0,13,0,0.5,  12,0,0,0.5,  0,0,9,0.5, 0,0,0,0.5, 100])(k)\n",
    "    return k\n",
    "\n",
    "def create_tree(dx=1,dy=1,dz=6.5,level=4):\n",
    "    k=[]\n",
    "    distance=2.5,1\n",
    "    cylB = CIRCLE(0.18)([10,1])\n",
    "    cylB= PROD([cylB,QUOTE([dz])])\n",
    "    cylB=TEXTURE([\"pattern/wooden.jpg\",True,False,1,1,0,5,5])(cylB)\n",
    "    \n",
    " \n",
    "    for i in range(level):\n",
    "        k.append(SKEL_1(SPHERE(i)([21,9])))\n",
    "    k=STRUCT(k)\n",
    "    k=UKPOL(k)\n",
    "    tree_faces=[]\n",
    "    for j in range(500):\n",
    "        mom=[]\n",
    "        mom.append(random.randint(j,len(k[0])))\n",
    "        mom.append(random.randint(j,len(k[0])))\n",
    "        mom.append(random.randint(j,len(k[0])))\n",
    "        tree_faces.append(mom)\n",
    "        \n",
    "    k=MKPOL([k[0],tree_faces,None])\n",
    "    size=(SIZE([1,2,3])(k))\n",
    "    k=STRUCT([T([1,2,3])([size[0]/2.0,size[1]/2.0,size[2]/4.0]),T(3)(SIZE(3)(cylB)),k])\n",
    "    k=TEXTURE([\"pattern/trees.jpg\",True,False,1,1,0,5,5])(k)\n",
    "    k=MATERIAL([0,13,0,0.5,  12,0,0,0.5,  0,0,9,0.5, 0,0,0,0.5, 100])(k)\n",
    "    k=STRUCT([T([1,2])([size[0]/2.0,size[1]/2.0]),cylB,T([1,2,3])([-size[0]/2.0,-size[1]/2.0]),k])\n",
    "    return k\n"
   ]
  },
  {
   "cell_type": "code",
   "execution_count": null,
   "metadata": {
    "collapsed": false
   },
   "outputs": [],
   "source": [
    "  \n",
    "# Curves\n",
    "points=[[0,0],[19,0],[18,2],[14,2],[12,4],[10,6],\n",
    "        [2.5,6],[2.5,4],[12,4],[10,6],[11.5,10],[18,6],[11.5,12.5],\n",
    "        [11.5,10],[2.5,10],[0,15],[9,12.5],[16.2,12.5],[2.5,11],[19,15],[18,0],[17,3.7],[14.5,3.7],[17,0.7],[14.5,0.7]\n",
    "       ]\n",
    "cells=[[1,2],[3,4],[4,5],[5,6],[6,7],[7,8],[8,9],[9,10],[10,11],[11,13],[3,12],[1,16],[17,18],[15,19],\n",
    "       [16,20],[20,2],[21,3],[22,23,24,25]]\n",
    "k=MKPOL([points,cells,None])\n",
    "\n",
    "k1=(MAP(BEZIER(S1)([[18,6],[17,8.5],[14,10.45],[2.5,10]]))(INTERVALS(1)(32)))\n",
    "k2=(MAP(BEZIER(S1)([[18,6],[17,8.5],[14,10.2],[2.5,11]]))(INTERVALS(1)(32)))\n",
    "c0 = BEZIER(S1)([[0, 0, 0], [0, 0, 3]])\n",
    "c1 = BEZIER(S1)([[2, 0, 0], [4, 0, 1], [0, 0, 2], [1, 0, 3]])\n",
    "\n",
    "\n",
    "k=STRUCT([k1,k2,k])\n",
    "k=OFFSET([0.3,0.3])(k)\n",
    "k=TEXTURE([\"pattern/street.jpg\",True,False,1,1,0,5,5])(k)\n",
    "plat=TEXTURE([\"pattern/grass.jpg\",True,False,1,1,0,5,5])(CUBOID(SIZE([1,2])(k)))\n",
    "\n",
    "\n",
    "\n",
    "X=[0.3, 1.0, 0.2, 1.0, 0.2]\n",
    "Y=[10, 5, 1, 5, 1, 5, 1, 5, 0.03125]\n",
    "Z=[0.5]\n",
    "mirror_or_not_mirror=[\n",
    "    [1,1,1,1,1],\n",
    "    [1,0,1,0,1],\n",
    "    [1,1,1,1,1],\n",
    "    [1,0,1,0,1],\n",
    "    [1,1,1,1,1],\n",
    "    [1,0,1,0,1],\n",
    "    [1,1,1,1,1],\n",
    "    [1,0,1,0,1],\n",
    "    [1,1,1,1,1]]\n",
    "X2=[0.1, 0.5, 0.1, 0.5, 0.1, 0.5, 0.1]\n",
    "Y2=[0.25, 1.25, 0.25, 1.25, 0.25, 1.25, 0.25, 1.25, 0.25]\n",
    "Z2=[0.5]\n",
    "mirror_or_not_mirror2=[\n",
    "    [1,1,1,1,1,1,1],\n",
    "    [1,0,1,0,1,0,1],\n",
    "    [1,1,1,1,1,1,1],\n",
    "    [1,0,1,0,1,0,1],\n",
    "    [1,1,1,1,1,1,1],\n",
    "    [1,0,1,0,1,0,1],\n",
    "    [1,1,1,1,1,1,1],\n",
    "    [1,0,1,0,1,0,1],\n",
    "    [1,1,1,1,1,1,1]]\n",
    "\n",
    "doors_data=[X,Y,Z,mirror_or_not_mirror]\n",
    "windows_data=[X2,Y2,Z,mirror_or_not_mirror2]\n",
    "result=multisorey_house()(doors_data,windows_data,\"lines_3b\")(2)(1,[8,[[2,3,6,7],[1,8,7,2],[5,4,3,6]],[4,1,2,3,4,4,3,3],35])\n",
    "secondB=multisorey_house()(doors_data,windows_data,\"lines_4b\")(3)(0,[8,[[2,3,6,7],[1,8,7,2],[5,4,3,6]],[4,1,2,3,4,4,3,3],35])\n",
    "secondB2=multisorey_house()(doors_data,windows_data,\"lines_4b\")(2)(0,[8,[[2,3,6,7],[1,8,7,2],[5,4,3,6]],[4,1,2,3,4,4,3,3],35])\n",
    "secondB3=multisorey_house()(doors_data,windows_data,\"lines_4b\")(4)(0,[8,[[2,3,6,7],[1,8,7,2],[5,4,3,6]],[4,1,2,3,4,4,3,3],35])\n",
    "secondB4=multisorey_house()(doors_data,windows_data,\"lines_4b\")(5)(0,[8,[[2,3,6,7],[1,8,7,2],[5,4,3,6]],[4,1,2,3,4,4,3,3],35])\n",
    "thirdB=multisorey_house()(doors_data,windows_data,\"lines_5b\")(2)(1,[5,[[4,3,2,1]],[1,4,3,2,1],12])\n",
    "basicB=multisorey_house()(doors_data,windows_data,)(3)(0,[5,[[4,3,2,1]],[1,4,3,2,1],12])\n",
    "forthB=multisorey_house()(doors_data,windows_data,\"lines_6b\")(3)(0,[13,[[1,2,3,4,5,6,7,8,9,10,11,12]],[3,4,4,4,1,1,1,2,2,2,3,3,3],13])\n",
    "\n",
    "\n",
    "result=S([1,2,3])([0.007,0.007,0.007])(result)\n",
    "secondB=S([1,2,3])([0.005,0.005,0.007])(secondB)\n",
    "secondB2=S([1,2,3])([0.005,0.005,0.007])(secondB2)\n",
    "secondB3=S([1,2,3])([0.005,0.005,0.007])(secondB3)\n",
    "secondB4=S([1,2,3])([0.005,0.005,0.007])(secondB4)\n",
    "thirdB2=S([1,2,3])([0.01,0.01,0.007])(thirdB)\n",
    "thirdB=S([1,2,3])([0.012,0.01,0.007])(thirdB)\n",
    "forthB=S([1,2,3])([0.006,0.006,0.007])(forthB)\n",
    "\n",
    "\n",
    "basicB=S([1,2,3])([0.004,0.004,0.007])(basicB)\n",
    "\n",
    "result=STRUCT([result,T(1)(0.7+SIZE(1)(result))]*4)\n",
    "secondB=STRUCT([secondB,T(1)(0.7+SIZE(1)(secondB)),\n",
    "                secondB2,T(1)(0.7+SIZE(1)(secondB))\n",
    "                ,secondB3,T(1)(0.7+SIZE(1)(secondB)),secondB4])\n",
    "resutl1=STRUCT([R([1,2])(math.pi),result])\n",
    "resutl1=STRUCT([T([1,2])(SIZE([1,2])(result)),resutl1])\n",
    "singleTree=S([1,2,3])([0.06,0.06,0.06])(create_tree(1,1,6.5,5))\n",
    "singleTree2=S([1,2,3])([0.06,0.06,0.06])(create_tree(1,1,5.5,3))\n",
    "singleTree3=S([1,2,3])([0.06,0.06,0.06])(create_tree(1,1,5.2,4))\n",
    "\n",
    "busshesS=S([1,2,3])([0.06,0.06,0.06])(create_bush())\n",
    "busshes=STRUCT([busshesS,T([1,2])([0.5])]*8)\n",
    "\n",
    "trees_lines=STRUCT([singleTree,T([1,2])([0.3+SIZE(1)(singleTree),0.5]),singleTree2,T(1)(0.3+SIZE(1)(singleTree)),\n",
    "                    singleTree3,T([1,2])([0.3+SIZE(1)(singleTree),-0.5])]*3)\n",
    "\n",
    "thirdB2=STRUCT([R([1,2])(math.pi/2),thirdB2])\n",
    "right_part=STRUCT([T([1,2])([2.2,4.1]),thirdB2,T([1,2])([-2.2,-4.1]),\n",
    "                   T([1,2])([17.8,4.2]),thirdB2,T([1,2])([-17.9,-4.3]),\n",
    "                   plat,k,T([1,2])([3,2]),secondB,T([2])([+5]),resutl1,T([2])([-6]),\n",
    "             trees_lines,T([2])([+8]),trees_lines,T(2)(1.2),busshes,T(2)(0.2),busshes,T(2)(0.2),busshesS])\n",
    "\n",
    "\n",
    "left_part=STRUCT([T([1,2])([11.2,7]),forthB,T([1,2])([0.1,-1.8]),forthB,T([1,2])([-11.3,-5.2]),T([1,2])([14.7,0.8]),thirdB,T([1,2])([0.3,2.2]),thirdB])\n",
    "top_part=STRUCT([T([1,2])([9.2,13]),resutl1])\n",
    "\n",
    "forthB=STRUCT([R([1,2])(math.pi/2),(forthB)])\n",
    "middle_part=STRUCT([T([1,2])([3,11.2]),thirdB,T([1,2])([8.2,-0.4]),forthB,T(1)(1.6),forthB])\n",
    "VIEW(STRUCT([right_part,middle_part,left_part,top_part]))\n"
   ]
  },
  {
   "cell_type": "markdown",
   "metadata": {
    "collapsed": true
   },
   "source": []
  },
  {
   "cell_type": "code",
   "execution_count": null,
   "metadata": {
    "collapsed": true
   },
   "outputs": [],
   "source": []
  },
  {
   "cell_type": "code",
   "execution_count": null,
   "metadata": {
    "collapsed": true
   },
   "outputs": [],
   "source": []
  },
  {
   "cell_type": "code",
   "execution_count": null,
   "metadata": {
    "collapsed": true
   },
   "outputs": [],
   "source": []
  },
  {
   "cell_type": "code",
   "execution_count": null,
   "metadata": {
    "collapsed": true
   },
   "outputs": [],
   "source": []
  }
 ],
 "metadata": {
  "anaconda-cloud": {},
  "kernelspec": {
   "display_name": "Python [conda root]",
   "language": "python",
   "name": "conda-root-py"
  },
  "language_info": {
   "codemirror_mode": {
    "name": "ipython",
    "version": 2
   },
   "file_extension": ".py",
   "mimetype": "text/x-python",
   "name": "python",
   "nbconvert_exporter": "python",
   "pygments_lexer": "ipython2",
   "version": "2.7.12"
  }
 },
 "nbformat": 4,
 "nbformat_minor": 1
}
