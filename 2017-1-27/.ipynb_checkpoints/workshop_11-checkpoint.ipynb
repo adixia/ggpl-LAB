{
 "cells": [
  {
   "cell_type": "markdown",
   "metadata": {},
   "source": [
    "![ref](https://s-media-cache-ak0.pinimg.com/736x/3a/b3/70/3ab370451e0b3d23a67ef4a6e5a76766.jpg)\n",
    "\n",
    "\n",
    "C11 = BEZIER(S1)([[InternalWallRadius, 0, 0], [InternalWallRadius, 0, Int7Height]])"
   ]
  },
  {
   "cell_type": "code",
   "execution_count": 21,
   "metadata": {
    "collapsed": false
   },
   "outputs": [],
   "source": [
    "import csv\n",
    "from pyplasm import *\n",
    "%run \"my_function.ipynb\"\n",
    "planes=CUBOID([100,100,1])\n",
    "\n",
    "#VIEW(planes)"
   ]
  },
  {
   "cell_type": "code",
   "execution_count": 23,
   "metadata": {
    "collapsed": false
   },
   "outputs": [
    {
     "data": {
      "text/plain": [
       "<pyplasm.xgepy.Hpc; proxy of <Swig Object of type 'std::shared_ptr< Hpc > *' at 0x11d458480> >"
      ]
     },
     "execution_count": 23,
     "metadata": {},
     "output_type": "execute_result"
    }
   ],
   "source": [
    "  \n",
    "# Curves\n",
    "points=[[0,0],[24,0],[20,2],[14,2],[12,4],[10,6],\n",
    "        [2.5,6],[2.5,4],[12,4],[10,6],[14,11],[20,8],[14,18],[14,22],[2.5,12],[0,22],[10,18],[18,18],[2.5,14],[24,22],[20,0]]\n",
    "cells=[[1,2],[3,4],[4,5],[5,6],[6,7],[7,8],[8,9],[9,10],[10,11],[11,13],[3,12],[1,16],[17,18],[15,19],\n",
    "       [16,20],[20,2],[21,3]]\n",
    "k=MKPOL([points,cells,None])\n",
    "\n",
    "k1=(MAP(BEZIER(S1)([[20,8],[14,12.45],[2.5,12]]))(INTERVALS(1)(32)))\n",
    "k2=(MAP(BEZIER(S1)([[20,8],[14,14],[2.5,14]]))(INTERVALS(1)(32)))\n",
    "c0 = BEZIER(S1)([[0, 0, 0], [0, 0, 3]])\n",
    "c1 = BEZIER(S1)([[2, 0, 0], [4, 0, 1], [0, 0, 2], [1, 0, 3]])\n",
    "\n",
    "\n",
    "k=STRUCT([k1,k2,k])\n",
    "k=OFFSET([0.3,0.3])(k)\n",
    "k=TEXTURE([\"pattern/street.jpg\",True,False,1,1,0,5,5])(k)\n",
    "plat=TEXTURE([\"pattern/grass.jpg\",True,False,1,1,0,5,5])(CUBOID(SIZE([1,2])(k)))\n",
    "\n",
    "\n",
    "\n",
    "X=[0.3, 1.0, 0.2, 1.0, 0.2]\n",
    "Y=[10, 5, 1, 5, 1, 5, 1, 5, 0.03125]\n",
    "Z=[0.5]\n",
    "mirror_or_not_mirror=[\n",
    "    [1,1,1,1,1],\n",
    "    [1,0,1,0,1],\n",
    "    [1,1,1,1,1],\n",
    "    [1,0,1,0,1],\n",
    "    [1,1,1,1,1],\n",
    "    [1,0,1,0,1],\n",
    "    [1,1,1,1,1],\n",
    "    [1,0,1,0,1],\n",
    "    [1,1,1,1,1]]\n",
    "X2=[0.1, 0.5, 0.1, 0.5, 0.1, 0.5, 0.1]\n",
    "Y2=[0.25, 1.25, 0.25, 1.25, 0.25, 1.25, 0.25, 1.25, 0.25]\n",
    "Z2=[0.5]\n",
    "mirror_or_not_mirror2=[\n",
    "    [1,1,1,1,1,1,1],\n",
    "    [1,0,1,0,1,0,1],\n",
    "    [1,1,1,1,1,1,1],\n",
    "    [1,0,1,0,1,0,1],\n",
    "    [1,1,1,1,1,1,1],\n",
    "    [1,0,1,0,1,0,1],\n",
    "    [1,1,1,1,1,1,1],\n",
    "    [1,0,1,0,1,0,1],\n",
    "    [1,1,1,1,1,1,1]]\n",
    "\n",
    "doors_data=[X,Y,Z,mirror_or_not_mirror]\n",
    "windows_data=[X2,Y2,Z,mirror_or_not_mirror2]\n",
    "result=multisorey_house()(doors_data,windows_data,\"lines_3b\")(2)(1,[8,[[2,3,6,7],[1,8,7,2],[5,4,3,6]],[4,1,2,3,4,4,3,3],35])\n",
    "result=S([1,2,3])([0.007,0.007,0.007])(result)\n",
    "result=STRUCT([result,T(1)(0.7+SIZE(1)(result))]*4)\n",
    "resutl1=STRUCT([R([1,2])(math.pi),result])\n",
    "resutl1=STRUCT([T([1,2])(SIZE([1,2])(result)),resutl1])\n",
    "\n",
    "VIEW(STRUCT([plat,k,T([1,2])([3,2]),result,T([2])([+5]),resutl1]))\n",
    "\n",
    "#profile0 = MAP(c0)(dom1D)\n",
    "#profile1 = MAP(c1)(dom1D)\n",
    "#profiles = STRUCT([profile0, profile1])\n",
    "#VIEW(profiles, [0.4, 0.9, 0.6])            # Throws an error.\n",
    "\n",
    "# Surface\n",
    "#section = BEZIER(S2)([c1, c0])\n",
    "#dom2D = PROD(AA(dom)([n2, 1]))\n",
    "#VIEW(dom2D, [0.4, 0.9, 0.6])\n",
    "#VIEW(MAP(section)(dom2D), [0.4, 0.9, 0.6])\n",
    "\n"
   ]
  },
  {
   "cell_type": "code",
   "execution_count": null,
   "metadata": {
    "collapsed": true
   },
   "outputs": [],
   "source": []
  },
  {
   "cell_type": "code",
   "execution_count": null,
   "metadata": {
    "collapsed": true
   },
   "outputs": [],
   "source": []
  },
  {
   "cell_type": "code",
   "execution_count": null,
   "metadata": {
    "collapsed": true
   },
   "outputs": [],
   "source": []
  },
  {
   "cell_type": "code",
   "execution_count": null,
   "metadata": {
    "collapsed": true
   },
   "outputs": [],
   "source": []
  },
  {
   "cell_type": "code",
   "execution_count": null,
   "metadata": {
    "collapsed": true
   },
   "outputs": [],
   "source": []
  }
 ],
 "metadata": {
  "anaconda-cloud": {},
  "kernelspec": {
   "display_name": "Python [conda root]",
   "language": "python",
   "name": "conda-root-py"
  },
  "language_info": {
   "codemirror_mode": {
    "name": "ipython",
    "version": 2
   },
   "file_extension": ".py",
   "mimetype": "text/x-python",
   "name": "python",
   "nbconvert_exporter": "python",
   "pygments_lexer": "ipython2",
   "version": "2.7.12"
  }
 },
 "nbformat": 4,
 "nbformat_minor": 1
}
