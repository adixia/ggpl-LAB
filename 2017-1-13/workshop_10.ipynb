{
 "cells": [
  {
   "cell_type": "markdown",
   "metadata": {},
   "source": [
    "## Multistorey House\n",
    "\n",
    "Come per ogni homework ho scelto un immagine di riferimento:\n",
    "![riferimento](https://github.com/adixia/ggpl-LAB/blob/master/2017-1-13/lines_3b/base.png?raw=true)\n",
    "\n",
    "Per quanto riguarda la progettazione della mia soluzione, ho iniziato definendomi a grosse linee come dovesse essere fatta la mia funzione multisorey_house(): essa al suo inerno richiamava altre sottofunzioni:\n",
    "\n",
    "1. generate_intern_structure: che si occupa di creare gli interni prendendo come input le informazioni delle porte e delle finestre (da personalizzare a seconda delle esigenze) e la directory dove trovare i file tipici per la creazione di una struttura (vedere hw 8)\n",
    "1. genrate_floors_stairs che di default è 1, si occupa di creare le scale qualora il numero di piani sia maggiore di uno, e di replicare la struttura passata come riferimento per il numero di piani richiesti\n",
    "1. add_roof serve, per l'appunto, per generare il tetto. Riceve due informazioni: la prima è un flag che ci dice se la struttura ha un tetto, in caso contrario si accede ai dati realtivi a come costrutire un tetto (la seconda informazione passata come parametro) che devono essere passati con molta attenzione, per non creare tetti impossibili (vedere hw 09)\n",
    "\n",
    "I problemi più grandi sono stati riscontrati nell'inserimento dei beam/pillar e della scala, che, al momento, può essere inserita di una sola tipologia però ouò essere spostata a piacimento all'interno della struttura. La scala viene creata a singola rampa, ed il soffitto viene bucato da una parte o dall'altra a seconda se ci si trova in piani pari o in piani dispari.\n",
    "\n"
   ]
  },
  {
   "cell_type": "code",
   "execution_count": 95,
   "metadata": {
    "collapsed": false
   },
   "outputs": [],
   "source": [
    "%run \"my_function.ipynb\""
   ]
  },
  {
   "cell_type": "code",
   "execution_count": 96,
   "metadata": {
    "collapsed": false
   },
   "outputs": [],
   "source": [
    "def multisorey_house():\n",
    "    def generate_intern_structure(doors_data,windows_data,dir_name=\"lines\"):\n",
    "        \n",
    "        def genrate_floors_stairs(nFloor=1,external=1):\n",
    "            def add_roof(hasRoof=0,roofData=[]):\n",
    "            \n",
    "                result=generate_structure(doors_data,windows_data,dir_name)\n",
    "                first_floor=result[1]\n",
    "                VIEW(first_floor)\n",
    "                floor=result[0]\n",
    "            \n",
    "                beamStructureEven=generate_beam_structure(dir_name,floor,1)\n",
    "                beamStructureOdd=generate_beam_structure(dir_name,floor,2)\n",
    "            \n",
    "                first_floorEven=(STRUCT([beamStructureEven,first_floor]))\n",
    "                first_floorOdd=(STRUCT([beamStructureOdd,first_floor]))\n",
    "              \n",
    "\n",
    "                myFloors=[]\n",
    "                myFloors.append(floor)\n",
    "                myFloors.append(first_floorOdd)\n",
    "                if(nFloor>1):\n",
    "                    for i in range(1,nFloor):\n",
    "                        stairsPos= findStair(dir_name)\n",
    "                        stairsPos=SOLIDIFY(stairsPos)\n",
    "                        stairsPos=OFFSET([2,2,2])(stairsPos)\n",
    "                    \n",
    "                        onZ=SIZE(3)(STRUCT([S([1,2,3])([0.1,0.1,0.1]),(first_floorEven)]))\n",
    "                        onX=SIZE(1)(stairsPos)\n",
    "                        onY=SIZE(2)(stairsPos)\n",
    "                        mom= CUBOID([onX,onY,1])\n",
    "                        mom=(STRUCT([S([1,2])([0.1,0.1]),(mom)]))\n",
    "                        onX=SIZE(1)(mom)\n",
    "                        onY=SIZE(2)(mom)\n",
    "                        \n",
    "                                        \n",
    "                        stairs=ggpl_scale_a_rampa(onX-0.2,onY-0.2,onZ)\n",
    "                        stairsR=STRUCT([T([1,2])([onX,onY]),R([1,2])(math.pi),stairs[0]])\n",
    "                    \n",
    "                        stairsR=STRUCT([S([1,2,3])([10,10,10]),stairsR])\n",
    "                        stairs=STRUCT([S([1,2,3])([10,10,10]),stairs[0]])\n",
    "                    \n",
    "                        stairsPos=find_verts_and_cells(\"./\"+dir_name+\"/stairs.lines\")\n",
    "                        stairsPos=stairsPos[0]\n",
    "                        if(i%2==1):\n",
    "                            myFloors.append(T([1,2])([stairsPos[0][0],stairsPos[0][1]-1]))\n",
    "                            myFloors.append(stairsR)\n",
    "                            myFloors.append(T([2])([+1]))\n",
    "                        else:\n",
    "                            myFloors.append(T([1,2])([stairsPos[0][0]+1,stairsPos[0][1]+1]))\n",
    "                            myFloors.append(stairs)\n",
    "                            myFloors.append(T([1,2])([-1,-1]))\n",
    "                    \n",
    "                        myFloors.append(T([1,2])([-1*stairsPos[0][0],-1*stairsPos[0][1]]))\n",
    "                        myFloors.append(T(3)(SIZE(3)(first_floorEven)))\n",
    "                        if(i%2==1):\n",
    "                            myFloors.append(first_floorEven)\n",
    "                        else:\n",
    "                            myFloors.append(first_floorOdd)\n",
    "                             \n",
    "                    \n",
    "                result=STRUCT(myFloors)\n",
    "                \n",
    "                if(hasRoof==1):\n",
    "                    roof_to_build=find_verts_and_cells(\"./\"+dir_name+\"/external_wall.lines\")\n",
    "                    roof_to_build=roof_to_build[0]\n",
    "                    \n",
    "                    \n",
    "                    radiant=[PI/4]*roofData[0]\n",
    "                    roof_cells=roofData[1]\n",
    "                    rotation=roofData[2]\n",
    "                    roof_height=roofData[3]\n",
    "                    \n",
    "                    map_point={}\n",
    "                    roof_P=[]\n",
    "                    \n",
    "                    for i in range(0,len(roof_to_build)):\n",
    "                        if(map_point.get((roof_to_build[i][0],roof_to_build[i][1]))== None):\n",
    "                            roof_P.append(roof_to_build[i])\n",
    "                            roof_to_build[i].append(0)\n",
    "                        map_point[(roof_to_build[i][0],roof_to_build[i][1])]=roof_to_build[i]\n",
    "                    \n",
    "                    roof_P.append(roof_P[0])\n",
    "                    roof=(create_my_roof(roof_P,roof_cells,rotation,radiant,roof_height))\n",
    "                    result=STRUCT([result,T(3)(SIZE(3)(result)),roof])\n",
    "                    return result\n",
    "                else:\n",
    "                    return result\n",
    "                           \n",
    "                return 0\n",
    "            \n",
    "            return add_roof\n",
    "        \n",
    "        return genrate_floors_stairs\n",
    "    \n",
    "    return generate_intern_structure\n"
   ]
  },
  {
   "cell_type": "code",
   "execution_count": 97,
   "metadata": {
    "collapsed": false,
    "scrolled": true
   },
   "outputs": [
    {
     "data": {
      "text/plain": [
       "<pyplasm.xgepy.Hpc; proxy of <Swig Object of type 'std::shared_ptr< Hpc > *' at 0x1ab7c1120> >"
      ]
     },
     "execution_count": 97,
     "metadata": {},
     "output_type": "execute_result"
    }
   ],
   "source": [
    "X=[0.3, 1.0, 0.2, 1.0, 0.2]\n",
    "Y=[10, 5, 1, 5, 1, 5, 1, 5, 0.03125]\n",
    "Z=[0.5]\n",
    "mirror_or_not_mirror=[\n",
    "    [1,1,1,1,1],\n",
    "    [1,0,1,0,1],\n",
    "    [1,1,1,1,1],\n",
    "    [1,0,1,0,1],\n",
    "    [1,1,1,1,1],\n",
    "    [1,0,1,0,1],\n",
    "    [1,1,1,1,1],\n",
    "    [1,0,1,0,1],\n",
    "    [1,1,1,1,1]]\n",
    "X2=[0.1, 0.5, 0.1, 0.5, 0.1, 0.5, 0.1]\n",
    "Y2=[0.25, 1.25, 0.25, 1.25, 0.25, 1.25, 0.25, 1.25, 0.25]\n",
    "Z2=[0.5]\n",
    "mirror_or_not_mirror2=[\n",
    "    [1,1,1,1,1,1,1],\n",
    "    [1,0,1,0,1,0,1],\n",
    "    [1,1,1,1,1,1,1],\n",
    "    [1,0,1,0,1,0,1],\n",
    "    [1,1,1,1,1,1,1],\n",
    "    [1,0,1,0,1,0,1],\n",
    "    [1,1,1,1,1,1,1],\n",
    "    [1,0,1,0,1,0,1],\n",
    "    [1,1,1,1,1,1,1]]\n",
    "\n",
    "doors_data=[X,Y,Z,mirror_or_not_mirror]\n",
    "windows_data=[X2,Y2,Z,mirror_or_not_mirror2]\n",
    "result=multisorey_house()(doors_data,windows_data,\"lines_3b\")(2)(1,[8,[[2,3,6,7],[1,8,7,2],[5,4,3,6]],[4,1,2,3,4,4,3,3],35])\n",
    "VIEW(result)\n",
    "result=multisorey_house()(doors_data,windows_data)(5)(1,[7,[[1,2,3,4],[4,5,6,7]],[3,3,4,1,2,3,3],35])\n",
    "VIEW(result)"
   ]
  },
  {
   "cell_type": "markdown",
   "metadata": {
    "collapsed": false
   },
   "source": [
    "### Risultati \n",
    "\n",
    "#### esterni\n",
    "\n",
    "![casa](https://github.com/adixia/ggpl-LAB/blob/master/2017-1-13/pic/img1.png?raw=true)\n",
    "\n",
    "![casa](https://github.com/adixia/ggpl-LAB/blob/master/2017-1-13/pic/img2.png?raw=true)\n",
    "\n",
    "![casa](https://github.com/adixia/ggpl-LAB/blob/master/2017-1-13/pic/img5.png?raw=true)\n",
    "\n",
    "![casa](https://github.com/adixia/ggpl-LAB/blob/master/2017-1-13/pic/img6.png?raw=true)\n",
    "\n",
    "#### interni\n",
    "\n",
    "![casa](https://github.com/adixia/ggpl-LAB/blob/master/2017-1-13/pic/img3.png?raw=true)\n",
    "\n",
    "![casa](https://github.com/adixia/ggpl-LAB/blob/master/2017-1-13/pic/img4.png?raw=true)\n",
    "\n"
   ]
  },
  {
   "cell_type": "code",
   "execution_count": null,
   "metadata": {
    "collapsed": false
   },
   "outputs": [],
   "source": []
  },
  {
   "cell_type": "code",
   "execution_count": null,
   "metadata": {
    "collapsed": true
   },
   "outputs": [],
   "source": []
  },
  {
   "cell_type": "code",
   "execution_count": null,
   "metadata": {
    "collapsed": true
   },
   "outputs": [],
   "source": []
  },
  {
   "cell_type": "code",
   "execution_count": null,
   "metadata": {
    "collapsed": true
   },
   "outputs": [],
   "source": []
  },
  {
   "cell_type": "code",
   "execution_count": null,
   "metadata": {
    "collapsed": true
   },
   "outputs": [],
   "source": []
  }
 ],
 "metadata": {
  "anaconda-cloud": {},
  "kernelspec": {
   "display_name": "Python [conda root]",
   "language": "python",
   "name": "conda-root-py"
  },
  "language_info": {
   "codemirror_mode": {
    "name": "ipython",
    "version": 2
   },
   "file_extension": ".py",
   "mimetype": "text/x-python",
   "name": "python",
   "nbconvert_exporter": "python",
   "pygments_lexer": "ipython2",
   "version": "2.7.12"
  }
 },
 "nbformat": 4,
 "nbformat_minor": 1
}
