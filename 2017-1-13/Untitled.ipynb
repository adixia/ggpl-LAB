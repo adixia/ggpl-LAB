{
 "cells": [
  {
   "cell_type": "markdown",
   "metadata": {},
   "source": [
    "### design of parametric multistorey House"
   ]
  },
  {
   "cell_type": "code",
   "execution_count": 1,
   "metadata": {
    "collapsed": false
   },
   "outputs": [
    {
     "name": "stdout",
     "output_type": "stream",
     "text": [
      "Evaluating fenvs.py..\n",
      "...fenvs.py imported in 0.006639 seconds\n"
     ]
    },
    {
     "ename": "NameError",
     "evalue": "name 'generate_structure_reloaded' is not defined",
     "output_type": "error",
     "traceback": [
      "\u001b[0;31m---------------------------------------------------------------------------\u001b[0m",
      "\u001b[0;31mNameError\u001b[0m                                 Traceback (most recent call last)",
      "\u001b[0;32m<ipython-input-1-0f16b558ccc4>\u001b[0m in \u001b[0;36m<module>\u001b[0;34m()\u001b[0m\n\u001b[1;32m     16\u001b[0m     \u001b[0;32mreturn\u001b[0m \u001b[0mgenrate_floor\u001b[0m\u001b[0;34m\u001b[0m\u001b[0m\n\u001b[1;32m     17\u001b[0m \u001b[0;34m\u001b[0m\u001b[0m\n\u001b[0;32m---> 18\u001b[0;31m \u001b[0mmmmm\u001b[0m\u001b[0;34m=\u001b[0m\u001b[0mgenerate_structure_reloaded\u001b[0m\u001b[0;34m(\u001b[0m\u001b[0;34m)\u001b[0m\u001b[0;34m\u001b[0m\u001b[0m\n\u001b[0m\u001b[1;32m     19\u001b[0m \u001b[0mmyBuild\u001b[0m\u001b[0;34m=\u001b[0m\u001b[0mgenerate_my_bulding\u001b[0m\u001b[0;34m(\u001b[0m\u001b[0;34m\"lines\"\u001b[0m\u001b[0;34m)\u001b[0m\u001b[0;34m(\u001b[0m\u001b[0;36m7\u001b[0m\u001b[0;34m)\u001b[0m\u001b[0;34m\u001b[0m\u001b[0m\n\u001b[1;32m     20\u001b[0m \u001b[0mymybuild\u001b[0m\u001b[0;34m=\u001b[0m\u001b[0mSIZE\u001b[0m\u001b[0;34m(\u001b[0m\u001b[0;36m3\u001b[0m\u001b[0;34m)\u001b[0m\u001b[0;34m(\u001b[0m\u001b[0mmyBuild\u001b[0m\u001b[0;34m)\u001b[0m\u001b[0;34m\u001b[0m\u001b[0m\n",
      "\u001b[0;31mNameError\u001b[0m: name 'generate_structure_reloaded' is not defined"
     ]
    }
   ],
   "source": [
    "%run \"my_function.ipynb\"\n",
    "\n",
    "def generate_my_bulding(name):\n",
    "    def genrate_floor(nFloor):\n",
    "        floors=[]\n",
    "        building_floor=generate_structure(\"lines\",0.05,0.05,0.05)\n",
    "        VIEW(building_floor)\n",
    "        floorZ=SIZE(3)(building_floor)\n",
    "        for i in range(0,nFloor):\n",
    "            floors.append(building_floor)\n",
    "            floors.append(T(3)(floorZ))\n",
    "        k=STRUCT(floors)\n",
    "        return k\n",
    "        \n",
    "    \n",
    "    return genrate_floor\n",
    "\n",
    "mmmm=generate_structure_reloaded()\n",
    "myBuild=generate_my_bulding(\"lines\")(7)\n",
    "ymybuild=SIZE(3)(myBuild)\n",
    "stairs=ggpl_scale_a_rampa(1.4,5.6,ymybuild)\n",
    "X2=[1.5,5,1,5,1]\n",
    "Y2=[10,5,1,5,1,5,1,5,1]\n",
    "Z2=[0.5]\n",
    "mirror_or_not_mirror2=[\n",
    "    [1,1,1,1,1],\n",
    "    [1,0,1,0,1],\n",
    "    [1,1,1,1,1],\n",
    "    [1,0,1,0,1],\n",
    "    [1,1,1,1,1],\n",
    "    [1,0,1,0,1],\n",
    "    [1,1,1,1,1],\n",
    "    [1,0,1,0,1],\n",
    "    [1,1,1,1,1]]\n",
    "\n",
    "x=SIZE([1])(stairs[0])\n",
    "y=SIZE([2])(stairs[0])\n",
    "z=SIZE([3])(stairs[0])\n",
    "\n",
    "door=STRUCT([R([2,3])(math.pi/2),(design_4_door(X2,Y2,Z2,mirror_or_not_mirror2)(1,1,1))])\n",
    "door=STRUCT([S([1,2,3])([0.05,0.05,0.05]),door])\n",
    "doors=doors_generator(stairs[1],door)\n",
    "doors=STRUCT([R([1,2])(math.pi/2),(doors)])\n",
    "doors=STRUCT([T([2])(y[0]-0.9),(doors)])\n",
    "\n",
    "external_wall=STRUCT([CUBOID([x[0]+0.1,y[0]+0.1,z[0]])])\n",
    "inside_wall=STRUCT([T([1,2])([0.05,0.05]),CUBOID([x[0],y[0],z[0]])])\n",
    "wall=DIFF([external_wall,inside_wall])\n",
    "wall=hole4Door(wall,stairs[1],door,y[0])\n",
    "mystair=STRUCT([wall,doors,stairs[0]])\n",
    "mystair=STRUCT([myBuild,T([1])(SIZE([1])(myBuild)),mystair])\n",
    "VIEW(mystair)\n",
    "\n",
    "\n",
    "\n",
    "\n",
    "\n",
    "    "
   ]
  },
  {
   "cell_type": "code",
   "execution_count": 3,
   "metadata": {
    "collapsed": false,
    "scrolled": true
   },
   "outputs": [
    {
     "data": {
      "text/plain": [
       "<pyplasm.xgepy.Hpc; proxy of <Swig Object of type 'std::shared_ptr< Hpc > *' at 0x104e0c990> >"
      ]
     },
     "execution_count": 3,
     "metadata": {},
     "output_type": "execute_result"
    }
   ],
   "source": [
    "%run \"my_function.ipynb\"\n",
    "stairs=ggpl_scale_a_rampa(1.4,5.6,17.3)\n",
    "X2=[1.5,5,1,5,1]\n",
    "Y2=[10,5,1,5,1,5,1,5,1]\n",
    "Z2=[0.5]\n",
    "mirror_or_not_mirror2=[\n",
    "    [1,1,1,1,1],\n",
    "    [1,0,1,0,1],\n",
    "    [1,1,1,1,1],\n",
    "    [1,0,1,0,1],\n",
    "    [1,1,1,1,1],\n",
    "    [1,0,1,0,1],\n",
    "    [1,1,1,1,1],\n",
    "    [1,0,1,0,1],\n",
    "    [1,1,1,1,1]]\n",
    "\n",
    "x=SIZE([1])(stairs[0])\n",
    "y=SIZE([2])(stairs[0])\n",
    "z=SIZE([3])(stairs[0])\n",
    "\n",
    "door=STRUCT([R([2,3])(math.pi/2),(design_4_door(X2,Y2,Z2,mirror_or_not_mirror2)(1,1,1))])\n",
    "door=STRUCT([S([1,2,3])([0.05,0.05,0.05]),door])\n",
    "doors=doors_generator(stairs[1],door)\n",
    "doors=STRUCT([R([1,2])(math.pi/2),(doors)])\n",
    "doors=STRUCT([T([2])(y[0]-0.9),(doors)])\n",
    "\n",
    "external_wall=STRUCT([CUBOID([x[0]+0.1,y[0]+0.1,z[0]])])\n",
    "inside_wall=STRUCT([T([1,2])([0.05,0.05]),CUBOID([x[0],y[0],z[0]])])\n",
    "wall=DIFF([external_wall,inside_wall])\n",
    "wall=hole4Door(wall,stairs[1],door,y[0])\n",
    "\n",
    "VIEW(STRUCT([wall,doors,stairs[0]]))"
   ]
  },
  {
   "cell_type": "code",
   "execution_count": null,
   "metadata": {
    "collapsed": true
   },
   "outputs": [],
   "source": []
  },
  {
   "cell_type": "code",
   "execution_count": null,
   "metadata": {
    "collapsed": true
   },
   "outputs": [],
   "source": []
  },
  {
   "cell_type": "code",
   "execution_count": null,
   "metadata": {
    "collapsed": true
   },
   "outputs": [],
   "source": []
  }
 ],
 "metadata": {
  "anaconda-cloud": {},
  "kernelspec": {
   "display_name": "Python [conda root]",
   "language": "python",
   "name": "conda-root-py"
  },
  "language_info": {
   "codemirror_mode": {
    "name": "ipython",
    "version": 2
   },
   "file_extension": ".py",
   "mimetype": "text/x-python",
   "name": "python",
   "nbconvert_exporter": "python",
   "pygments_lexer": "ipython2",
   "version": "2.7.12"
  }
 },
 "nbformat": 4,
 "nbformat_minor": 1
}
