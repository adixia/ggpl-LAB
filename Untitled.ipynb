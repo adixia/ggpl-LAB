{
 "cells": [
  {
   "cell_type": "code",
   "execution_count": 1,
   "metadata": {
    "collapsed": false
   },
   "outputs": [
    {
     "name": "stdout",
     "output_type": "stream",
     "text": [
      "Evaluating fenvs.py..\n",
      "...fenvs.py imported in 0.005245 seconds\n"
     ]
    },
    {
     "name": "stderr",
     "output_type": "stream",
     "text": [
      "/Users/Alessandro/anaconda/lib/python2.7/site-packages/larlib/larstruct.py:233: FutureWarning: comparison to `None` will result in an elementwise object comparison in the future.\n",
      "  self.body = [item for item in data if item != None]\n"
     ]
    }
   ],
   "source": [
    "from pyplasm import *\n",
    "from larlib import *    "
   ]
  },
  {
   "cell_type": "code",
   "execution_count": 2,
   "metadata": {
    "collapsed": false
   },
   "outputs": [],
   "source": [
    "\n",
    "pts = [[0,0],[.5,0],[0,.5],[.5,.5],\n",
    "       [1,.5],[1.5,.5],[1.5,1],[.25,1]]     # coords\n",
    "P = AA(MK)(pts)                             # 0-polyhedra\n",
    "S = AA(JOIN)([P[0:4],P[4:7],P[7]])          # array of d-polyhedra\n",
    "H = JOIN(S)                                 # 2-polyhedron\n",
    "\n",
    "#VIEW(STRUCT(AA(SKELETON(1))(S)))\n",
    "#VIEW(H)"
   ]
  },
  {
   "cell_type": "code",
   "execution_count": 5,
   "metadata": {
    "collapsed": false
   },
   "outputs": [],
   "source": [
    "s0,s1,s2,s3 = [SIMPLEX(d) for d in range(4)]    # array of standard d-simplices\n",
    "#VIEW(s1); VIEW(s2); VIEW(s3);                   \n",
    "\n",
    "points = [[1,1,1],[0,1,1],[1,0,0],[1,1,0]]      # coords of 4 points\n",
    "tetra = JOIN(AA(MK)(points))                    # 3-simplex\n",
    "#VIEW(tetra)"
   ]
  },
  {
   "cell_type": "code",
   "execution_count": 23,
   "metadata": {
    "collapsed": false
   },
   "outputs": [],
   "source": [
    "V,CV = larSimplexGrid1([5,5,5])                 # structured simplicial grid\n",
    "FV = larSimplexFacets(CV)                       # 2-simplicial grid\n",
    "EV = larSimplexFacets(FV)                       # 1-simplicial grid\n",
    "\n",
    "#VIEW(EXPLODE(0.2,0.1,0.1)(MKPOLS((V,CV))))\n",
    "#VIEW(EXPLODE(1.5,1.5,1.5)(MKPOLS((V,FV))))\n",
    "#VIEW(EXPLODE(1.5,1.5,1.5)(MKPOLS((V,EV))))\n",
    "\n",
    "BV = [FV[t] for t in boundaryCells(CV,FV)]      # boundary 2-simplices\n",
    "#VIEW(EXPLODE(1.5,1.5,1.5)(MKPOLS((V,BV))))"
   ]
  },
  {
   "cell_type": "code",
   "execution_count": 37,
   "metadata": {
    "collapsed": false
   },
   "outputs": [
    {
     "data": {
      "text/plain": [
       "<pyplasm.xgepy.Hpc; proxy of <Swig Object of type 'std::shared_ptr< Hpc > *' at 0x1153c1cc0> >"
      ]
     },
     "execution_count": 37,
     "metadata": {},
     "output_type": "execute_result"
    }
   ],
   "source": [
    "from random import random as rand\n",
    "points = [[2*PI*rand(),rand()] for k in range(1000)]\n",
    "V = [[SQRT(r)*COS(alpha),SQRT(r)*SIN(alpha)] for alpha,r in points]\n",
    "cells = [[k+1] for k,v in enumerate(V)]\n",
    "who=MKPOL([V,cells,None])\n",
    "VIEW(who)\n",
    "\n",
    "\n",
    "\n",
    "\n",
    "from scipy.spatial import Delaunay\n",
    "FV = Delaunay(array(V)).vertices\n",
    "VIEW(EXPLODE(1.2,1.2,1)(MKPOLS((V,FV))))\n",
    "VIEW(SKELETON(1)(STRUCT(MKPOLS((V,FV)))))"
   ]
  },
  {
   "cell_type": "code",
   "execution_count": null,
   "metadata": {
    "collapsed": false
   },
   "outputs": [],
   "source": [
    "def sphere1(p): return [COS(p[0]), SIN(p[0])] # point function\n",
    "def domain(n): return INTERVALS(2*PI)(n)      # generator of domain decomp\n",
    "#VIEW( MAP(sphere1)(domain(100)) )              # geometric value (HP\n",
    "VIEW(MAP(sphere1)(INTERVALS(2*PI)(5)))"
   ]
  },
  {
   "cell_type": "code",
   "execution_count": null,
   "metadata": {
    "collapsed": true
   },
   "outputs": [],
   "source": []
  }
 ],
 "metadata": {
  "anaconda-cloud": {},
  "kernelspec": {
   "display_name": "Python [conda root]",
   "language": "python",
   "name": "conda-root-py"
  },
  "language_info": {
   "codemirror_mode": {
    "name": "ipython",
    "version": 2
   },
   "file_extension": ".py",
   "mimetype": "text/x-python",
   "name": "python",
   "nbconvert_exporter": "python",
   "pygments_lexer": "ipython2",
   "version": "2.7.12"
  }
 },
 "nbformat": 4,
 "nbformat_minor": 1
}
