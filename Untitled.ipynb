{
 "cells": [
  {
   "cell_type": "code",
   "execution_count": 1,
   "metadata": {
    "collapsed": false
   },
   "outputs": [
    {
     "name": "stdout",
     "output_type": "stream",
     "text": [
      "Evaluating fenvs.py..\n",
      "...fenvs.py imported in 0.005171 seconds\n"
     ]
    },
    {
     "name": "stderr",
     "output_type": "stream",
     "text": [
      "/Users/Alessandro/anaconda/lib/python2.7/site-packages/larlib/larstruct.py:233: FutureWarning: comparison to `None` will result in an elementwise object comparison in the future.\n",
      "  self.body = [item for item in data if item != None]\n"
     ]
    }
   ],
   "source": [
    "from pyplasm import *\n",
    "from larlib import *    "
   ]
  },
  {
   "cell_type": "code",
   "execution_count": 2,
   "metadata": {
    "collapsed": false
   },
   "outputs": [],
   "source": [
    "\n",
    "pts = [[0,0],[.5,0],[0,.5],[.5,.5],\n",
    "       [1,.5],[1.5,.5],[1.5,1],[.25,1]]     # coords\n",
    "P = AA(MK)(pts)                             # 0-polyhedra\n",
    "S = AA(JOIN)([P[0:4],P[4:7],P[7]])          # array of d-polyhedra\n",
    "H = JOIN(S)                                 # 2-polyhedron\n",
    "\n",
    "#VIEW(STRUCT(AA(SKELETON(1))(S)))\n",
    "#VIEW(H)"
   ]
  },
  {
   "cell_type": "code",
   "execution_count": 5,
   "metadata": {
    "collapsed": false
   },
   "outputs": [],
   "source": [
    "s0,s1,s2,s3 = [SIMPLEX(d) for d in range(4)]    # array of standard d-simplices\n",
    "#VIEW(s1); VIEW(s2); VIEW(s3);                   \n",
    "\n",
    "points = [[1,1,1],[0,1,1],[1,0,0],[1,1,0]]      # coords of 4 points\n",
    "tetra = JOIN(AA(MK)(points))                    # 3-simplex\n",
    "#VIEW(tetra)"
   ]
  },
  {
   "cell_type": "code",
   "execution_count": 23,
   "metadata": {
    "collapsed": false
   },
   "outputs": [],
   "source": [
    "V,CV = larSimplexGrid1([5,5,5])                 # structured simplicial grid\n",
    "FV = larSimplexFacets(CV)                       # 2-simplicial grid\n",
    "EV = larSimplexFacets(FV)                       # 1-simplicial grid\n",
    "\n",
    "#VIEW(EXPLODE(0.2,0.1,0.1)(MKPOLS((V,CV))))\n",
    "#VIEW(EXPLODE(1.5,1.5,1.5)(MKPOLS((V,FV))))\n",
    "#VIEW(EXPLODE(1.5,1.5,1.5)(MKPOLS((V,EV))))\n",
    "\n",
    "BV = [FV[t] for t in boundaryCells(CV,FV)]      # boundary 2-simplices\n",
    "#VIEW(EXPLODE(1.5,1.5,1.5)(MKPOLS((V,BV))))"
   ]
  },
  {
   "cell_type": "code",
   "execution_count": 37,
   "metadata": {
    "collapsed": false
   },
   "outputs": [
    {
     "data": {
      "text/plain": [
       "<pyplasm.xgepy.Hpc; proxy of <Swig Object of type 'std::shared_ptr< Hpc > *' at 0x1153c1cc0> >"
      ]
     },
     "execution_count": 37,
     "metadata": {},
     "output_type": "execute_result"
    }
   ],
   "source": [
    "from random import random as rand\n",
    "points = [[2*PI*rand(),rand()] for k in range(1000)]\n",
    "V = [[SQRT(r)*COS(alpha),SQRT(r)*SIN(alpha)] for alpha,r in points]\n",
    "cells = [[k+1] for k,v in enumerate(V)]\n",
    "who=MKPOL([V,cells,None])\n",
    "VIEW(who)\n",
    "\n",
    "\n",
    "\n",
    "\n",
    "from scipy.spatial import Delaunay\n",
    "FV = Delaunay(array(V)).vertices\n",
    "VIEW(EXPLODE(1.2,1.2,1)(MKPOLS((V,FV))))\n",
    "VIEW(SKELETON(1)(STRUCT(MKPOLS((V,FV)))))"
   ]
  },
  {
   "cell_type": "code",
   "execution_count": null,
   "metadata": {
    "collapsed": false
   },
   "outputs": [],
   "source": [
    "def sphere1(p): return [COS(p[0]), SIN(p[0])] # point function\n",
    "def domain(n): return INTERVALS(2*PI)(n)      # generator of domain decomp\n",
    "#VIEW( MAP(sphere1)(domain(100)) )              # geometric value (HP\n",
    "VIEW(MAP(sphere1)(INTERVALS(2*PI)(5)))"
   ]
  },
  {
   "cell_type": "code",
   "execution_count": 3,
   "metadata": {
    "collapsed": false
   },
   "outputs": [],
   "source": [
    "def larModelProduct(twoModels):\n",
    "    (V, cells1), (W, cells2) = twoModels\n",
    "    vertices = collections.OrderedDict(); k = 0\n",
    "    for v in V:\n",
    "        for w in W:\n",
    "            id = tuple(v+w)\n",
    "            if not vertices.has_key(id):\n",
    "                vertices[id] = k\n",
    "                k += 1   \n",
    "    cells = [ [vertices[tuple(V[v] + W[w])] for v in c1 for w in c2 ]\n",
    "             for c1 in cells1 for c2 in cells2]  \n",
    "    model = [list(v) for v in vertices.keys()], cells\n",
    "    return model\n"
   ]
  },
  {
   "cell_type": "code",
   "execution_count": 4,
   "metadata": {
    "collapsed": true
   },
   "outputs": [],
   "source": [
    "V = [[0,0],[4,0],[6,0],[8,0],[10,0],[15,0],[17,0],[0,7],[4,7],[6,7],[8,7],[10,7],\n",
    "[15,7],[17,7],[17,4],[17,3],[4,4],[6,4],[8,4],[10,4],[15,4],[4,3],[6,3],[8,3],\n",
    "[10,3],[15,3]]\n",
    "\n",
    "FV = [[0,1,7,8,16,21],[1,2,21,22],[2,3,22,23],[3,4,23,24],[4,5,24,25],[5, 6,25,15],\n",
    "[8,9,16,17],[9,10,17,18],[10,11,18,19],[11,12,19,20],[12,13,14,20],range(14,26),\n",
    "range(7),range(7,14),[0,7],[6,13,14,15]]\n"
   ]
  },
  {
   "cell_type": "code",
   "execution_count": 14,
   "metadata": {
    "collapsed": false
   },
   "outputs": [
    {
     "ename": "TypeError",
     "evalue": "'Hpc' object is not iterable",
     "output_type": "error",
     "traceback": [
      "\u001b[0;31m---------------------------------------------------------------------------\u001b[0m",
      "\u001b[0;31mTypeError\u001b[0m                                 Traceback (most recent call last)",
      "\u001b[0;32m<ipython-input-14-bdf0d71747ad>\u001b[0m in \u001b[0;36m<module>\u001b[0;34m()\u001b[0m\n\u001b[1;32m      4\u001b[0m \u001b[0;31m#VIEW(larModelNumbering(1,1,1)(V,[VV,EV,FV[:-4]],submodel,3))\u001b[0m\u001b[0;34m\u001b[0m\u001b[0;34m\u001b[0m\u001b[0m\n\u001b[1;32m      5\u001b[0m \u001b[0;34m\u001b[0m\u001b[0m\n\u001b[0;32m----> 6\u001b[0;31m \u001b[0mVIEW\u001b[0m\u001b[0;34m(\u001b[0m\u001b[0mEXPLODE\u001b[0m\u001b[0;34m(\u001b[0m\u001b[0;36m1.2\u001b[0m\u001b[0;34m,\u001b[0m\u001b[0;36m1.2\u001b[0m\u001b[0;34m,\u001b[0m\u001b[0;36m1.2\u001b[0m\u001b[0;34m)\u001b[0m\u001b[0;34m(\u001b[0m\u001b[0msubmodel\u001b[0m\u001b[0;34m)\u001b[0m\u001b[0;34m)\u001b[0m\u001b[0;34m\u001b[0m\u001b[0m\n\u001b[0m\u001b[1;32m      7\u001b[0m \u001b[0mVIEW\u001b[0m\u001b[0;34m(\u001b[0m\u001b[0mEXPLODE\u001b[0m\u001b[0;34m(\u001b[0m\u001b[0;36m1.2\u001b[0m\u001b[0;34m,\u001b[0m\u001b[0;36m1.2\u001b[0m\u001b[0;34m,\u001b[0m\u001b[0;36m1.2\u001b[0m\u001b[0;34m)\u001b[0m\u001b[0;34m(\u001b[0m\u001b[0mMKPOLS\u001b[0m\u001b[0;34m(\u001b[0m\u001b[0;34m(\u001b[0m\u001b[0mV\u001b[0m\u001b[0;34m,\u001b[0m\u001b[0mFV\u001b[0m\u001b[0;34m[\u001b[0m\u001b[0;34m:\u001b[0m\u001b[0;34m-\u001b[0m\u001b[0;36m4\u001b[0m\u001b[0;34m]\u001b[0m\u001b[0;34m)\u001b[0m\u001b[0;34m)\u001b[0m\u001b[0;34m+\u001b[0m\u001b[0mMKPOLS\u001b[0m\u001b[0;34m(\u001b[0m\u001b[0;34m(\u001b[0m\u001b[0mV\u001b[0m\u001b[0;34m,\u001b[0m\u001b[0mEV\u001b[0m\u001b[0;34m)\u001b[0m\u001b[0;34m)\u001b[0m\u001b[0;34m+\u001b[0m\u001b[0mAA\u001b[0m\u001b[0;34m(\u001b[0m\u001b[0mMK\u001b[0m\u001b[0;34m)\u001b[0m\u001b[0;34m(\u001b[0m\u001b[0mV\u001b[0m\u001b[0;34m)\u001b[0m\u001b[0;34m)\u001b[0m\u001b[0;34m)\u001b[0m\u001b[0;34m\u001b[0m\u001b[0m\n",
      "\u001b[0;32m/Users/Alessandro/anaconda/lib/python2.7/site-packages/larlib/lar2psm.pyc\u001b[0m in \u001b[0;36mexplode0\u001b[0;34m(scene)\u001b[0m\n\u001b[1;32m     24\u001b[0m \u001b[0;32mdef\u001b[0m \u001b[0mEXPLODE\u001b[0m \u001b[0;34m(\u001b[0m\u001b[0msx\u001b[0m\u001b[0;34m,\u001b[0m\u001b[0msy\u001b[0m\u001b[0;34m,\u001b[0m\u001b[0msz\u001b[0m\u001b[0;34m)\u001b[0m\u001b[0;34m:\u001b[0m\u001b[0;34m\u001b[0m\u001b[0m\n\u001b[1;32m     25\u001b[0m     \u001b[0;32mdef\u001b[0m \u001b[0mexplode0\u001b[0m \u001b[0;34m(\u001b[0m\u001b[0mscene\u001b[0m\u001b[0;34m)\u001b[0m\u001b[0;34m:\u001b[0m\u001b[0;34m\u001b[0m\u001b[0m\n\u001b[0;32m---> 26\u001b[0;31m         \u001b[0mcenters\u001b[0m \u001b[0;34m=\u001b[0m \u001b[0;34m[\u001b[0m\u001b[0mCCOMB\u001b[0m\u001b[0;34m(\u001b[0m\u001b[0mS1\u001b[0m\u001b[0;34m(\u001b[0m\u001b[0mUKPOL\u001b[0m\u001b[0;34m(\u001b[0m\u001b[0mobj\u001b[0m\u001b[0;34m)\u001b[0m\u001b[0;34m)\u001b[0m\u001b[0;34m)\u001b[0m \u001b[0;32mfor\u001b[0m \u001b[0mobj\u001b[0m \u001b[0;32min\u001b[0m \u001b[0mscene\u001b[0m\u001b[0;34m]\u001b[0m\u001b[0;34m\u001b[0m\u001b[0m\n\u001b[0m\u001b[1;32m     27\u001b[0m         \u001b[0mscalings\u001b[0m \u001b[0;34m=\u001b[0m \u001b[0mlen\u001b[0m\u001b[0;34m(\u001b[0m\u001b[0mcenters\u001b[0m\u001b[0;34m)\u001b[0m \u001b[0;34m*\u001b[0m \u001b[0;34m[\u001b[0m\u001b[0mS\u001b[0m\u001b[0;34m(\u001b[0m\u001b[0;34m[\u001b[0m\u001b[0;36m1\u001b[0m\u001b[0;34m,\u001b[0m\u001b[0;36m2\u001b[0m\u001b[0;34m,\u001b[0m\u001b[0;36m3\u001b[0m\u001b[0;34m]\u001b[0m\u001b[0;34m)\u001b[0m\u001b[0;34m(\u001b[0m\u001b[0;34m[\u001b[0m\u001b[0msx\u001b[0m\u001b[0;34m,\u001b[0m\u001b[0msy\u001b[0m\u001b[0;34m,\u001b[0m\u001b[0msz\u001b[0m\u001b[0;34m]\u001b[0m\u001b[0;34m)\u001b[0m\u001b[0;34m]\u001b[0m\u001b[0;34m\u001b[0m\u001b[0m\n\u001b[1;32m     28\u001b[0m         scaledCenters = [UK(APPLY(pair)) for pair in\n",
      "\u001b[0;31mTypeError\u001b[0m: 'Hpc' object is not iterable"
     ]
    }
   ],
   "source": [
    "submodel = SKEL_1(STRUCT(MKPOLS((V,FV))))\n",
    "V,EV = larFacets((V,FV),2,4)\n",
    "VV = AA(LIST)(range(len(V)))\n",
    "#VIEW(larModelNumbering(1,1,1)(V,[VV,EV,FV[:-4]],submodel,3))\n",
    "\n",
    "VIEW(EXPLODE(1.2,1.2,1.2)(MKPOLS((V,FV[:-4]))+MKPOLS((V,EV))+AA(MK)(V)))"
   ]
  },
  {
   "cell_type": "code",
   "execution_count": null,
   "metadata": {
    "collapsed": true
   },
   "outputs": [],
   "source": []
  }
 ],
 "metadata": {
  "anaconda-cloud": {},
  "kernelspec": {
   "display_name": "Python [conda root]",
   "language": "python",
   "name": "conda-root-py"
  },
  "language_info": {
   "codemirror_mode": {
    "name": "ipython",
    "version": 2
   },
   "file_extension": ".py",
   "mimetype": "text/x-python",
   "name": "python",
   "nbconvert_exporter": "python",
   "pygments_lexer": "ipython2",
   "version": "2.7.12"
  }
 },
 "nbformat": 4,
 "nbformat_minor": 1
}
