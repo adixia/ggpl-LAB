{
 "cells": [
  {
   "cell_type": "markdown",
   "metadata": {},
   "source": [
    "## Il Mio Tavolo della Mensa\n",
    "\n",
    "![tavolo esempio](http://www.idfdesign.it/immagini/tavoli-per-mensa/webby-w830-tavoli-monoblocco-3.jpg)\n"
   ]
  },
  {
   "cell_type": "code",
   "execution_count": 3,
   "metadata": {
    "collapsed": false
   },
   "outputs": [
    {
     "name": "stdout",
     "output_type": "stream",
     "text": [
      "Evaluating fenvs.py..\n",
      "...fenvs.py imported in 0.005206 seconds\n"
     ]
    }
   ],
   "source": [
    "from pyplasm import *"
   ]
  },
  {
   "cell_type": "code",
   "execution_count": 245,
   "metadata": {
    "collapsed": false
   },
   "outputs": [],
   "source": [
    "def my_school_canteen(dx,dy,dz):\n",
    "  \n",
    "    chairXY=0.5\n",
    "    dy=dy-2*chairXY\n",
    "    chairZ=0.05\n",
    "    base_onY=[dy]\n",
    "    base_onX=[0.1,-(dx-0.1*2),0.1]\n",
    "    base_onY=QUOTE(base_onY)\n",
    "    base_onX=QUOTE(base_onX)\n",
    "    a=PROD([base_onY,base_onX])\n",
    "    base_onY=[-(dy-0.1)/2,0.1]\n",
    "    base_onX=[-0.1,(dx-0.1*2),-0.1]\n",
    "    base_onY=QUOTE(base_onY)\n",
    "    base_onX=QUOTE(base_onX)\n",
    "    b=PROD([base_onY,base_onX])\n",
    "    c=QUOTE([-(0.2),0.18])\n",
    "    b=STRUCT([T([1,2])([chairXY/2,chairXY/2]),a,b])\n",
    "    c=PROD([b,c])\n",
    "    \n",
    "    leg=PROD([CIRCLE(0.1)([60,1]),QUOTE([0.5])])\n",
    "    leg2=COLOR(BLACK)(PROD([CIRCLE(0.11)([60,1]),QUOTE([0.1])]))\n",
    "    leg3=(PROD([CIRCLE(0.05)([60,1]),QUOTE([0.1])]))\n",
    "    depth_chair=0.1\n",
    "    \n",
    "    chair=STRUCT([T(3)(0.1),\n",
    "        COLOR(RED)(CUBOID([chairXY,chairXY, chairZ])),\n",
    "        COLOR(RED)(CUBOID([chairXY,chairZ,0.6]))])\n",
    "    \n",
    "    chair2=STRUCT([T(3)(0.1),\n",
    "        COLOR(RED)(CUBOID([chairXY,chairXY, chairZ])),T(2)(chairXY),\n",
    "        COLOR(RED)(CUBOID([chairXY,chairZ,0.6]))])\n",
    "    \n",
    "    \n",
    "    leg=STRUCT([T([1,2])([chairXY/2,chairXY/2]),leg,T(3)(0.5),leg2,T(3)(0.1),leg3,\n",
    "                T([1,2])([-chairXY/2,-chairXY/2]),chair])\n",
    "    \n",
    "    leg2=STRUCT([T([1,2])([chairXY/2,chairXY/2]),leg,T(3)(0.5),leg2,T(3)(0.1),leg3,\n",
    "                T([1,2])([-chairXY/2,-chairXY/2]),chair2])\n",
    "    \n",
    "    legs=STRUCT([leg,T(1)(dx-chairXY),leg])\n",
    "    VIEW(STRUCT([legs,c]))\n",
    "    VIEW(STRUCT([legs,c,CUBOID([dx,dy+2*chairXY,dz])]))\n",
    "    #VIEW(c)\n",
    "    \n",
    "    "
   ]
  },
  {
   "cell_type": "code",
   "execution_count": 246,
   "metadata": {
    "collapsed": false
   },
   "outputs": [],
   "source": [
    "my_school_canteen(2,3,1)"
   ]
  },
  {
   "cell_type": "code",
   "execution_count": null,
   "metadata": {
    "collapsed": true
   },
   "outputs": [],
   "source": []
  },
  {
   "cell_type": "code",
   "execution_count": null,
   "metadata": {
    "collapsed": true
   },
   "outputs": [],
   "source": []
  }
 ],
 "metadata": {
  "anaconda-cloud": {},
  "kernelspec": {
   "display_name": "Python [conda root]",
   "language": "python",
   "name": "conda-root-py"
  },
  "language_info": {
   "codemirror_mode": {
    "name": "ipython",
    "version": 2
   },
   "file_extension": ".py",
   "mimetype": "text/x-python",
   "name": "python",
   "nbconvert_exporter": "python",
   "pygments_lexer": "ipython2",
   "version": "2.7.12"
  }
 },
 "nbformat": 4,
 "nbformat_minor": 1
}
