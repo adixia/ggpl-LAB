{
 "cells": [
  {
   "cell_type": "markdown",
   "metadata": {},
   "source": [
    "## Alcuni oggetti scolastici\n",
    "\n",
    "Per questo workshop c'è stato chiesto di generare delle attrezzature scolastiche in 3d, la prima immagine da cui ho preso spunto è la seguente, il tavolo di una mensa:\n",
    "\n",
    "![tavolo esempio](http://www.idfdesign.it/immagini/tavoli-per-mensa/webby-w830-tavoli-monoblocco-3.jpg)\n",
    "\n",
    "sono riuscito a completare il codice che generava il solo tavolo della mensa entro le 3 ore dell'esercitazione, e in seguito ho ultimato il codice dell'ulteriore attrezzatura scolastica: la cattedra, il banco dello studente, ed infine la lavagna.\n"
   ]
  },
  {
   "cell_type": "code",
   "execution_count": 1,
   "metadata": {
    "collapsed": false
   },
   "outputs": [
    {
     "name": "stdout",
     "output_type": "stream",
     "text": [
      "Evaluating fenvs.py..\n",
      "...fenvs.py imported in 0.007852 seconds\n"
     ]
    }
   ],
   "source": [
    "from pyplasm import *"
   ]
  },
  {
   "cell_type": "code",
   "execution_count": 2,
   "metadata": {
    "collapsed": true
   },
   "outputs": [],
   "source": [
    "\"\"\" intRGBColor\n",
    "\n",
    "Metodo preso dal web per ottenere colori da RGB\n",
    "@param values: lista di tre interi RGB\n",
    "@return: Colore\n",
    "\"\"\"\n",
    "def intRGBColor(values):\n",
    "        return Color4f([ values[0]/255.0,\n",
    "                         values[1]/255.0,\n",
    "                         values[2]/255.0,\n",
    "                         1.0])\n",
    "TABLE = intRGBColor([247,239,194])\n",
    "LIGHT_BROWN = intRGBColor([193,157,98])\n",
    "DARK_BROWN = intRGBColor([111,78,11])\n",
    "GREY_GREEN= intRGBColor([114,125,116])\n",
    "YELLOW_CANTEEN= intRGBColor([255,255,154])"
   ]
  },
  {
   "cell_type": "markdown",
   "metadata": {},
   "source": [
    "###  il Tavolo  mio della mensa\n",
    "\n",
    "Dalla figura di riferimento era chiaro come il tavolo in questione si reggesse su le gambe dei singoli posti che avrebbero fatto da scheletro per la struttra. Ho generato le singole gambe con l'estrusione di un semplice hpc circolare in 2d, sul quale poi ho montato la struttura della sedia.\n",
    "Per soreggere il tavolo ho poi creato la struttutura a forma di H che connettesse le gambe del tavolo con il tavolo stesso. Per fare ciò creato sul piano x e y due hpc, uno per le stanghette verticali ed il secondo per la stanghetta centrale. Ho estruso il tutto e l'ho connesso con le gambe precedentemente create.\n",
    "infine ho aggiunto il cuboide della tavola ed ho connesso anch'esso."
   ]
  },
  {
   "cell_type": "code",
   "execution_count": 3,
   "metadata": {
    "collapsed": false
   },
   "outputs": [],
   "source": [
    "\"\"\"my_school_cantee\n",
    "\n",
    "Dati in input lo spazio che il tavolo di una mensa può occupare,\n",
    "generea un tavolo della mensa con sedie girevoli;\n",
    "il parametro della z viene volutamente ignorato,\n",
    "in quanto un tavolo in media deve essere alto dagli 80 ai 90 cm\n",
    "@param dx,dy,dz: spazio in metri\n",
    "@return: hpc del tavolo della mensa\n",
    "\"\"\"\n",
    "\n",
    "def my_school_canteen(dx,dy,dz):\n",
    "  \n",
    "    \"\"\"spazio della sedia\"\"\"\n",
    "    chairXY=0.5\n",
    "    \"\"\"spessore della sedia\"\"\"\n",
    "    chairZ=0.05\n",
    "   \n",
    "    \"\"\"generazione della struttura portante a forma di H\"\"\"\n",
    "    base_onY=[dy-chairXY]\n",
    "    base_onX=[0.1,-(dx-chairXY-4*chairZ),0.1]\n",
    "    base_onY=QUOTE(base_onY)\n",
    "    base_onX=QUOTE(base_onX)\n",
    "    tableBase=PROD([base_onX,base_onY])\n",
    "    base_onY=[-(dy-chairXY)/2,0.1]\n",
    "    base_onX=[-0.1,(dx-chairXY-4*chairZ)]\n",
    "    base_onY=QUOTE(base_onY)\n",
    "    base_onX=QUOTE(base_onX)\n",
    "    tableBase2=PROD([base_onX,base_onY])\n",
    "    tableBase3=QUOTE([-(0.2),0.18])\n",
    "    tableBase2=STRUCT([T([1,2])([chairXY/2,chairXY/2]),tableBase,tableBase2])\n",
    "    tableBase2=COLOR(GREY_GREEN)(tableBase2)\n",
    "    tableBase3=PROD([tableBase2,tableBase3])\n",
    "    tableBase3=COLOR(GREY_GREEN)(tableBase3)\n",
    "    \n",
    "    \"\"\"Strutture ciroclari che fanno da gambe ai sedili\"\"\"\n",
    "    leg=COLOR(GREY_GREEN)(PROD([CIRCLE(0.1)([60,1]),QUOTE([0.5])]))\n",
    "    leg2=COLOR(BLACK)(PROD([CIRCLE(0.11)([60,1]),QUOTE([0.1])]))\n",
    "    leg3=(PROD([CIRCLE(0.05)([60,1]),QUOTE([0.1])]))\n",
    "\n",
    "    \"\"\"struttura sedia vista forntale\"\"\"\n",
    "    chair=STRUCT([T(3)(0.1),\n",
    "        COLOR(YELLOW_CANTEEN)(CUBOID([chairXY,chairXY, chairZ])),\n",
    "        COLOR(YELLOW_CANTEEN)(CUBOID([chairZ,chairXY,0.6]))])\n",
    "\n",
    "    \"\"\"struttura sedia vista retro\"\"\"\n",
    "    chair2=STRUCT([T(3)(0.1),COLOR(YELLOW_CANTEEN)(CUBOID([chairXY,chairXY, chairZ])),\n",
    "                                        T(1)(chairXY),COLOR(YELLOW_CANTEEN)(CUBOID([chairZ,chairXY,0.6]))])\n",
    "    \n",
    "    leg=STRUCT([T([1,2])([chairXY/2,chairXY/2]),leg,T(3)(0.5),leg2,T(3)(0.1),leg3,\n",
    "                T([1,2])([-chairXY/2,-chairXY/2])])\n",
    "    \n",
    "    finaChair=STRUCT([leg,T(3)(0.6),chair])\n",
    "    finaChairR=STRUCT([leg,T(3)(0.6),chair2])\n",
    "\n",
    "    \"\"\"array delle gambe del tavolo della mensa\"\"\"\n",
    "    legs=STRUCT([finaChair,T(2)(dy-chairXY),finaChair,T(2)(-(dy-chairXY)),\n",
    "                 T(2)((dy-chairXY)/2),finaChair,T(2)(-(dy-chairXY)/2),\n",
    "                 T(1)(dx-chairXY-chairZ),finaChairR,T(2)(dy-chairXY),finaChairR,\n",
    "                 T(2)(-(dy-chairXY)),\n",
    "                T(2)((dy-chairXY)/2),finaChairR,T(2)(-(dy-chairXY)/2)])\n",
    "    table= CUBOID([dx-chairXY,dy,chairZ])\n",
    "    table=STRUCT([table,T([1,2,3])([(dx-chairXY-4*chairZ)/2,(dy-chairXY)/2+chairZ*5,-0.8]),\n",
    "                  COLOR(GREY_GREEN)(CUBOID([0.2,0.1,0.8]))])\n",
    "   \n",
    "    return STRUCT([legs,tableBase3,T([1,3])([chairXY/2,1]),table])\n"
   ]
  },
  {
   "cell_type": "markdown",
   "metadata": {},
   "source": [
    "### Risultati tavolo\n",
    "\n",
    "![tavolo 1](https://github.com/adixia/ggpl-LAB/blob/master/2016-11-11/frame2.png?raw=true)\n",
    "\n",
    "![tavolo 2](https://github.com/adixia/ggpl-LAB/blob/master/2016-11-11/frame3.png?raw=true)\n",
    "\n",
    "![tavolo 3](https://github.com/adixia/ggpl-LAB/blob/master/2016-11-11/frame4.png?raw=true)\n"
   ]
  },
  {
   "cell_type": "markdown",
   "metadata": {},
   "source": [
    "### Banco dello studente\n",
    "\n",
    "Il banco dello studente è stato senza dubbio il componente piu facile da creare. Ricordando l'aspetto del mio banco di liceo, ho creato le quattro gambe con la funzione Cuboid. Per creare la struttura che le connettesse ho inspessito (con la funzione offset) lo scheletro di una polilyne quadrata di poco piu piccola del tavolo generetao. Infine ho creato il tavolo combinando gli hpc."
   ]
  },
  {
   "cell_type": "code",
   "execution_count": 4,
   "metadata": {
    "collapsed": false
   },
   "outputs": [],
   "source": [
    "\"\"\"my_school_table\n",
    "\n",
    "Dati in input lo spazio che la scrivania di uno o piu studenti può occupare,\n",
    "generea la scrivania;\n",
    "@param dx,dy,dz: spazio in metri\n",
    "@return: hpc della scrivania\n",
    "\"\"\"\n",
    "\n",
    "def my_school_table(dx,dy,dz):\n",
    "    \"\"\"spessore del tavolo su z\"\"\"\n",
    "    weight=0.03\n",
    "    \"\"\"struttura che regge il tavolo a cui sono attaccate le gambe\"\"\"\n",
    "    underStructure=MKPOL([[[0,0],[dx-weight*3,0],[dx-weight*3,dy-weight*3],[0,dy-weight*3]],[[1,2,3,4]],1])\n",
    "    underStructure=OFFSET([weight,weight])(SKEL_1(underStructure))\n",
    "    underStructure=PROD([underStructure,QUOTE([weight])])\n",
    "    underStructure=COLOR(BLACK)(STRUCT([T([1,2])([weight,weight]),underStructure]))\n",
    "    \n",
    "    table=COLOR(LIGHT_BROWN)(CUBOID([dx,dy,weight]))\n",
    "    \"\"\"parte superiore del tavolo\"\"\"\n",
    "    overTable=COLOR(TABLE)(CUBOID([dx,dy-weight*2,weight/10.0]))\n",
    "    table=STRUCT([T(3)(dz-weight*2),underStructure,T(3)(weight),table,T(3)(weight),overTable])\n",
    "    \"\"\"le gambe che sorreggono il tavolo\"\"\"\n",
    "    leg=CUBOID([weight,weight,dz-weight*2])\n",
    "    legs=COLOR(BLACK)(STRUCT([T([1,2])([weight,weight]),leg,T(2)(dy-weight*3),leg,T(1)(dx-weight*3),leg,T(2)(-dy+weight*3),leg]))\n",
    "    toReturn=STRUCT([legs,table])\n",
    "    return toReturn"
   ]
  },
  {
   "cell_type": "markdown",
   "metadata": {},
   "source": [
    "### Risultati banco dello studente\n",
    "\n",
    "![tavolo 1](https://github.com/adixia/ggpl-LAB/blob/master/2016-11-11/frame7.png?raw=true)\n",
    "\n",
    "![tavolo 1](https://github.com/adixia/ggpl-LAB/blob/master/2016-11-11/frame8.png?raw=true)\n",
    "\n",
    "![tavolo 1](https://github.com/adixia/ggpl-LAB/blob/master/2016-11-11/frame9.png?raw=true)"
   ]
  },
  {
   "cell_type": "markdown",
   "metadata": {},
   "source": [
    "### Cattedra del professore\n",
    "\n",
    "Anche per la cattedra del professore ho preso spunto, dalle mie reminescienze liceali. Nello specifico i miei professori sedevano su una cattedra dove erano ben visibili i piedi e con due cassetti dove mettevano il registro e altri documenti relativi alla classe.\n",
    "La cosa relativamente più impegnativa di questa struttura era generare dei cassetti che non fossero dei semplici quadrati ma delle strutture concave all'intero.\n",
    "Dopo aver creato la table_structures con dei cuboid attaccati fra loro, ho posato sopra di essa una tavola, cosi da formare la struttra principale della cattedra. Per i cassetti ho prima creato una struttura che li sostenesse la drawers_container, con tanto di separatore per i due casetti. Infine vi ho aggiunto i cassetti, i quali sono stati costruiti a partire da una poliline in 3 dimensioni inspessita con la funzione offset.\n"
   ]
  },
  {
   "cell_type": "code",
   "execution_count": 5,
   "metadata": {
    "collapsed": false
   },
   "outputs": [],
   "source": [
    "\"\"\"my_school_teaching_post\n",
    "\n",
    "Dati in input lo spazio che la cattedra di un professore può occupare,\n",
    "generea la cattedra con due casetti, uno dei due volutamente aperto;\n",
    "@param dx,dy,dz: spazio in metri\n",
    "@return: hpc della cattedra\n",
    "\"\"\"\n",
    "def my_school_teaching_post(dx,dy,dz):\n",
    "    \"\"\"spessore della scrivania\"\"\"\n",
    "    weight=0.03\n",
    "    \n",
    "    table=COLOR(LIGHT_BROWN)(CUBOID([dx,dy,weight]))\n",
    "    table_structures=STRUCT([T(3)(weight*4),CUBOID([dx,0.1,dz-weight*2-weight*4]),T(3)(-weight*4),\n",
    "                             T([1,2])([dx-weight,weight]),\n",
    "                             CUBOID([weight,dy-weight,dz-weight*2]),\n",
    "                            T([1,2])([-(dx-weight)]),CUBOID([weight,dy-weight,dz-weight*2])])\n",
    "    table_structures=COLOR(DARK_BROWN)(table_structures)\n",
    "    \n",
    "    \"\"\"I cassetti da inserire nel contenitore dei cassetti\"\"\"\n",
    "    drawers=MKPOL([[ [0,0,0],[((dx-weight*3.0)/2.0)-weight,0,0],[((dx-weight*3.0)/2.0)-weight,dy-weight*2,0],\n",
    "                    [0,dy-weight*2,0],[0,0,weight*3],[((dx-weight*3.0)/2.0)-weight,0,weight*3],\n",
    "                    [((dx-weight*3.0)/2.0)-weight,dy-weight*2,weight*3],\n",
    "                    [0,dy-weight*2,weight*3]],\n",
    "                   [[1,2,3,4],[1,4,5,8],[1,2,5,6],[2,3,6,7],[3,4,7,8]],1])\n",
    "    drawers=OFFSET([weight,weight,weight])(drawers)\n",
    "    drawers=COLOR(TABLE)(drawers)\n",
    "    openingOfDrawer=5\n",
    "    drawers=STRUCT([T(3)(weight),drawers,T([1,2])([(dx-weight*3.0)/2.0+weight,openingOfDrawer*weight]),drawers])\n",
    "\n",
    "\n",
    "    \"\"\"contenitore dei cassetti, si inserira fra la struttura che sorregge il \n",
    "    tavolo e la parte superiore del tavolo\"\"\"\n",
    "    drawers_container=(CUBOID([dx-weight*2,dy-weight,weight]))\n",
    "    drawers_container=COLOR(DARK_BROWN)(drawers_container)\n",
    "    drawers_container=STRUCT([drawers_container,T([1,3])([(dx-weight*3)/2.0,weight]),\n",
    "                              COLOR(DARK_BROWN)(CUBOID([weight,dy-weight,weight*4])),T([1,3])([-(dx-weight*3)/2.0,-weight]),\n",
    "                             drawers])\n",
    "    \n",
    "    table=STRUCT([table_structures,T(3)(dz-weight*2),table,T([1,2,3])([weight,weight,-weight*5]),drawers_container])\n",
    "\n",
    "    return table\n",
    "\n",
    "    "
   ]
  },
  {
   "cell_type": "markdown",
   "metadata": {},
   "source": [
    "### Risultati Cattedra \n",
    "\n",
    "![tavolo 3](https://github.com/adixia/ggpl-LAB/blob/master/2016-11-11/frame5.png?raw=true)\n",
    "\n",
    "![tavolo 3](https://github.com/adixia/ggpl-LAB/blob/master/2016-11-11/frame6.png?raw=true)\n",
    "\n",
    "![tavolo 3](https://github.com/adixia/ggpl-LAB/blob/master/2016-11-11/frame1.png?raw=true)\n"
   ]
  },
  {
   "cell_type": "markdown",
   "metadata": {},
   "source": [
    "### Lavagna\n",
    "\n",
    "Per aggiungere un altro oggetto alla collezione di mobili da scuola, ho creato questa funzione che genera una semplice lavagna ed il relativo contenitore per i gessi."
   ]
  },
  {
   "cell_type": "code",
   "execution_count": 8,
   "metadata": {
    "collapsed": false
   },
   "outputs": [],
   "source": [
    "\"\"\"my_school_blackboard\n",
    "\n",
    "Dati in input lo spazio che la lavagna può occupare,\n",
    "generea la lavagna e il contenitore dei gessi;\n",
    "@param dx,dy,dz: spazio in metri\n",
    "@return: hpc della lavagna\n",
    "\"\"\"\n",
    "def my_school_blackboard(dx,dy,dz):\n",
    "    weight=0.1\n",
    "    blackBoard=COLOR(LIGHT_BROWN)(CUBOID([dx,dy,dz]))\n",
    "    black=COLOR(BLACK)(CUBOID([dx/10,dy-weight*2,dz-weight*2]))\n",
    "    chok_container=MKPOL([[ [0,0,0],[dx,0,0],[dx,dx,0],[0,dx,0]\n",
    "                   ,[0,0,dx],[dx,0,dx],[dx,dx,dx],[0,dx,dx]],\n",
    "                   [[1,2,3,4],[1,4,5,8],[1,2,5,6],[2,3,6,7],[3,4,7,8]],1])\n",
    "   \n",
    "    chok_container=OFFSET([dx/10,dx/10,dx/10])(chok_container)\n",
    "    chok_container=COLOR(RED)(chok_container)\n",
    "    toReturn=STRUCT([blackBoard,T([1,2,3])([weight,weight,weight]),black,\n",
    "                     T([1,2,3])([-weight,-weight,-weight]),T(1)(dx),chok_container])\n",
    "    return toReturn"
   ]
  },
  {
   "cell_type": "markdown",
   "metadata": {},
   "source": [
    "### Risultati Lavagna\n",
    "\n",
    "![imagine 0](https://github.com/adixia/ggpl-LAB/blob/master/2016-11-11/frame10.png?raw=true)\n",
    "\n",
    "![imagine 0](https://github.com/adixia/ggpl-LAB/blob/master/2016-11-11/frame11.png?raw=true)"
   ]
  },
  {
   "cell_type": "markdown",
   "metadata": {
    "collapsed": true
   },
   "source": [
    "### Risultati e Test\n",
    "\n",
    "Seguono i test per generare le singole strutture, e l'hpc classroom per vedere la collezione di mobilio dislocata nello spazio.\n"
   ]
  },
  {
   "cell_type": "code",
   "execution_count": null,
   "metadata": {
    "collapsed": false
   },
   "outputs": [],
   "source": [
    "VIEW(my_school_canteen(2,4.3,1))\n",
    "VIEW(my_school_blackboard(0.1,4,2))\n",
    "VIEW(my_school_table(1.5,1,0.9))\n",
    "VIEW(my_school_teaching_post(1.5,0.9,0.9))\n",
    "\n",
    "classroom= STRUCT([COLOR(BROWN)(CUBOID([6,6,0.01])),T([1,2,3])([0,1,0.5]),my_school_blackboard(0.1,4,2),T([1,2,3])([2,-0.6,-0.5]),\n",
    "                   my_school_teaching_post(1.6,1,0.9),\n",
    "                   T([1,2,3])([1.3,2,0]),my_school_table(1.6,1.2,0.9),\n",
    "                   T([1,2,3])([-2,1.3,0]),my_school_canteen(1.7,2,0.9)])\n",
    "VIEW(classroom)\n",
    "    "
   ]
  },
  {
   "cell_type": "markdown",
   "metadata": {},
   "source": [
    "### Risultati Lavagna\n",
    "\n",
    "![imagine 0](https://github.com/adixia/ggpl-LAB/blob/master/2016-11-11/fram0.png?raw=true)\n",
    "\n",
    "![imagine 0](https://github.com/adixia/ggpl-LAB/blob/master/2016-11-11/frame12.png?raw=true)"
   ]
  },
  {
   "cell_type": "code",
   "execution_count": null,
   "metadata": {
    "collapsed": true
   },
   "outputs": [],
   "source": []
  }
 ],
 "metadata": {
  "anaconda-cloud": {},
  "kernelspec": {
   "display_name": "Python [conda root]",
   "language": "python",
   "name": "conda-root-py"
  },
  "language_info": {
   "codemirror_mode": {
    "name": "ipython",
    "version": 2
   },
   "file_extension": ".py",
   "mimetype": "text/x-python",
   "name": "python",
   "nbconvert_exporter": "python",
   "pygments_lexer": "ipython2",
   "version": "2.7.12"
  }
 },
 "nbformat": 4,
 "nbformat_minor": 1
}
