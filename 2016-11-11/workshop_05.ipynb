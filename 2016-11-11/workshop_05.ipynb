{
 "cells": [
  {
   "cell_type": "markdown",
   "metadata": {},
   "source": [
    "## Il Mio Tavolo della Mensa\n",
    "\n",
    "![tavolo esempio](http://www.idfdesign.it/immagini/tavoli-per-mensa/webby-w830-tavoli-monoblocco-3.jpg)\n"
   ]
  },
  {
   "cell_type": "code",
   "execution_count": 1,
   "metadata": {
    "collapsed": false
   },
   "outputs": [
    {
     "name": "stdout",
     "output_type": "stream",
     "text": [
      "Evaluating fenvs.py..\n",
      "...fenvs.py imported in 0.005142 seconds\n"
     ]
    }
   ],
   "source": [
    "from pyplasm import *"
   ]
  },
  {
   "cell_type": "code",
   "execution_count": null,
   "metadata": {
    "collapsed": false
   },
   "outputs": [],
   "source": [
    "def my_school_canteen(dx,dy,dz):\n",
    "  \n",
    "    chairXY=0.5\n",
    "    dy=dy\n",
    "    chairZ=0.05\n",
    "    \n",
    "    base_onY=[dy-chairXY]\n",
    "    base_onX=[0.1,-(dx-chairXY-4*chairZ),0.1]\n",
    "    base_onY=QUOTE(base_onY)\n",
    "    base_onX=QUOTE(base_onX)\n",
    "    a=PROD([base_onX,base_onY])\n",
    "    \n",
    "    base_onY=[-(dy-chairXY)/2,0.1]\n",
    "    base_onX=[-0.1,(dx-chairXY-4*chairZ)]\n",
    "    \n",
    "    base_onY=QUOTE(base_onY)\n",
    "    base_onX=QUOTE(base_onX)\n",
    "    b=PROD([base_onX,base_onY])\n",
    "    c=QUOTE([-(0.2),0.18])\n",
    "    b=STRUCT([T([1,2])([chairXY/2,chairXY/2]),a,b])\n",
    "    c=PROD([b,c])\n",
    "    \n",
    "    leg=PROD([CIRCLE(0.1)([60,1]),QUOTE([0.5])])\n",
    "    leg2=COLOR(BLACK)(PROD([CIRCLE(0.11)([60,1]),QUOTE([0.1])]))\n",
    "    leg3=(PROD([CIRCLE(0.05)([60,1]),QUOTE([0.1])]))\n",
    "    depth_chair=0.1\n",
    "    \n",
    "    chair=STRUCT([T(3)(0.1),\n",
    "        COLOR(GREEN)(CUBOID([chairXY,chairXY, chairZ])),\n",
    "        COLOR(GREEN)(CUBOID([chairZ,chairXY,0.6]))])\n",
    "\n",
    "    chair2=STRUCT([T(3)(0.1),COLOR(GREEN)(CUBOID([chairXY,chairXY, chairZ])),\n",
    "                                        T(1)(chairXY),COLOR(GREEN)(CUBOID([chairZ,chairXY,0.6]))])\n",
    "    \n",
    "    leg=STRUCT([T([1,2])([chairXY/2,chairXY/2]),leg,T(3)(0.5),leg2,T(3)(0.1),leg3,\n",
    "                T([1,2])([-chairXY/2,-chairXY/2])])\n",
    "    \n",
    "    finaChair=STRUCT([leg,T(3)(0.6),chair])\n",
    "    finaChairR=STRUCT([leg,T(3)(0.6),chair2])\n",
    "    \n",
    "    stack=T(2)(chairZ*4)\n",
    "    stackN=T(2)(-chairZ*4)\n",
    "    legs=STRUCT([stack,finaChair,stackN,T(2)(dy-chairXY),finaChair,T(2)(-(dy-chairXY)), T(1)(dx-chairXY-chairZ),finaChairR,T(2)(dy-chairXY),finaChairR])\n",
    "    table= CUBOID([dx-chairXY,dy,chairZ])\n",
    "    table=STRUCT([table,T([1,2,3])([(dx-chairXY-4*chairZ)/2,(dy-chairXY)/2+chairZ*5,-0.8]),CUBOID([0.2,0.1,0.8])])\n",
    "    VIEW(STRUCT([legs,c,T([1,3])([chairXY/2,1]),table]))\n",
    "    VIEW(SKEL_1(STRUCT([legs,c,CUBOID([dx,dy,dz])])))\n",
    "    \n",
    "    #VIEW(c)\n",
    "    \n",
    "    "
   ]
  },
  {
   "cell_type": "code",
   "execution_count": null,
   "metadata": {
    "collapsed": false
   },
   "outputs": [],
   "source": [
    "my_school_canteen(2,3,1)"
   ]
  },
  {
   "cell_type": "code",
   "execution_count": null,
   "metadata": {
    "collapsed": true
   },
   "outputs": [],
   "source": []
  },
  {
   "cell_type": "code",
   "execution_count": null,
   "metadata": {
    "collapsed": true
   },
   "outputs": [],
   "source": []
  },
  {
   "cell_type": "code",
   "execution_count": null,
   "metadata": {
    "collapsed": true
   },
   "outputs": [],
   "source": []
  }
 ],
 "metadata": {
  "anaconda-cloud": {},
  "kernelspec": {
   "display_name": "Python [conda root]",
   "language": "python",
   "name": "conda-root-py"
  },
  "language_info": {
   "codemirror_mode": {
    "name": "ipython",
    "version": 2
   },
   "file_extension": ".py",
   "mimetype": "text/x-python",
   "name": "python",
   "nbconvert_exporter": "python",
   "pygments_lexer": "ipython2",
   "version": "2.7.12"
  }
 },
 "nbformat": 4,
 "nbformat_minor": 1
}
