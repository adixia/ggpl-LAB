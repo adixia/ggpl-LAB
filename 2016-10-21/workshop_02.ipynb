{
 "cells": [
  {
   "cell_type": "code",
   "execution_count": 1,
   "metadata": {
    "collapsed": false
   },
   "outputs": [
    {
     "name": "stdout",
     "output_type": "stream",
     "text": [
      "Evaluating fenvs.py..\n",
      "...fenvs.py imported in 0.004771 seconds\n"
     ]
    }
   ],
   "source": [
    "from pyplasm import *\n",
    "import csv"
   ]
  },
  {
   "cell_type": "markdown",
   "metadata": {},
   "source": [
    "# Homework 02 - Alessandro Oddi"
   ]
  },
  {
   "cell_type": "markdown",
   "metadata": {},
   "source": [
    "## Immagine di Riferimento"
   ]
  },
  {
   "cell_type": "markdown",
   "metadata": {},
   "source": [
    "![imagine](http://systemgvp.altervista.org/images/immagini/lavori/struttura_3.jpg)"
   ]
  },
  {
   "cell_type": "markdown",
   "metadata": {},
   "source": [
    "## Codice per creare il singolo reticolo da File csv"
   ]
  },
  {
   "cell_type": "code",
   "execution_count": 2,
   "metadata": {
    "collapsed": false
   },
   "outputs": [],
   "source": [
    "def createBeamsAndPillars(beamSec,pillarSec,distanceBtwPill,eightsBeam):\n",
    "    maxHeight= SUM(eightsBeam)+beamSec[1]\n",
    "    pillarLong=CUBOID([pillarSec[0],pillarSec[1],maxHeight]) \n",
    "    pillars=[]\n",
    "    floor=[]\n",
    "   \n",
    "    for d in range(len(distanceBtwPill)):\n",
    "        pillars.append(pillarLong)\n",
    "        floor.append(T(2)(pillarSec[1]))\n",
    "        \n",
    "        for h in range(0,len(eightsBeam)):\n",
    "            beam=CUBOID([beamSec[0],distanceBtwPill[d],beamSec[1]])\n",
    "            floor.append(T(3)(eightsBeam[h]))\n",
    "            floor.append(beam)\n",
    "       \n",
    "    \n",
    "        floor.append(T(2)(pillarSec[1]))  \n",
    "        img=STRUCT(floor) \n",
    "        floor=[]\n",
    "        pillars.append(img)\n",
    "        img=[]\n",
    "        pillars.append(T(2)(distanceBtwPill[d]+pillarSec[1]))\n",
    "        \n",
    "    \n",
    "    pillars.append(pillarLong)\n",
    "    final=STRUCT(pillars)\n",
    "    return final"
   ]
  },
  {
   "cell_type": "markdown",
   "metadata": {},
   "source": [
    "## Metodo ausiliario richiesto nell'HW 01"
   ]
  },
  {
   "cell_type": "code",
   "execution_count": 3,
   "metadata": {
    "collapsed": false
   },
   "outputs": [],
   "source": [
    "def ggpl_bone_structure(file_name):\n",
    "    \n",
    "    beamAndPillar=[]\n",
    "    translation=[]\n",
    "    odd=True\n",
    "    with open(file_name, 'rb') as csvfile:\n",
    "        spamreader = csv.reader(csvfile, delimiter=',', quotechar='|')\n",
    "        for row in spamreader:\n",
    "            if(odd):\n",
    "                x=float(row[0])\n",
    "                y=float(row[1])\n",
    "                z=float(row[2])\n",
    "                tripla=(x,y,z)\n",
    "                translation.append(tripla)\n",
    "                odd=False\n",
    "                \n",
    "            else:\n",
    "                element1= (float(row[0]),float(row[1]))\n",
    "                element2= (float(row[2]),float(row[3]))\n",
    "                element3=[]\n",
    "                element4=[]\n",
    "                cont1=int(row[4])\n",
    "                for i in range(0,cont1):\n",
    "                    element3.append(float(row[5+i]))\n",
    "                cont2=int(row[5+cont1])\n",
    "                for i in range(0,cont2):\n",
    "                    element4.append(float(row[6+cont1+i]))\n",
    "                \n",
    "                obj=[]\n",
    "                obj.append(element1)\n",
    "                obj.append(element2)\n",
    "                obj.append(element3)\n",
    "                obj.append(element4)\n",
    "                beamAndPillar.append(obj)\n",
    "                \n",
    "                odd=True\n",
    "                      \n",
    "    return combineStructAndTranslation(beamAndPillar,translation)\n"
   ]
  },
  {
   "cell_type": "markdown",
   "metadata": {},
   "source": [
    "## Metodo che combina traslazioni e Reticoli\n",
    "Raccolte le informazioni dal file csv si procede trasnlando i reticoli e concatenandoli grazie al metodo che segue"
   ]
  },
  {
   "cell_type": "code",
   "execution_count": 4,
   "metadata": {
    "collapsed": true
   },
   "outputs": [],
   "source": [
    "def combineStructAndTranslation(beamAndPillar,translation):\n",
    "    building=[]\n",
    "    for i in range(0,len(translation)):\n",
    "        vx=translation[i][0]\n",
    "        vy=translation[i][1]\n",
    "        vz=translation[i][2]\n",
    "    \n",
    "        building.append(T(1)(vx))\n",
    "        building.append(T(2)(vy))\n",
    "        building.append(T(3)(vz))\n",
    "        frame=beamAndPillar[i]\n",
    "\n",
    "        building.append(createBeamsAndPillars(frame[0],frame[1],frame[2],frame[3]))\n",
    "\n",
    "    img=STRUCT(building)\n",
    "    \n",
    "    \n",
    "    return connectFrames(img,beamAndPillar,translation)\n",
    "    "
   ]
  },
  {
   "cell_type": "markdown",
   "metadata": {},
   "source": [
    "## Gestione delle Travi che uniscono i Reticoli\n",
    "Si entra in un loop sulle traslazioni: finche c'è una traslazione vengono generate travi.\n",
    "Le travi sono generate gravie ai vettori x,y,z, cosi formati:\n",
    "\n",
    "* x = (larghezza su x del pilastro, distanza traslazione sul piano x)\n",
    "* y = (0, larghezza su y del pilastro)\n",
    "* z = (altezza del pilastro corrente, dimenzione su z del pilastro)\n",
    "\n",
    "Vengono gestite solamente le strutture con connessioni ortogonali. In questo codice non viene utilizzata la funzione QUOTE per gestire la \"parametrizzazione\" delle travi rispetto alla lunghezza delle liste di distanze su y e z."
   ]
  },
  {
   "cell_type": "code",
   "execution_count": null,
   "metadata": {
    "collapsed": false
   },
   "outputs": [],
   "source": [
    "def connectFrames(img,beamAndPillar,translation):\n",
    "    \n",
    "    beamConnection=[]\n",
    "    translateSum=0\n",
    "    vx=translation[0][0]\n",
    "    vy=translation[0][1]\n",
    "    vz=translation[0][2]\n",
    "    beamConnection.append(T(1)(vx))\n",
    "    beamConnection.append(T(2)(vy))\n",
    "    beamConnection.append(T(3)(vz))\n",
    "    \n",
    "    for t in range(1,len(translation)):\n",
    "        \n",
    "        floorSum=0\n",
    "        frame=beamAndPillar[t]\n",
    "        for floor in frame[3]:\n",
    "            x=(-frame[1][0],translation[t][0]-frame[1][0])\n",
    "            y=(0,frame[1][1])\n",
    "            floorSum=floorSum+floor\n",
    "            z=(-floorSum,frame[0][1])\n",
    "            a=QUOTE(x*1)\n",
    "            b=QUOTE(y*1)\n",
    "            c=QUOTE(z*1)\n",
    "            aa=PROD([a,b])\n",
    "            aaa=PROD([aa,c])\n",
    "            for distance in frame[2]:\n",
    "                beamConnection.append(aaa)\n",
    "                beamConnection.append(T(2)(distance+frame[1][1]))\n",
    "                allDistance=distance+frame[1][1] \n",
    "            beamConnection.append(aaa)\n",
    "            allDistance=allDistance+distance\n",
    "            if(vx!=0 and vy!=0):\n",
    "                beamConnection.append(T(2)(-allDistance+vx))\n",
    "            if(vx!=0 and vy==0):\n",
    "                beamConnection.append(T(2)(-(allDistance/2)-(frame[1][1]/2)))\n",
    "            if(vx==0 and vy==0):\n",
    "                beamConnection.append(T(2)(-allDistance-frame[1][1])) \n",
    "                \n",
    "        beamConnection.append(T(1)(translation[t][0]))\n",
    "                               \n",
    "    beamConnection=STRUCT(beamConnection)  \n",
    "    img2=STRUCT([img,beamConnection])  \n",
    "    \n",
    "    return img2"
   ]
  },
  {
   "cell_type": "markdown",
   "metadata": {},
   "source": [
    "## Creazione della Struttura\n",
    "Al fine di realizare una struttura simile a quella di riferimento ho scritto tre diversi file csv in cui venivano descritti le tre componenti principali della mia struttura: a,b,c.\n",
    "La scelta di suddividere i file csv è dovuta al fatto che la mia struttura di riferimento presenta una sezione concava; quindi, per non rendere ancora più complicato un codice già complicato di suo, mi è risultato più semplice suddividere le fondamenta in tre componenti, e poi ri-accorparle insieme una volta create."
   ]
  },
  {
   "cell_type": "code",
   "execution_count": null,
   "metadata": {
    "collapsed": false
   },
   "outputs": [],
   "source": [
    "a=ggpl_bone_structure(\"framedata_461980.csv\")\n",
    "b=ggpl_bone_structure(\"framedata_461980pt1.csv\")\n",
    "c=ggpl_bone_structure(\"framedata_461980pt2.csv\")\n",
    "abc=[]\n",
    "abc.append(a)\n",
    "abc.append(b)\n",
    "abc.append(c)\n",
    "abc=STRUCT(abc)\n",
    "VIEW(abc)\n",
    "return abc"
   ]
  },
  {
   "cell_type": "markdown",
   "metadata": {
    "collapsed": true
   },
   "source": [
    "## Risultati e Conclusioni\n",
    "Seguono gli screen del risultato ottenuto che, eccezione fatta per il numero di piani volutamente aumentato, rispetta appienno il modello e e le proporzioni della struttura in cemento armato scelta come riferimento (http://systemgvp.altervista.org/images/immagini/lavori/struttura_3.jpg)\n",
    "\n",
    "### Conclusioni\n",
    "Per quanto riguarda il codice in sé per sé, sono pienamente convinto si potesse fare di meglio, sia dal punto di vista della complessita, sia per liberarsi dei cicli e per utilizzare unicamente le funzioni QUOTE e PRODU nella generazione delle travi. \n",
    "Spero nelle prossime settimane di riuscire a implementare la funzione ***connectFramesV2(img,beamAndPillar,translation)*** che produca gli stessi risultati senza l'utilizzo di molti cicli\n",
    "  \n",
    "### Screen del risultato\n",
    "![risultato 1](https://s21.postimg.org/oky0ssqh3/Schermata_2016_10_22_alle_17_10_02.png)\n",
    "![risultato 2](https://s21.postimg.org/lfdf2l7uv/Schermata_2016_10_22_alle_17_09_45.png)\n",
    "![risultato 3](https://s21.postimg.org/hka100op3/Schermata_2016_10_22_alle_17_06_55.png)"
   ]
  },
  {
   "cell_type": "code",
   "execution_count": null,
   "metadata": {
    "collapsed": true
   },
   "outputs": [],
   "source": [
    "def connectFramesV2(img,beamAndPillar,translation):\n",
    "    #da implementare per migliorare l'efficenza\n",
    "    return 0"
   ]
  },
  {
   "cell_type": "code",
   "execution_count": null,
   "metadata": {
    "collapsed": true
   },
   "outputs": [],
   "source": []
  },
  {
   "cell_type": "code",
   "execution_count": null,
   "metadata": {
    "collapsed": true
   },
   "outputs": [],
   "source": []
  },
  {
   "cell_type": "code",
   "execution_count": null,
   "metadata": {
    "collapsed": true
   },
   "outputs": [],
   "source": []
  }
 ],
 "metadata": {
  "anaconda-cloud": {},
  "kernelspec": {
   "display_name": "Python [default]",
   "language": "python",
   "name": "python2"
  },
  "language_info": {
   "codemirror_mode": {
    "name": "ipython",
    "version": 2
   },
   "file_extension": ".py",
   "mimetype": "text/x-python",
   "name": "python",
   "nbconvert_exporter": "python",
   "pygments_lexer": "ipython2",
   "version": "2.7.12"
  }
 },
 "nbformat": 4,
 "nbformat_minor": 1
}
