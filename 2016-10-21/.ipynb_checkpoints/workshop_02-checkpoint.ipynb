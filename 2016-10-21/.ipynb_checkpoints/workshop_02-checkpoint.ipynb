{
 "cells": [
  {
   "cell_type": "code",
   "execution_count": 1,
   "metadata": {
    "collapsed": false
   },
   "outputs": [
    {
     "name": "stdout",
     "output_type": "stream",
     "text": [
      "Evaluating fenvs.py..\n",
      "...fenvs.py imported in 0.005704 seconds\n"
     ]
    }
   ],
   "source": [
    "from pyplasm import *\n",
    "import csv"
   ]
  },
  {
   "cell_type": "markdown",
   "metadata": {},
   "source": [
    "## Immagine di Riferimento"
   ]
  },
  {
   "cell_type": "markdown",
   "metadata": {},
   "source": [
    "![imagine](http://systemgvp.altervista.org/images/immagini/lavori/struttura_3.jpg)"
   ]
  },
  {
   "cell_type": "markdown",
   "metadata": {},
   "source": [
    "## Codice per creare il singolo reticolo"
   ]
  },
  {
   "cell_type": "code",
   "execution_count": 11,
   "metadata": {
    "collapsed": false
   },
   "outputs": [],
   "source": [
    "def createBeamsAndPillars(beamSec,pillarSec,distanceBtwPill,eightsBeam):\n",
    "    maxHeight= SUM(eightsBeam)+beamSec[1]\n",
    "    pillarLong=CUBOID([pillarSec[0],pillarSec[1],maxHeight]) \n",
    "    pillars=[]\n",
    "    floor=[]\n",
    "   \n",
    "    for d in range(len(distanceBtwPill)):\n",
    "        pillars.append(pillarLong)\n",
    "        floor.append(T(2)(pillarSec[1]))\n",
    "        \n",
    "        for h in range(0,len(eightsBeam)):\n",
    "            beam=CUBOID([beamSec[0],distanceBtwPill[d],beamSec[1]])\n",
    "            floor.append(T(3)(eightsBeam[h]))\n",
    "            floor.append(beam)\n",
    "       \n",
    "    \n",
    "        floor.append(T(2)(pillarSec[1]))  \n",
    "        img=STRUCT(floor) \n",
    "        floor=[]\n",
    "        #if d != len(distanceBtwPill):\n",
    "        pillars.append(img)\n",
    "        img=[]\n",
    "        pillars.append(T(2)(distanceBtwPill[d]+pillarSec[1]))\n",
    "        \n",
    "    \n",
    "    pillars.append(pillarLong)\n",
    "    final=STRUCT(pillars)\n",
    "    return final"
   ]
  },
  {
   "cell_type": "markdown",
   "metadata": {},
   "source": []
  },
  {
   "cell_type": "code",
   "execution_count": 12,
   "metadata": {
    "collapsed": false
   },
   "outputs": [],
   "source": [
    "def ggpl_bone_structure(file_name):\n",
    "    \n",
    "    beamAndPillar=[]\n",
    "    translation=[]\n",
    "    odd=True\n",
    "    with open(file_name, 'rb') as csvfile:\n",
    "        spamreader = csv.reader(csvfile, delimiter=',', quotechar='|')\n",
    "        for row in spamreader:\n",
    "            if(odd):\n",
    "                x=float(row[0])\n",
    "                y=float(row[1])\n",
    "                z=float(row[2])\n",
    "                tripla=(x,y,z)\n",
    "                translation.append(tripla)\n",
    "                odd=False\n",
    "                \n",
    "            else:\n",
    "                element1= (float(row[0]),float(row[1]))\n",
    "                element2= (float(row[2]),float(row[3]))\n",
    "                element3=[]\n",
    "                element4=[]\n",
    "                cont1=int(row[4])\n",
    "                for i in range(0,cont1):\n",
    "                    element3.append(float(row[5+i]))\n",
    "                cont2=int(row[5+cont1])\n",
    "                for i in range(0,cont2):\n",
    "                    element4.append(float(row[6+cont1+i]))\n",
    "                \n",
    "                obj=[]\n",
    "                obj.append(element1)\n",
    "                obj.append(element2)\n",
    "                obj.append(element3)\n",
    "                obj.append(element4)\n",
    "                beamAndPillar.append(obj)\n",
    "                \n",
    "                odd=True\n",
    "                      \n",
    "    combineStructAndTranslation(beamAndPillar,translation)\n",
    "    return 0"
   ]
  },
  {
   "cell_type": "code",
   "execution_count": 27,
   "metadata": {
    "collapsed": true
   },
   "outputs": [],
   "source": [
    "def combineStructAndTranslation(beamAndPillar,translation):\n",
    "    building=[]\n",
    "    for i in range(0,len(translation)):\n",
    "        vx=translation[i][0]\n",
    "        vy=translation[i][1]\n",
    "        vz=translation[i][2]\n",
    "    \n",
    "        building.append(T(1)(vx))\n",
    "        building.append(T(2)(vy))\n",
    "        building.append(T(3)(vz))\n",
    "        frame=beamAndPillar[i]\n",
    "\n",
    "        building.append(createBeamsAndPillars(frame[0],frame[1],frame[2],frame[3]))\n",
    "\n",
    "    img=STRUCT(building)\n",
    "    VIEW(img)\n",
    "    return 0"
   ]
  },
  {
   "cell_type": "code",
   "execution_count": null,
   "metadata": {
    "collapsed": false
   },
   "outputs": [],
   "source": [
    "ggpl_bone_structure(\"framedata_461980.csv\")"
   ]
  },
  {
   "cell_type": "code",
   "execution_count": null,
   "metadata": {
    "collapsed": true
   },
   "outputs": [],
   "source": []
  },
  {
   "cell_type": "code",
   "execution_count": null,
   "metadata": {
    "collapsed": true
   },
   "outputs": [],
   "source": []
  },
  {
   "cell_type": "code",
   "execution_count": null,
   "metadata": {
    "collapsed": true
   },
   "outputs": [],
   "source": []
  }
 ],
 "metadata": {
  "anaconda-cloud": {},
  "kernelspec": {
   "display_name": "Python [default]",
   "language": "python",
   "name": "python2"
  },
  "language_info": {
   "codemirror_mode": {
    "name": "ipython",
    "version": 2
   },
   "file_extension": ".py",
   "mimetype": "text/x-python",
   "name": "python",
   "nbconvert_exporter": "python",
   "pygments_lexer": "ipython2",
   "version": "2.7.12"
  }
 },
 "nbformat": 4,
 "nbformat_minor": 1
}
